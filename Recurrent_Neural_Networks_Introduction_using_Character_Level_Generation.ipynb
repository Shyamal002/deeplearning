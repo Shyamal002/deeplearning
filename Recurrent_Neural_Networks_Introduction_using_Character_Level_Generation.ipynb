{
  "nbformat": 4,
  "nbformat_minor": 0,
  "metadata": {
    "colab": {
      "name": "Recurrent Neural Networks Introduction using Character Level Generation.ipynb",
      "provenance": [],
      "collapsed_sections": [],
      "toc_visible": true,
      "include_colab_link": true
    },
    "kernelspec": {
      "name": "python3",
      "display_name": "Python 3"
    }
  },
  "cells": [
    {
      "cell_type": "markdown",
      "metadata": {
        "id": "view-in-github",
        "colab_type": "text"
      },
      "source": [
        "<a href=\"https://colab.research.google.com/github/datasigntist/deeplearning/blob/master/Recurrent_Neural_Networks_Introduction_using_Character_Level_Generation.ipynb\" target=\"_parent\"><img src=\"https://colab.research.google.com/assets/colab-badge.svg\" alt=\"Open In Colab\"/></a>"
      ]
    },
    {
      "cell_type": "markdown",
      "metadata": {
        "id": "UZsfP0c0Y6gu",
        "colab_type": "text"
      },
      "source": [
        "# **Recurrent Neural Networks Introduction**\n",
        "\n",
        "**Author**: Vishwanathan Raman\n",
        "**Email**: datasigntist@gmail.com\n",
        "\n",
        "\n",
        "---\n",
        "\n",
        "\n",
        "**Change History**\n",
        "\n",
        "\n",
        "*   17-Oct-2019 -- Initial Creation\n",
        "\n",
        "\n",
        "---\n",
        "\n",
        "**Credits**\n",
        "The code articulated here has been inspired from coursera deeplearning.ai Assignments\n",
        "\n",
        "\n",
        "---\n",
        "\n",
        "**Use Case Description**\n",
        "\n",
        "This notebook develops a recurrent neural network (rnn) on names of dinosaurs using Character Level Generation. The number of characters or the vocabulary size is all the alphabets and the new line character. The new line character serves as the end point till which the rnn will be applied. \n",
        "\n",
        "At certain intervals, dinosaur names are randomly generated using the developed rnn. In the initial iterations, you will find gibberish but progressively you will find the right words appearing\n",
        "\n",
        "RNN is its simplest form looks like a diagram from circuit theory. LSTM and GRN is an extension of simplistic RNN. \n",
        "\n",
        "\n",
        "\n",
        "---\n",
        "\n",
        "\n",
        "**Other Learning Resources**\n",
        "\n",
        "The following youtube playlist lists all the concepts related to Deep Learning \n",
        "\n",
        "\n",
        "*   https://www.youtube.com/watch?v=yEfsDHymL0w&list=PLZnyIsit9AM7yeTZuBmezKNc6hFHUPImh\n",
        "*   https://www.youtube.com/watch?v=YgpI2aROLlo&list=PLZnyIsit9AM7HBPn6m06ddzw_N9zGk--2\n",
        "*   https://www.youtube.com/watch?v=186rxP6qfJA&list=PLZnyIsit9AM7VI4ylALdbeS93i-nonUzZ\n",
        "\n",
        "\n",
        "\n",
        "\n"
      ]
    },
    {
      "cell_type": "markdown",
      "metadata": {
        "id": "aRf5VDW8k1jS",
        "colab_type": "text"
      },
      "source": [
        "## **Importing Libraries**"
      ]
    },
    {
      "cell_type": "code",
      "metadata": {
        "id": "jpg6K57VcFNl",
        "colab_type": "code",
        "colab": {}
      },
      "source": [
        "import numpy as np\n",
        "import random"
      ],
      "execution_count": 0,
      "outputs": []
    },
    {
      "cell_type": "markdown",
      "metadata": {
        "id": "gg7MNF5e8RIN",
        "colab_type": "text"
      },
      "source": [
        "## **Simplistic RNN**\n",
        "\n",
        "![alt text](https://github.com/datasigntist/imagesforNotebook/blob/master/RNN%20Cell.png?raw=true)"
      ]
    },
    {
      "cell_type": "markdown",
      "metadata": {
        "id": "dUK_-IK784P1",
        "colab_type": "text"
      },
      "source": [
        "## **RNN Network**\n",
        "\n",
        "This is a train of RNN Cells. Analogy for a RNN network could be a train with its compartments.\n",
        "\n",
        "![alt text](https://github.com/datasigntist/imagesforNotebook/blob/master/RNN%20Network.png?raw=true)"
      ]
    },
    {
      "cell_type": "markdown",
      "metadata": {
        "id": "5MAIiOqVk8Hv",
        "colab_type": "text"
      },
      "source": [
        "## **Importing and Exploring Dataset**"
      ]
    },
    {
      "cell_type": "code",
      "metadata": {
        "id": "WgBYyZLQlLXF",
        "colab_type": "code",
        "outputId": "a2709801-5f5e-4632-f92a-a6f50b68b6ad",
        "colab": {
          "base_uri": "https://localhost:8080/",
          "height": 224
        }
      },
      "source": [
        "!wget \"https://raw.githubusercontent.com/datasigntist/datasetsForTraining/master/dinos.txt\""
      ],
      "execution_count": 21,
      "outputs": [
        {
          "output_type": "stream",
          "text": [
            "--2019-10-28 06:55:55--  https://raw.githubusercontent.com/datasigntist/datasetsForTraining/master/dinos.txt\n",
            "Resolving raw.githubusercontent.com (raw.githubusercontent.com)... 151.101.0.133, 151.101.64.133, 151.101.128.133, ...\n",
            "Connecting to raw.githubusercontent.com (raw.githubusercontent.com)|151.101.0.133|:443... connected.\n",
            "HTTP request sent, awaiting response... 200 OK\n",
            "Length: 19909 (19K) [text/plain]\n",
            "Saving to: ‘dinos.txt.1’\n",
            "\n",
            "\rdinos.txt.1           0%[                    ]       0  --.-KB/s               \rdinos.txt.1         100%[===================>]  19.44K  --.-KB/s    in 0.01s   \n",
            "\n",
            "2019-10-28 06:55:55 (1.94 MB/s) - ‘dinos.txt.1’ saved [19909/19909]\n",
            "\n"
          ],
          "name": "stdout"
        }
      ]
    },
    {
      "cell_type": "code",
      "metadata": {
        "id": "bDUyKIdrlCsV",
        "colab_type": "code",
        "outputId": "3f9246f7-300b-4a19-ba06-90c846c621b0",
        "colab": {
          "base_uri": "https://localhost:8080/",
          "height": 34
        }
      },
      "source": [
        "data = open(\"dinos.txt\", 'r').read()\n",
        "data= data.lower()\n",
        "chars = list(set(data))\n",
        "data_size, vocab_size = len(data), len(chars)\n",
        "print('There are %d total characters and %d unique characters in your data.' % (data_size, vocab_size))"
      ],
      "execution_count": 3,
      "outputs": [
        {
          "output_type": "stream",
          "text": [
            "There are 19909 total characters and 27 unique characters in your data.\n"
          ],
          "name": "stdout"
        }
      ]
    },
    {
      "cell_type": "code",
      "metadata": {
        "id": "Y-_JfD-zn2YJ",
        "colab_type": "code",
        "outputId": "156abd6c-4c3b-4e0e-99c3-ab3df1add6d9",
        "colab": {
          "base_uri": "https://localhost:8080/",
          "height": 34
        }
      },
      "source": [
        "dinoData = data.split(\"\\n\")\n",
        "print(\"There are a total of \",len(dinoData),\" dinosaur names\")"
      ],
      "execution_count": 4,
      "outputs": [
        {
          "output_type": "stream",
          "text": [
            "There are a total of  1536  dinosaur names\n"
          ],
          "name": "stdout"
        }
      ]
    },
    {
      "cell_type": "code",
      "metadata": {
        "id": "8ERH3H7VokIl",
        "colab_type": "code",
        "colab": {}
      },
      "source": [
        "char_to_ix = { ch:i for i,ch in enumerate(sorted(chars)) }\n",
        "ix_to_char = { i:ch for i,ch in enumerate(sorted(chars)) }"
      ],
      "execution_count": 0,
      "outputs": []
    },
    {
      "cell_type": "code",
      "metadata": {
        "id": "fIAAOimLon6O",
        "colab_type": "code",
        "outputId": "283c76de-9301-4e82-e084-4b88cc7ce81f",
        "colab": {
          "base_uri": "https://localhost:8080/",
          "height": 71
        }
      },
      "source": [
        "print(char_to_ix)\n",
        "print(ix_to_char)"
      ],
      "execution_count": 31,
      "outputs": [
        {
          "output_type": "stream",
          "text": [
            "{'\\n': 0, 'a': 1, 'b': 2, 'c': 3, 'd': 4, 'e': 5, 'f': 6, 'g': 7, 'h': 8, 'i': 9, 'j': 10, 'k': 11, 'l': 12, 'm': 13, 'n': 14, 'o': 15, 'p': 16, 'q': 17, 'r': 18, 's': 19, 't': 20, 'u': 21, 'v': 22, 'w': 23, 'x': 24, 'y': 25, 'z': 26}\n",
            "{0: '\\n', 1: 'a', 2: 'b', 3: 'c', 4: 'd', 5: 'e', 6: 'f', 7: 'g', 8: 'h', 9: 'i', 10: 'j', 11: 'k', 12: 'l', 13: 'm', 14: 'n', 15: 'o', 16: 'p', 17: 'q', 18: 'r', 19: 's', 20: 't', 21: 'u', 22: 'v', 23: 'w', 24: 'x', 25: 'y', 26: 'z'}\n"
          ],
          "name": "stdout"
        }
      ]
    },
    {
      "cell_type": "markdown",
      "metadata": {
        "id": "OW4bxWTSKUpW",
        "colab_type": "text"
      },
      "source": [
        "Lets take the simplest dinosaur name. As you can see here \"Mei\" is a dinosaur which is of shortest length. You can find more details about \"Mei\" here https://www.nature.com/news/2004/041011/full/news041011-7.html. \n",
        "\n",
        "Here we are looking to build a model that can auto generate a dinosaur name. In order to do that we need to go over the existing dinosaur names and find the pattern. Each letter in the dinosaur name appears in a specific sequence and is not random. Hence a sequence modelling is applied where each character is sent through the recurrent neural network. Each character is an input at a specific time step. Each character is represented by its respective one hot encoding vector which is given as the input into the network.\n",
        "\n",
        "This is reflected in the diagram below. The one hot encoding vector shows the place where 1 is enabled in the vector of zeros. For each dinosaur name this step is repeated and the weights are optimized across the iterations.\n"
      ]
    },
    {
      "cell_type": "code",
      "metadata": {
        "id": "s7K4v71VJxhN",
        "colab_type": "code",
        "colab": {
          "base_uri": "https://localhost:8080/",
          "height": 170
        },
        "outputId": "89c675c0-cde8-4663-92d5-75665fb39962"
      },
      "source": [
        "dinoName = [elem for elem in dinoData if len(elem) == min([len(elem) for elem in dinoData])]\n",
        "dinoNameElements = [elem for elem in dinoName[0]]\n",
        "for elem in dinoNameElements:\n",
        "  dinoVector = np.zeros((27,1))\n",
        "  dinoVector[char_to_ix[elem]] = 1\n",
        "  print(\"character :\",elem,\"\\n one hot vector : \",dinoVector.T.ravel())"
      ],
      "execution_count": 60,
      "outputs": [
        {
          "output_type": "stream",
          "text": [
            "character : m \n",
            " one hot vector :  [0. 0. 0. 0. 0. 0. 0. 0. 0. 0. 0. 0. 0. 1. 0. 0. 0. 0. 0. 0. 0. 0. 0. 0.\n",
            " 0. 0. 0.]\n",
            "character : e \n",
            " one hot vector :  [0. 0. 0. 0. 0. 1. 0. 0. 0. 0. 0. 0. 0. 0. 0. 0. 0. 0. 0. 0. 0. 0. 0. 0.\n",
            " 0. 0. 0.]\n",
            "character : i \n",
            " one hot vector :  [0. 0. 0. 0. 0. 0. 0. 0. 0. 1. 0. 0. 0. 0. 0. 0. 0. 0. 0. 0. 0. 0. 0. 0.\n",
            " 0. 0. 0.]\n"
          ],
          "name": "stdout"
        }
      ]
    },
    {
      "cell_type": "markdown",
      "metadata": {
        "id": "F345wYQZS3QS",
        "colab_type": "text"
      },
      "source": [
        "![alt text](https://github.com/datasigntist/imagesforNotebook/blob/master/RNN%20Network%20Sample.png?raw=true)"
      ]
    },
    {
      "cell_type": "markdown",
      "metadata": {
        "id": "I6_3DJEZpI11",
        "colab_type": "text"
      },
      "source": [
        "## **Helper Functions**"
      ]
    },
    {
      "cell_type": "code",
      "metadata": {
        "id": "4kcXMfOlcYMX",
        "colab_type": "code",
        "colab": {}
      },
      "source": [
        "def softmax(x):\n",
        "    e_x = np.exp(x - np.max(x))\n",
        "    return e_x / e_x.sum(axis=0)\n",
        "\n",
        "def print_sample(sample_ix, ix_to_char):\n",
        "    txt = ''.join(ix_to_char[ix] for ix in sample_ix)\n",
        "    txt = txt[0].upper() + txt[1:]  # capitalize first character \n",
        "    print ('%s' % (txt, ), end='')    \n",
        "\n",
        "def get_initial_loss(vocab_size, seq_length):\n",
        "    return -np.log(1.0/vocab_size)*seq_length\n",
        "\n",
        "def smooth(loss, cur_loss):\n",
        "    return loss * 0.999 + cur_loss * 0.001\n",
        "\n",
        "def initialize_parameters(n_a, n_x, n_y):\n",
        "    \"\"\"\n",
        "    Initialize parameters with small random values\n",
        "    \n",
        "    Returns:\n",
        "    parameters -- python dictionary containing:\n",
        "                        Wax -- Weight matrix multiplying the input, numpy array of shape (n_a, n_x)\n",
        "                        Waa -- Weight matrix multiplying the hidden state, numpy array of shape (n_a, n_a)\n",
        "                        Wya -- Weight matrix relating the hidden-state to the output, numpy array of shape (n_y, n_a)\n",
        "                        b --  Bias, numpy array of shape (n_a, 1)\n",
        "                        by -- Bias relating the hidden-state to the output, numpy array of shape (n_y, 1)\n",
        "    \"\"\"\n",
        "    np.random.seed(1)\n",
        "    Wax = np.random.randn(n_a, n_x)*0.01 # input to hidden\n",
        "    Waa = np.random.randn(n_a, n_a)*0.01 # hidden to hidden\n",
        "    Wya = np.random.randn(n_y, n_a)*0.01 # hidden to output\n",
        "    b = np.zeros((n_a, 1)) # hidden bias\n",
        "    by = np.zeros((n_y, 1)) # output bias\n",
        "    \n",
        "    parameters = {\"Wax\": Wax, \"Waa\": Waa, \"Wya\": Wya, \"b\": b,\"by\": by}\n",
        "    \n",
        "    return parameters\n",
        "\n",
        "def rnn_step_forward(parameters, a_prev, x):\n",
        "    \n",
        "    Waa, Wax, Wya, by, b = parameters['Waa'], parameters['Wax'], parameters['Wya'], parameters['by'], parameters['b']\n",
        "    a_next = np.tanh(np.dot(Wax, x) + np.dot(Waa, a_prev) + b) # hidden state\n",
        "    p_t = softmax(np.dot(Wya, a_next) + by) # unnormalized log probabilities for next chars # probabilities for next chars \n",
        "    \n",
        "    return a_next, p_t\n",
        "\n",
        "def rnn_step_backward(dy, gradients, parameters, x, a, a_prev):\n",
        "    \n",
        "    gradients['dWya'] += np.dot(dy, a.T)\n",
        "    gradients['dby'] += dy\n",
        "    da = np.dot(parameters['Wya'].T, dy) + gradients['da_next'] # backprop into h\n",
        "    daraw = (1 - a * a) * da # backprop through tanh nonlinearity\n",
        "    gradients['db'] += daraw\n",
        "    gradients['dWax'] += np.dot(daraw, x.T)\n",
        "    gradients['dWaa'] += np.dot(daraw, a_prev.T)\n",
        "    gradients['da_next'] = np.dot(parameters['Waa'].T, daraw)\n",
        "    return gradients\n",
        "\n",
        "def update_parameters(parameters, gradients, lr):\n",
        "\n",
        "    parameters['Wax'] += -lr * gradients['dWax']\n",
        "    parameters['Waa'] += -lr * gradients['dWaa']\n",
        "    parameters['Wya'] += -lr * gradients['dWya']\n",
        "    parameters['b']  += -lr * gradients['db']\n",
        "    parameters['by']  += -lr * gradients['dby']\n",
        "    return parameters\n",
        "\n",
        "def rnn_forward(X, Y, a0, parameters, vocab_size = 27):\n",
        "    \n",
        "    # Initialize x, a and y_hat as empty dictionaries\n",
        "    x, a, y_hat = {}, {}, {}\n",
        "    \n",
        "    a[-1] = np.copy(a0)\n",
        "    \n",
        "    # initialize your loss to 0\n",
        "    loss = 0\n",
        "    \n",
        "    for t in range(len(X)):\n",
        "        \n",
        "        # Set x[t] to be the one-hot vector representation of the t'th character in X.\n",
        "        # if X[t] == None, we just have x[t]=0. This is used to set the input for the first timestep to the zero vector. \n",
        "        x[t] = np.zeros((vocab_size,1)) \n",
        "        if (X[t] != None):\n",
        "            x[t][X[t]] = 1\n",
        "        \n",
        "        # Run one step forward of the RNN\n",
        "        a[t], y_hat[t] = rnn_step_forward(parameters, a[t-1], x[t])\n",
        "        \n",
        "        # Update the loss by substracting the cross-entropy term of this time-step from it.\n",
        "        loss -= np.log(y_hat[t][Y[t],0])\n",
        "        \n",
        "    cache = (y_hat, a, x)\n",
        "        \n",
        "    return loss, cache\n",
        "\n",
        "def rnn_backward(X, Y, parameters, cache):\n",
        "    # Initialize gradients as an empty dictionary\n",
        "    gradients = {}\n",
        "    \n",
        "    # Retrieve from cache and parameters\n",
        "    (y_hat, a, x) = cache\n",
        "    Waa, Wax, Wya, by, b = parameters['Waa'], parameters['Wax'], parameters['Wya'], parameters['by'], parameters['b']\n",
        "    \n",
        "    # each one should be initialized to zeros of the same dimension as its corresponding parameter\n",
        "    gradients['dWax'], gradients['dWaa'], gradients['dWya'] = np.zeros_like(Wax), np.zeros_like(Waa), np.zeros_like(Wya)\n",
        "    gradients['db'], gradients['dby'] = np.zeros_like(b), np.zeros_like(by)\n",
        "    gradients['da_next'] = np.zeros_like(a[0])\n",
        "    \n",
        "    ### START CODE HERE ###\n",
        "    # Backpropagate through time\n",
        "    for t in reversed(range(len(X))):\n",
        "        dy = np.copy(y_hat[t])\n",
        "        dy[Y[t]] -= 1\n",
        "        gradients = rnn_step_backward(dy, gradients, parameters, x[t], a[t], a[t-1])\n",
        "    ### END CODE HERE ###\n",
        "    \n",
        "    return gradients, a"
      ],
      "execution_count": 0,
      "outputs": []
    },
    {
      "cell_type": "code",
      "metadata": {
        "id": "8wFqq3gTm1NK",
        "colab_type": "code",
        "colab": {}
      },
      "source": [
        "def clip(gradients, maxValue):\n",
        "    '''\n",
        "    Clips the gradients' values between minimum and maximum.\n",
        "    \n",
        "    Arguments:\n",
        "    gradients -- a dictionary containing the gradients \"dWaa\", \"dWax\", \"dWya\", \"db\", \"dby\"\n",
        "    maxValue -- everything above this number is set to this number, and everything less than -maxValue is set to -maxValue\n",
        "    \n",
        "    Returns: \n",
        "    gradients -- a dictionary with the clipped gradients.\n",
        "    '''\n",
        "    \n",
        "    dWaa, dWax, dWya, db, dby = gradients['dWaa'], gradients['dWax'], gradients['dWya'], gradients['db'], gradients['dby']\n",
        "   \n",
        "    # clip to mitigate exploding gradients, loop over [dWax, dWaa, dWya, db, dby]. (≈2 lines)\n",
        "    for gradient in [dWax, dWaa, dWya, db, dby]:\n",
        "        np.clip(gradient,-1.*maxValue,maxValue,gradient)\n",
        "    \n",
        "    gradients = {\"dWaa\": dWaa, \"dWax\": dWax, \"dWya\": dWya, \"db\": db, \"dby\": dby}\n",
        "    \n",
        "    return gradients"
      ],
      "execution_count": 0,
      "outputs": []
    },
    {
      "cell_type": "code",
      "metadata": {
        "id": "J1LCEroOrgXP",
        "colab_type": "code",
        "colab": {}
      },
      "source": [
        "def sample(parameters, char_to_ix, seed):\n",
        "    \"\"\"\n",
        "    Sample a sequence of characters according to a sequence of probability distributions output of the RNN\n",
        "\n",
        "    Arguments:\n",
        "    parameters -- python dictionary containing the parameters Waa, Wax, Wya, by, and b. \n",
        "    char_to_ix -- python dictionary mapping each character to an index.\n",
        "    seed -- used for grading purposes. Do not worry about it.\n",
        "\n",
        "    Returns:\n",
        "    indices -- a list of length n containing the indices of the sampled characters.\n",
        "    \"\"\"\n",
        "    \n",
        "    # Retrieve parameters and relevant shapes from \"parameters\" dictionary\n",
        "    Waa, Wax, Wya, by, b = parameters['Waa'], parameters['Wax'], parameters['Wya'], parameters['by'], parameters['b']\n",
        "    vocab_size = by.shape[0]\n",
        "    n_a = Waa.shape[1]\n",
        "    \n",
        "    ### START CODE HERE ###\n",
        "    # Step 1: Create the one-hot vector x for the first character (initializing the sequence generation). (≈1 line)\n",
        "    x = np.zeros((vocab_size, 1))\n",
        "    # Step 1': Initialize a_prev as zeros (≈1 line)\n",
        "    a_prev = np.zeros((n_a, 1))\n",
        "    \n",
        "    # Create an empty list of indices, this is the list which will contain the list of indices of the characters to generate (≈1 line)\n",
        "    indices = []\n",
        "    \n",
        "    # Idx is a flag to detect a newline character, we initialize it to -1\n",
        "    idx = -1 \n",
        "    \n",
        "    # Loop over time-steps t. At each time-step, sample a character from a probability distribution and append \n",
        "    # its index to \"indices\". We'll stop if we reach 50 characters (which should be very unlikely with a well \n",
        "    # trained model), which helps debugging and prevents entering an infinite loop. \n",
        "    counter = 0\n",
        "    newline_character = char_to_ix['\\n']\n",
        "    \n",
        "    while (idx != newline_character and counter != 50):\n",
        "        \n",
        "        # Step 2: Forward propagate x using the equations (1), (2) and (3)\n",
        "        a = np.tanh(np.dot(Wax,x)+np.dot(Waa,a_prev)+b)\n",
        "        z = np.dot(Wya,a)+by\n",
        "        y = softmax(z)\n",
        "        \n",
        "        # for grading purposes\n",
        "        np.random.seed(counter+seed) \n",
        "\n",
        "        #print(\"Probability \",y.ravel()[np.argmax(y.ravel())])\n",
        "        \n",
        "        # Step 3: Sample the index of a character within the vocabulary from the probability distribution y\n",
        "        idx = np.random.choice(list(range(vocab_size)), p = y.ravel())\n",
        "\n",
        "        #print(\"idx \",idx)        \n",
        "\n",
        "        # Append the index to \"indices\"\n",
        "        indices.append(idx)\n",
        "        \n",
        "        # Step 4: Overwrite the input character as the one corresponding to the sampled index.\n",
        "        x = np.zeros((vocab_size, 1))\n",
        "        x[idx] = 1\n",
        "        \n",
        "        # Update \"a_prev\" to be \"a\"\n",
        "        a_prev = a\n",
        "        \n",
        "        # for grading purposes\n",
        "        seed += 1\n",
        "        counter +=1\n",
        "        \n",
        "    ### END CODE HERE ###\n",
        "\n",
        "    if (counter == 50):\n",
        "        indices.append(char_to_ix['\\n'])\n",
        "    \n",
        "    return indices"
      ],
      "execution_count": 0,
      "outputs": []
    },
    {
      "cell_type": "markdown",
      "metadata": {
        "id": "uZgyBAoUrVcV",
        "colab_type": "text"
      },
      "source": [
        "## **Modelling**"
      ]
    },
    {
      "cell_type": "markdown",
      "metadata": {
        "id": "T6_YmM8LEjbx",
        "colab_type": "text"
      },
      "source": [
        "### **Step by Step execution of Optimization**"
      ]
    },
    {
      "cell_type": "code",
      "metadata": {
        "id": "YDRM_yGSEfio",
        "colab_type": "code",
        "outputId": "824d56e8-2bdb-437e-dbb8-4c042b1a8b8a",
        "colab": {
          "base_uri": "https://localhost:8080/",
          "height": 901
        }
      },
      "source": [
        "sampleDinoName = \"mei\"\n",
        "\n",
        "index = 0\n",
        "\n",
        "for loop in range(len(dinoData)):\n",
        "  if (dinoData[loop] == sampleDinoName):\n",
        "    index = loop\n",
        "    break\n",
        "\n",
        "print(\"Selecting this item for illustration \",dinoData[index])\n",
        "\n",
        "# Represent it in the form of number\n",
        "\n",
        "X = [None] + [char_to_ix[ch] for ch in dinoData[index]] \n",
        "Y = X[1:] + [char_to_ix[\"\\n\"]]\n",
        "\n",
        "print(dinoData[1],\" represented as training data \",X,\" and also Y \",Y)\n",
        "\n",
        "# Perform one optimization step: Forward-prop -> Backward-prop -> Clip -> Update parameters\n",
        "# Choose a learning rate of 0.01\n",
        "# curr_loss, gradients, a_prev = optimize(X, Y, a_prev, parameters)\n",
        "# Breaking down the forward propagation in RNN\n",
        "\n",
        "# Initialize x, a and y_hat as empty dictionaries\n",
        "x, a, y_hat = {}, {}, {}\n",
        "\n",
        "#n_a -- number of units of the RNN cell\n",
        "n_a = 50\n",
        "dino_names = 2\n",
        "vocab_size = 27\n",
        "\n",
        "# Retrieve n_x and n_y from vocab_size\n",
        "n_x, n_y = vocab_size, vocab_size\n",
        "\n",
        "# Initialize parameters\n",
        "parameters = initialize_parameters(n_a, n_x, n_y)\n",
        "print(\"Waa \",parameters[\"Waa\"].shape,\" Wax \",parameters[\"Wax\"].shape,\" Wya \",parameters[\"Wya\"].shape,\" b \",parameters[\"b\"].shape,\" by \",parameters[\"by\"].shape)\n",
        "\n",
        "# Initialize the hidden state of your LSTM\n",
        "a_prev = np.zeros((n_a, 1))\n",
        "\n",
        "a[-1] = np.copy(a_prev)\n",
        "\n",
        "# initialize your loss to 0\n",
        "loss = 0\n",
        "\n",
        "print(\"Length of X \",len(X))\n",
        "\n",
        "# Execute for the length of vector which is the number of timesteps\n",
        "for t in range(len(X)):\n",
        "    \n",
        "    # Set x[t] to be the one-hot vector representation of the t'th character in X.\n",
        "    # if X[t] == None, we just have x[t]=0. This is used to set the input for the first timestep to the zero vector. \n",
        "    x[t] = np.zeros((vocab_size,1)) \n",
        "    if (X[t] != None):\n",
        "        x[t][X[t]] = 1\n",
        "\n",
        "    print(\"t:\",t,\" The input to RNN:\",x[t].T)\n",
        "    \n",
        "    # Run one step forward of the RNN\n",
        "    a[t], y_hat[t] = rnn_step_forward(parameters, a[t-1], x[t])\n",
        "    \n",
        "    print(\"y_hat[t] \",y_hat[t].T,\" Shape \",y_hat[t].shape,\" Y[t] \",Y[t],\" y_hat[t][Y[t],0] \",y_hat[t][Y[t],0])\n",
        "    # Update the loss by substracting the cross-entropy term of this time-step from it.\n",
        "    loss -= np.log(y_hat[t][Y[t],0])\n",
        "\n",
        "    print(\"Loss \",loss)\n",
        "    \n",
        "    # The number of dinosaur names to print\n",
        "    seed = 0\n",
        "    for name in range(dino_names):\n",
        "        \n",
        "        # Sample indices and print them\n",
        "        sampled_indices = sample(parameters, char_to_ix, seed)\n",
        "        print_sample(sampled_indices, ix_to_char)\n",
        "        \n",
        "        seed += 1  # To get the same result for grading purposed, increment the seed by one. \n",
        "\n",
        "    print('\\n')"
      ],
      "execution_count": 63,
      "outputs": [
        {
          "output_type": "stream",
          "text": [
            "Selecting this item for illustration  mei\n",
            "mei  represented as training data  [None, 13, 5, 9]  and also Y  [13, 5, 9, 0]\n",
            "Waa  (50, 50)  Wax  (50, 27)  Wya  (27, 50)  b  (50, 1)  by  (27, 1)\n",
            "Length of X  4\n",
            "t: 0  The input to RNN: [[0. 0. 0. 0. 0. 0. 0. 0. 0. 0. 0. 0. 0. 0. 0. 0. 0. 0. 0. 0. 0. 0. 0. 0.\n",
            "  0. 0. 0.]]\n",
            "y_hat[t]  [[0.03703704 0.03703704 0.03703704 0.03703704 0.03703704 0.03703704\n",
            "  0.03703704 0.03703704 0.03703704 0.03703704 0.03703704 0.03703704\n",
            "  0.03703704 0.03703704 0.03703704 0.03703704 0.03703704 0.03703704\n",
            "  0.03703704 0.03703704 0.03703704 0.03703704 0.03703704 0.03703704\n",
            "  0.03703704 0.03703704 0.03703704]]  Shape  (27, 1)  Y[t]  13  y_hat[t][Y[t],0]  0.037037037037037035\n",
            "Loss  3.295836866004329\n",
            "Nkzxwtdmfqoeyhsqwasjkjvu\n",
            "Kneb\n",
            "\n",
            "\n",
            "t: 1  The input to RNN: [[0. 0. 0. 0. 0. 0. 0. 0. 0. 0. 0. 0. 0. 1. 0. 0. 0. 0. 0. 0. 0. 0. 0. 0.\n",
            "  0. 0. 0.]]\n",
            "y_hat[t]  [[0.03710036 0.03700388 0.03702218 0.03703304 0.03704387 0.03704862\n",
            "  0.03701184 0.03703686 0.03700148 0.0370376  0.03703684 0.03704281\n",
            "  0.03704285 0.03706442 0.03701087 0.03702874 0.03700479 0.03706238\n",
            "  0.03704638 0.03703266 0.03701317 0.03706026 0.03706926 0.03706196\n",
            "  0.03704579 0.03701958 0.0370175 ]]  Shape  (27, 1)  Y[t]  5  y_hat[t][Y[t],0]  0.03704862240777775\n",
            "Loss  6.591360975911947\n",
            "Nkzxwtdmfqoeyhsqwasjkjvu\n",
            "Kneb\n",
            "\n",
            "\n",
            "t: 2  The input to RNN: [[0. 0. 0. 0. 0. 1. 0. 0. 0. 0. 0. 0. 0. 0. 0. 0. 0. 0. 0. 0. 0. 0. 0. 0.\n",
            "  0. 0. 0.]]\n",
            "y_hat[t]  [[0.03703348 0.03701909 0.03701349 0.03706053 0.03704604 0.03705402\n",
            "  0.03704032 0.03705864 0.03700692 0.03703021 0.03703439 0.03701347\n",
            "  0.03704753 0.03703694 0.0370374  0.03701637 0.03701369 0.03704527\n",
            "  0.03703126 0.03702352 0.03701326 0.03701259 0.03710096 0.03705948\n",
            "  0.03706346 0.03703369 0.03705398]]  Shape  (27, 1)  Y[t]  9  y_hat[t][Y[t],0]  0.0370302123987147\n",
            "Loss  9.887382124129903\n",
            "Nkzxwtdmfqoeyhsqwasjkjvu\n",
            "Kneb\n",
            "\n",
            "\n",
            "t: 3  The input to RNN: [[0. 0. 0. 0. 0. 0. 0. 0. 0. 1. 0. 0. 0. 0. 0. 0. 0. 0. 0. 0. 0. 0. 0. 0.\n",
            "  0. 0. 0.]]\n",
            "y_hat[t]  [[0.03695284 0.03700662 0.03705306 0.03702165 0.03702968 0.03707335\n",
            "  0.03700848 0.03701372 0.03701553 0.03709063 0.03703122 0.037078\n",
            "  0.03701877 0.03699452 0.0370247  0.03703609 0.03705786 0.03706414\n",
            "  0.03711313 0.03705601 0.03702607 0.03702789 0.03704576 0.03703218\n",
            "  0.03704622 0.03701556 0.03706631]]  Shape  (27, 1)  Y[t]  0  y_hat[t][Y[t],0]  0.03695284489951947\n",
            "Loss  13.185494765460561\n",
            "Nkzxwtdmfqoeyhsqwasjkjvu\n",
            "Kneb\n",
            "\n",
            "\n"
          ],
          "name": "stdout"
        }
      ]
    },
    {
      "cell_type": "code",
      "metadata": {
        "id": "ygmiszThGE0g",
        "colab_type": "code",
        "colab": {}
      },
      "source": [
        "def optimize(X, Y, a_prev, parameters, learning_rate = 0.01):\n",
        "    \"\"\"\n",
        "    Execute one step of the optimization to train the model.\n",
        "    \n",
        "    Arguments:\n",
        "    X -- list of integers, where each integer is a number that maps to a character in the vocabulary.\n",
        "    Y -- list of integers, exactly the same as X but shifted one index to the left.\n",
        "    a_prev -- previous hidden state.\n",
        "    parameters -- python dictionary containing:\n",
        "                        Wax -- Weight matrix multiplying the input, numpy array of shape (n_a, n_x)\n",
        "                        Waa -- Weight matrix multiplying the hidden state, numpy array of shape (n_a, n_a)\n",
        "                        Wya -- Weight matrix relating the hidden-state to the output, numpy array of shape (n_y, n_a)\n",
        "                        b --  Bias, numpy array of shape (n_a, 1)\n",
        "                        by -- Bias relating the hidden-state to the output, numpy array of shape (n_y, 1)\n",
        "    learning_rate -- learning rate for the model.\n",
        "    \n",
        "    Returns:\n",
        "    loss -- value of the loss function (cross-entropy)\n",
        "    gradients -- python dictionary containing:\n",
        "                        dWax -- Gradients of input-to-hidden weights, of shape (n_a, n_x)\n",
        "                        dWaa -- Gradients of hidden-to-hidden weights, of shape (n_a, n_a)\n",
        "                        dWya -- Gradients of hidden-to-output weights, of shape (n_y, n_a)\n",
        "                        db -- Gradients of bias vector, of shape (n_a, 1)\n",
        "                        dby -- Gradients of output bias vector, of shape (n_y, 1)\n",
        "    a[len(X)-1] -- the last hidden state, of shape (n_a, 1)\n",
        "    \"\"\"\n",
        "    # Forward propagate through time (≈1 line)\n",
        "    loss, cache = rnn_forward(X, Y, a_prev, parameters)\n",
        "    \n",
        "    # Backpropagate through time (≈1 line)\n",
        "    gradients, a = rnn_backward(X, Y, parameters, cache)\n",
        "    \n",
        "    # Clip your gradients between -5 (min) and 5 (max) (≈1 line)\n",
        "    gradients = clip(gradients, 5)\n",
        "    \n",
        "    # Update parameters (≈1 line)\n",
        "    parameters = update_parameters(parameters, gradients, learning_rate)\n",
        "    \n",
        "    return loss, gradients, a[len(X)-1]"
      ],
      "execution_count": 0,
      "outputs": []
    },
    {
      "cell_type": "code",
      "metadata": {
        "id": "100JnybErTnE",
        "colab_type": "code",
        "colab": {}
      },
      "source": [
        "def model(data, ix_to_char, char_to_ix, num_iterations = 35000, n_a = 50, dino_names = 7, vocab_size = 27):\n",
        "    \"\"\"\n",
        "    Trains the model and generates dinosaur names. \n",
        "    \n",
        "    Arguments:\n",
        "    data -- text corpus\n",
        "    ix_to_char -- dictionary that maps the index to a character\n",
        "    char_to_ix -- dictionary that maps a character to an index\n",
        "    num_iterations -- number of iterations to train the model for\n",
        "    n_a -- number of units of the RNN cell\n",
        "    dino_names -- number of dinosaur names you want to sample at each iteration. \n",
        "    vocab_size -- number of unique characters found in the text, size of the vocabulary\n",
        "    \n",
        "    Returns:\n",
        "    parameters -- learned parameters\n",
        "    \"\"\"\n",
        "    \n",
        "    # Retrieve n_x and n_y from vocab_size\n",
        "    n_x, n_y = vocab_size, vocab_size\n",
        "    \n",
        "    # Initialize parameters\n",
        "    parameters = initialize_parameters(n_a, n_x, n_y)\n",
        "    print(\"Waa \",parameters[\"Waa\"].shape,\" Wax \",parameters[\"Wax\"].shape,\" Wya \",parameters[\"Wya\"].shape,\" b \",parameters[\"b\"].shape,\" by \",parameters[\"by\"].shape)\n",
        "\n",
        "    # Initialize loss (this is required because we want to smooth our loss, don't worry about it)\n",
        "    loss = get_initial_loss(vocab_size, dino_names)\n",
        "    print(\"Initial Loss \",loss)\n",
        "\n",
        "    # Build list of all dinosaur names (training examples).\n",
        "    with open(\"dinos.txt\") as f:\n",
        "        examples = f.readlines()\n",
        "    examples = [x.lower().strip() for x in examples]\n",
        "    \n",
        "    # Shuffle list of all dinosaur names\n",
        "    np.random.seed(0)\n",
        "    np.random.shuffle(examples)\n",
        "    \n",
        "    # Initialize the hidden state of your LSTM\n",
        "    a_prev = np.zeros((n_a, 1))\n",
        "\n",
        "    # Optimization loop\n",
        "    for j in range(num_iterations):\n",
        "\n",
        "        # Use the hint above to define one training example (X,Y) (≈ 2 lines)\n",
        "        index = j % len(examples)\n",
        "        X = [None] + [char_to_ix[ch] for ch in examples[index]] \n",
        "        Y = X[1:] + [char_to_ix[\"\\n\"]]\n",
        "\n",
        "        # Perform one optimization step: Forward-prop -> Backward-prop -> Clip -> Update parameters\n",
        "        # Choose a learning rate of 0.01\n",
        "        curr_loss, gradients, a_prev = optimize(X, Y, a_prev, parameters)\n",
        "\n",
        "        # Use a latency trick to keep the loss smooth. It happens here to accelerate the training.\n",
        "        loss = smooth(loss, curr_loss)\n",
        "\n",
        "        # Every 4000 Iteration, generate \"n\" characters thanks to sample() to check if the model is learning properly\n",
        "        if j % 4000 == 0:\n",
        "            \n",
        "            print('Iteration: %d, Loss: %f' % (j, loss) + '\\n')\n",
        "            \n",
        "            # The number of dinosaur names to print\n",
        "            seed = 0\n",
        "            for name in range(dino_names):\n",
        "                \n",
        "                # Sample indices and print them\n",
        "                sampled_indices = sample(parameters, char_to_ix, seed)\n",
        "                print_sample(sampled_indices, ix_to_char)\n",
        "                \n",
        "                seed += 1  # To get the same result for grading purposed, increment the seed by one. \n",
        "      \n",
        "            print('\\n')\n",
        "        \n",
        "    return parameters        "
      ],
      "execution_count": 0,
      "outputs": []
    },
    {
      "cell_type": "code",
      "metadata": {
        "id": "syEW-Z89sLdL",
        "colab_type": "code",
        "outputId": "93ce080e-7dff-4030-b32e-7d5b6fe20134",
        "colab": {
          "base_uri": "https://localhost:8080/",
          "height": 986
        }
      },
      "source": [
        "parameters = model(data, ix_to_char, char_to_ix, num_iterations=20000)"
      ],
      "execution_count": 75,
      "outputs": [
        {
          "output_type": "stream",
          "text": [
            "Waa  (50, 50)  Wax  (50, 27)  Wya  (27, 50)  b  (50, 1)  by  (27, 1)\n",
            "Initial Loss  23.070858062030304\n",
            "Iteration: 0, Loss: 23.087336\n",
            "\n",
            "Nkzxwtdmfqoeyhsqwasjkjvu\n",
            "Kneb\n",
            "Kzxwtdmfqoeyhsqwasjkjvu\n",
            "Neb\n",
            "Zxwtdmfqoeyhsqwasjkjvu\n",
            "Eb\n",
            "Xwtdmfqoeyhsqwasjkjvu\n",
            "\n",
            "\n",
            "Iteration: 4000, Loss: 25.901815\n",
            "\n",
            "Mivrosaurus\n",
            "Inee\n",
            "Ivtroplisaurus\n",
            "Mbaaisaurus\n",
            "Wusichisaurus\n",
            "Cabaselachus\n",
            "Toraperlethosdarenitochusthiamamumamaon\n",
            "\n",
            "\n",
            "Iteration: 8000, Loss: 24.070350\n",
            "\n",
            "Onxusichepriuon\n",
            "Kilabersaurus\n",
            "Lutrodon\n",
            "Omaaerosaurus\n",
            "Xutrcheps\n",
            "Edaksoje\n",
            "Trodiktonus\n",
            "\n",
            "\n",
            "Iteration: 12000, Loss: 23.291971\n",
            "\n",
            "Onyxosaurus\n",
            "Kica\n",
            "Lustrepiosaurus\n",
            "Olaagrraiansaurus\n",
            "Yuspangosaurus\n",
            "Eealosaurus\n",
            "Trognesaurus\n",
            "\n",
            "\n",
            "Iteration: 16000, Loss: 23.276015\n",
            "\n",
            "Meutosaurus\n",
            "Indabdosaurus\n",
            "Itrsaurus\n",
            "Macalosaurus\n",
            "Yuspandon\n",
            "Caahosaurus\n",
            "Trodon\n",
            "\n",
            "\n"
          ],
          "name": "stdout"
        }
      ]
    },
    {
      "cell_type": "code",
      "metadata": {
        "id": "gGTX6WliHgqY",
        "colab_type": "code",
        "colab": {}
      },
      "source": [
        ""
      ],
      "execution_count": 0,
      "outputs": []
    }
  ]
}