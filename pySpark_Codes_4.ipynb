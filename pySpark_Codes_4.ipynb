{
  "nbformat": 4,
  "nbformat_minor": 0,
  "metadata": {
    "colab": {
      "name": "pySpark_Codes_4.ipynb",
      "provenance": [],
      "collapsed_sections": [],
      "toc_visible": true,
      "include_colab_link": true
    },
    "kernelspec": {
      "name": "python3",
      "display_name": "Python 3"
    }
  },
  "cells": [
    {
      "cell_type": "markdown",
      "metadata": {
        "id": "view-in-github",
        "colab_type": "text"
      },
      "source": [
        "<a href=\"https://colab.research.google.com/github/datasigntist/deeplearning/blob/master/pySpark_Codes_4.ipynb\" target=\"_parent\"><img src=\"https://colab.research.google.com/assets/colab-badge.svg\" alt=\"Open In Colab\"/></a>"
      ]
    },
    {
      "cell_type": "markdown",
      "metadata": {
        "id": "IEjZ0QWVGU4N",
        "colab_type": "text"
      },
      "source": [
        "# **Experiments with Spark**\n",
        "\n",
        "Author : Vishwanathan Raman\n",
        "\n",
        "EmailId : datasigntist@gmail.com\n",
        "\n",
        "Description : The following is a collection of UNITED STATES HISTORICAL CLIMATOLOGY NETWORK (USHCN) Daily Dataset\n",
        "https://cdiac.ess-dive.lbl.gov/ftp/ushcn_daily/.\n",
        "\n",
        "The notebook illustrates the development of functions using pySpark to process and consolidate the data\n",
        "   \n",
        "\n",
        "Reference Links:\n",
        "\n",
        "*   Introduction to Spark 1 : https://youtu.be/TuGn3e1EgXM\n",
        "*   Introduction to Spark 2 : https://youtu.be/JruCKuWHKpk\n",
        "*   Introduction to Spark 3 : https://youtu.be/c9jd4yZGyT8\n",
        "*   Introduction to RDD 1   : https://youtu.be/M7UuKHYecXQ\n",
        "*   Introduction to RDD 2   : https://youtu.be/qLGUPdSvAVg\n",
        "*   Introduction to RDD 3   : https://youtu.be/9NBP-FiHrQg\n",
        "\n"
      ]
    },
    {
      "cell_type": "markdown",
      "metadata": {
        "id": "IDKi0NXTwTUK",
        "colab_type": "text"
      },
      "source": [
        "## Spark Installation in Google Colab"
      ]
    },
    {
      "cell_type": "code",
      "metadata": {
        "id": "a00WIwTYjZU-",
        "colab_type": "code",
        "colab": {}
      },
      "source": [
        "!apt-get install openjdk-8-jdk-headless -qq > /dev/null\n",
        "!wget -q http://www-eu.apache.org/dist/spark/spark-2.4.4/spark-2.4.4-bin-hadoop2.7.tgz\n",
        "!tar xf spark-2.4.4-bin-hadoop2.7.tgz\n",
        "!pip install -q findspark"
      ],
      "execution_count": 0,
      "outputs": []
    },
    {
      "cell_type": "code",
      "metadata": {
        "id": "ecTfHk4Hjd0Q",
        "colab_type": "code",
        "colab": {}
      },
      "source": [
        "import os\n",
        "os.environ[\"JAVA_HOME\"] = \"/usr/lib/jvm/java-8-openjdk-amd64\"\n",
        "os.environ[\"SPARK_HOME\"] = \"/content/spark-2.4.4-bin-hadoop2.7\""
      ],
      "execution_count": 0,
      "outputs": []
    },
    {
      "cell_type": "code",
      "metadata": {
        "id": "8h1g1SeZx6gh",
        "colab_type": "code",
        "colab": {}
      },
      "source": [
        "import findspark\n",
        "findspark.init()\n",
        "from pyspark.sql import SparkSession\n",
        "spark = SparkSession.builder.master(\"local[*]\").getOrCreate()"
      ],
      "execution_count": 0,
      "outputs": []
    },
    {
      "cell_type": "code",
      "metadata": {
        "id": "w6EVHHPGif3u",
        "colab_type": "code",
        "colab": {}
      },
      "source": [
        "import numpy as np\n",
        "from pyspark.sql.window import Window\n",
        "from pyspark.sql import functions as func\n",
        "import datetime"
      ],
      "execution_count": 0,
      "outputs": []
    },
    {
      "cell_type": "markdown",
      "metadata": {
        "id": "GNG36XI_JOa-",
        "colab_type": "text"
      },
      "source": [
        "## Download and Process Data"
      ]
    },
    {
      "cell_type": "code",
      "metadata": {
        "id": "m_2r7NUQLt24",
        "colab_type": "code",
        "colab": {}
      },
      "source": [
        "states = [\"AL\",  \"AZ\", \"AR\", \"CA\", \"CO\", \"CT\", \"DE\", \"FL\", \"GA\", \n",
        "          \"ID\", \"IL\", \"IN\", \"IA\", \"KS\", \"KY\", \"LA\", \"ME\", \"MD\", \n",
        "          \"MA\", \"MI\", \"MN\", \"MS\", \"MO\", \"MT\", \"NE\", \"NV\", \"NH\", \"NJ\", \n",
        "          \"NM\", \"NY\", \"NC\", \"ND\", \"OH\", \"OK\", \"OR\", \"PA\", \"RI\", \"SC\", \n",
        "          \"SD\", \"TN\", \"TX\", \"UT\", \"VT\", \"VA\", \"WA\", \"WV\", \"WI\", \"WY\"]"
      ],
      "execution_count": 0,
      "outputs": []
    },
    {
      "cell_type": "code",
      "metadata": {
        "id": "yPXUHJIgF1VF",
        "colab_type": "code",
        "colab": {}
      },
      "source": [
        "fileNameList = []\n",
        "for loop in range(len(states)):\n",
        "  index = loop+1\n",
        "  fileName = \"state\"+str(index).zfill(2)+\"_\"+states[loop]+\".txt.gz\"\n",
        "  fileNameList.append(fileName)"
      ],
      "execution_count": 0,
      "outputs": []
    },
    {
      "cell_type": "code",
      "metadata": {
        "id": "2VGvuYQiLv7U",
        "colab_type": "code",
        "outputId": "feaec028-9d29-4ffa-9a81-636637704873",
        "colab": {
          "base_uri": "https://localhost:8080/",
          "height": 798
        }
      },
      "source": [
        "for loop in range(len(fileNameList)):\n",
        "  fileNameWithPath = \"https://cdiac.ess-dive.lbl.gov/ftp/ushcn_daily/\"+fileNameList[loop]\n",
        "  !wget \"https${fileNameWithPath}\""
      ],
      "execution_count": 9,
      "outputs": [
        {
          "output_type": "stream",
          "text": [
            "--2019-11-22 05:47:02--  https://cdiac.ess-dive.lbl.gov/ftp/ushcn_daily/state01_AL.txt.gz\n",
            "Resolving cdiac.ess-dive.lbl.gov (cdiac.ess-dive.lbl.gov)... 128.55.206.24, 128.55.206.26\n",
            "Connecting to cdiac.ess-dive.lbl.gov (cdiac.ess-dive.lbl.gov)|128.55.206.24|:443... connected.\n",
            "HTTP request sent, awaiting response... 200 OK\n",
            "Length: unspecified [application/x-gzip]\n",
            "Saving to: ‘state01_AL.txt.gz’\n",
            "\n",
            "state01_AL.txt.gz       [    <=>             ]   2.16M  1.97MB/s    in 1.1s    \n",
            "\n",
            "2019-11-22 05:47:04 (1.97 MB/s) - ‘state01_AL.txt.gz’ saved [2266952]\n",
            "\n",
            "--2019-11-22 05:47:05--  https://cdiac.ess-dive.lbl.gov/ftp/ushcn_daily/state02_AZ.txt.gz\n",
            "Resolving cdiac.ess-dive.lbl.gov (cdiac.ess-dive.lbl.gov)... 128.55.206.24, 128.55.206.26\n",
            "Connecting to cdiac.ess-dive.lbl.gov (cdiac.ess-dive.lbl.gov)|128.55.206.24|:443... connected.\n",
            "HTTP request sent, awaiting response... 200 OK\n",
            "Length: unspecified [application/x-gzip]\n",
            "Saving to: ‘state02_AZ.txt.gz’\n",
            "\n",
            "state02_AZ.txt.gz       [    <=>             ]   2.99M  2.76MB/s    in 1.1s    \n",
            "\n",
            "2019-11-22 05:47:07 (2.76 MB/s) - ‘state02_AZ.txt.gz’ saved [3134652]\n",
            "\n",
            "--2019-11-22 05:47:09--  https://cdiac.ess-dive.lbl.gov/ftp/ushcn_daily/state03_AR.txt.gz\n",
            "Resolving cdiac.ess-dive.lbl.gov (cdiac.ess-dive.lbl.gov)... 128.55.206.24, 128.55.206.26\n",
            "Connecting to cdiac.ess-dive.lbl.gov (cdiac.ess-dive.lbl.gov)|128.55.206.24|:443... connected.\n",
            "HTTP request sent, awaiting response... 200 OK\n",
            "Length: unspecified [application/x-gzip]\n",
            "Saving to: ‘state03_AR.txt.gz’\n",
            "\n",
            "state03_AR.txt.gz       [    <=>             ]   2.35M  2.14MB/s    in 1.1s    \n",
            "\n",
            "2019-11-22 05:47:11 (2.14 MB/s) - ‘state03_AR.txt.gz’ saved [2462261]\n",
            "\n",
            "--2019-11-22 05:47:13--  https://cdiac.ess-dive.lbl.gov/ftp/ushcn_daily/state04_CA.txt.gz\n",
            "Resolving cdiac.ess-dive.lbl.gov (cdiac.ess-dive.lbl.gov)... 128.55.206.24, 128.55.206.26\n",
            "Connecting to cdiac.ess-dive.lbl.gov (cdiac.ess-dive.lbl.gov)|128.55.206.24|:443... connected.\n",
            "HTTP request sent, awaiting response... 200 OK\n",
            "Length: unspecified [application/x-gzip]\n",
            "Saving to: ‘state04_CA.txt.gz.4’\n",
            "\n",
            "state04_CA.txt.gz.4     [      <=>           ]   6.96M  4.90MB/s    in 1.4s    \n",
            "\n",
            "2019-11-22 05:47:15 (4.90 MB/s) - ‘state04_CA.txt.gz.4’ saved [7302545]\n",
            "\n"
          ],
          "name": "stdout"
        }
      ]
    },
    {
      "cell_type": "markdown",
      "metadata": {
        "id": "M2lqFA5oq9to",
        "colab_type": "text"
      },
      "source": [
        "### Exploring Data"
      ]
    },
    {
      "cell_type": "code",
      "metadata": {
        "id": "0Qk5r8S1JZpT",
        "colab_type": "code",
        "colab": {}
      },
      "source": [
        "sparkDataFrame = spark.read.text(\"state03_AR.txt.gz\")"
      ],
      "execution_count": 0,
      "outputs": []
    },
    {
      "cell_type": "code",
      "metadata": {
        "id": "yRAA0EuHKEfu",
        "colab_type": "code",
        "outputId": "c1e5eb5a-64dd-4dbf-d2e1-f33dca69ba87",
        "colab": {
          "base_uri": "https://localhost:8080/",
          "height": 301
        }
      },
      "source": [
        "sparkDataFrame.show(10)"
      ],
      "execution_count": 102,
      "outputs": [
        {
          "output_type": "stream",
          "text": [
            "+--------------------+\n",
            "|               value|\n",
            "+--------------------+\n",
            "|030936188304TMAX-...|\n",
            "|030936188304PRCP ...|\n",
            "|030936188304SNOW ...|\n",
            "|030936188304SNWD ...|\n",
            "|030936188305TMAX ...|\n",
            "|030936188305TMIN-...|\n",
            "|030936188305PRCP ...|\n",
            "|030936188305SNOW ...|\n",
            "|030936188305SNWD ...|\n",
            "|030936188306TMAX ...|\n",
            "+--------------------+\n",
            "only showing top 10 rows\n",
            "\n"
          ],
          "name": "stdout"
        }
      ]
    },
    {
      "cell_type": "code",
      "metadata": {
        "id": "Haad_vQpKHaO",
        "colab_type": "code",
        "colab": {}
      },
      "source": [
        "sparkData_rdd = sparkDataFrame.rdd"
      ],
      "execution_count": 0,
      "outputs": []
    },
    {
      "cell_type": "code",
      "metadata": {
        "id": "LxVrq4nsQ7qY",
        "colab_type": "code",
        "colab": {}
      },
      "source": [
        "sparkDataTMAX_rdd = sparkData_rdd.filter(lambda line: 'TMAX' in line.value)"
      ],
      "execution_count": 0,
      "outputs": []
    },
    {
      "cell_type": "code",
      "metadata": {
        "id": "QTmBNTmrWgY3",
        "colab_type": "code",
        "colab": {}
      },
      "source": [
        "sparkDataTMAXdict_rdd = sparkDataTMAX_rdd.map(lambda line: \n",
        "                                          (\n",
        "                                          line.value[0:6],\n",
        "                                          datetime.datetime.strptime(line.value[6:10]+\"-\"+line.value[10:12]+\"-01\",'%Y-%m-%d'),\n",
        "                                          (0 if len([int(data) for data in line.value[16:].split(\" \") if data!=0 and data!='6' and data!=\"7\" and data.strip()!=\"\"  and data.isnumeric()])==0 else max([int(data) for data in line.value[16:].split(\" \") if data!=0 and data!='6' and data!=\"7\" and data.strip()!=\"\"  and data.isnumeric()])),\n",
        "                                          (0 if len([int(data) for data in line.value[16:].split(\" \") if data!=0 and data!='6' and data!=\"7\" and data.strip()!=\"\"  and data.isnumeric()])==0 else min([int(data) for data in line.value[16:].split(\" \") if data!=0 and data!='6' and data!=\"7\" and data.strip()!=\"\"  and data.isnumeric()]))\n",
        "                                           ))"
      ],
      "execution_count": 0,
      "outputs": []
    },
    {
      "cell_type": "code",
      "metadata": {
        "id": "Xi3H_u9SZNZy",
        "colab_type": "code",
        "outputId": "9e5dc201-65dc-43fb-e4dd-dee6fe31ed09",
        "colab": {
          "base_uri": "https://localhost:8080/",
          "height": 230
        }
      },
      "source": [
        "sparkDataTMAXdict_rdd.collect()[0:12]"
      ],
      "execution_count": 120,
      "outputs": [
        {
          "output_type": "execute_result",
          "data": {
            "text/plain": [
              "[('040693', datetime.datetime(1893, 1, 1, 0, 0), 57, 46),\n",
              " ('040693', datetime.datetime(1893, 2, 1, 0, 0), 66, 48),\n",
              " ('040693', datetime.datetime(1893, 3, 1, 0, 0), 75, 49),\n",
              " ('040693', datetime.datetime(1893, 4, 1, 0, 0), 68, 52),\n",
              " ('040693', datetime.datetime(1893, 5, 1, 0, 0), 80, 59),\n",
              " ('040693', datetime.datetime(1893, 6, 1, 0, 0), 91, 66),\n",
              " ('040693', datetime.datetime(1893, 7, 1, 0, 0), 77, 64),\n",
              " ('040693', datetime.datetime(1893, 8, 1, 0, 0), 76, 61),\n",
              " ('040693', datetime.datetime(1893, 9, 1, 0, 0), 74, 63),\n",
              " ('040693', datetime.datetime(1893, 10, 1, 0, 0), 77, 57),\n",
              " ('040693', datetime.datetime(1893, 11, 1, 0, 0), 71, 53),\n",
              " ('040693', datetime.datetime(1893, 12, 1, 0, 0), 67, 41)]"
            ]
          },
          "metadata": {
            "tags": []
          },
          "execution_count": 120
        }
      ]
    },
    {
      "cell_type": "markdown",
      "metadata": {
        "id": "HfUyACA5sCVp",
        "colab_type": "text"
      },
      "source": [
        "### Generic function for parsing data and consolidation"
      ]
    },
    {
      "cell_type": "markdown",
      "metadata": {
        "id": "5YaVWuAhyYsC",
        "colab_type": "text"
      },
      "source": [
        "Parsing the data and getting the min and max for each time period. An empty list will cause an error hence handled the empty list exception."
      ]
    },
    {
      "cell_type": "code",
      "metadata": {
        "id": "fId-F-Z_sLsy",
        "colab_type": "code",
        "colab": {}
      },
      "source": [
        "def parseDataFile(fileName,columnName):\n",
        "  sparkDataFrame = spark.read.text(fileName)\n",
        "  sparkData_rdd = sparkDataFrame.rdd\n",
        "  sparkDataTMAX_rdd = sparkData_rdd.filter(lambda line: columnName in line.value)\n",
        "  sparkDataTMAXdict_rdd = sparkDataTMAX_rdd.map(lambda line: \n",
        "                                          (\n",
        "                                          line.value[0:6],\n",
        "                                          datetime.datetime.strptime(line.value[6:10]+\"-\"+line.value[10:12]+\"-01\",'%Y-%m-%d'),\n",
        "                                          (0 if len([int(data) for data in line.value[16:].split(\" \") if data!=0 and data!='6' and data!=\"7\" and data.strip()!=\"\"  and data.isnumeric()])==0 else max([int(data) for data in line.value[16:].split(\" \") if data!=0 and data!='6' and data!=\"7\" and data.strip()!=\"\"  and data.isnumeric()])),\n",
        "                                          (0 if len([int(data) for data in line.value[16:].split(\" \") if data!=0 and data!='6' and data!=\"7\" and data.strip()!=\"\"  and data.isnumeric()])==0 else min([int(data) for data in line.value[16:].split(\" \") if data!=0 and data!='6' and data!=\"7\" and data.strip()!=\"\"  and data.isnumeric()]))\n",
        "                                           ))\n",
        "  return (sparkDataTMAXdict_rdd)"
      ],
      "execution_count": 0,
      "outputs": []
    },
    {
      "cell_type": "code",
      "metadata": {
        "id": "tlYZmqQxFldk",
        "colab_type": "code",
        "colab": {}
      },
      "source": [
        "def consolidateDataFiles(fileNameList):\n",
        "  for loop in range(len(fileNameList)):\n",
        "    if (loop == 0):\n",
        "      consolidatedTMAXdict_rdd = parseDataFile(fileNameList[loop],\"TMAX\")\n",
        "    else:\n",
        "      consolidatedTMAXdict_rdd = consolidatedTMAXdict_rdd.union(parseDataFile(fileNameList[loop],\"TMAX\"))\n",
        "  return (consolidatedTMAXdict_rdd)"
      ],
      "execution_count": 0,
      "outputs": []
    },
    {
      "cell_type": "code",
      "metadata": {
        "id": "_htzdvYDxGda",
        "colab_type": "code",
        "colab": {}
      },
      "source": [
        "consolidatedTMAXdict_rdd = consolidateDataFiles(fileNameList)"
      ],
      "execution_count": 0,
      "outputs": []
    },
    {
      "cell_type": "code",
      "metadata": {
        "id": "hQ7jE0zNyMlh",
        "colab_type": "code",
        "colab": {
          "base_uri": "https://localhost:8080/",
          "height": 34
        },
        "outputId": "88b3aa4d-4a2e-4d42-b885-ade08107ed04"
      },
      "source": [
        "consolidatedTMAXdict_rdd.first()"
      ],
      "execution_count": 123,
      "outputs": [
        {
          "output_type": "execute_result",
          "data": {
            "text/plain": [
              "('011084', datetime.datetime(1926, 1, 1, 0, 0), 75, 41)"
            ]
          },
          "metadata": {
            "tags": []
          },
          "execution_count": 123
        }
      ]
    },
    {
      "cell_type": "code",
      "metadata": {
        "id": "rxyPtPInIiPd",
        "colab_type": "code",
        "colab": {
          "base_uri": "https://localhost:8080/",
          "height": 34
        },
        "outputId": "a77131f7-03eb-4acb-fa9a-16f4fdf0e9ac"
      },
      "source": [
        "print(\"The total number of data points \",consolidatedTMAXdict_rdd.count())"
      ],
      "execution_count": 82,
      "outputs": [
        {
          "output_type": "stream",
          "text": [
            "The total number of data points  129894\n"
          ],
          "name": "stdout"
        }
      ]
    },
    {
      "cell_type": "code",
      "metadata": {
        "id": "VptzdfgLJACf",
        "colab_type": "code",
        "colab": {
          "base_uri": "https://localhost:8080/",
          "height": 34
        },
        "outputId": "b740e27b-e744-4c14-9d7d-6e364b5800f7"
      },
      "source": [
        "print(\"The number of partitions \",consolidatedTMAXdict_rdd.getNumPartitions())"
      ],
      "execution_count": 124,
      "outputs": [
        {
          "output_type": "stream",
          "text": [
            "The number of partitions  4\n"
          ],
          "name": "stdout"
        }
      ]
    },
    {
      "cell_type": "code",
      "metadata": {
        "id": "Bq0lrufSvoN2",
        "colab_type": "code",
        "colab": {}
      },
      "source": [
        "consolidatedTMAXdict_df = consolidatedTMAXdict_rdd.toDF([\"key\",\"date\",\"maxTemp\",\"minTemp\"])"
      ],
      "execution_count": 0,
      "outputs": []
    },
    {
      "cell_type": "code",
      "metadata": {
        "id": "02TS5G47ynWa",
        "colab_type": "code",
        "colab": {
          "base_uri": "https://localhost:8080/",
          "height": 301
        },
        "outputId": "92d7fa67-e0a5-4059-b21d-257248380e98"
      },
      "source": [
        "consolidatedTMAXdict_df.show(10)"
      ],
      "execution_count": 126,
      "outputs": [
        {
          "output_type": "stream",
          "text": [
            "+------+-------------------+-------+-------+\n",
            "|   key|               date|maxTemp|minTemp|\n",
            "+------+-------------------+-------+-------+\n",
            "|011084|1926-01-01 00:00:00|     75|     41|\n",
            "|011084|1926-02-01 00:00:00|     77|     56|\n",
            "|011084|1926-03-01 00:00:00|     85|     52|\n",
            "|011084|1926-04-01 00:00:00|     86|     72|\n",
            "|011084|1926-05-01 00:00:00|     97|     73|\n",
            "|011084|1926-06-01 00:00:00|     99|     79|\n",
            "|011084|1926-07-01 00:00:00|     99|     82|\n",
            "|011084|1926-08-01 00:00:00|    101|     80|\n",
            "|011084|1926-09-01 00:00:00|     99|     79|\n",
            "|011084|1926-10-01 00:00:00|     98|     61|\n",
            "+------+-------------------+-------+-------+\n",
            "only showing top 10 rows\n",
            "\n"
          ],
          "name": "stdout"
        }
      ]
    },
    {
      "cell_type": "markdown",
      "metadata": {
        "id": "pL7l974e2MDi",
        "colab_type": "text"
      },
      "source": [
        "Creating a new datapoint avgTemp using  func.when construct."
      ]
    },
    {
      "cell_type": "code",
      "metadata": {
        "id": "-F5pq3aHHnaK",
        "colab_type": "code",
        "colab": {}
      },
      "source": [
        "consolidatedTMAXdict_df = consolidatedTMAXdict_df.withColumn('avgTemp',func.when((consolidatedTMAXdict_df['maxTemp'] !=0)  & (consolidatedTMAXdict_df['minTemp'] != 0),(consolidatedTMAXdict_df['maxTemp']+consolidatedTMAXdict_df['minTemp'])/2).otherwise(consolidatedTMAXdict_df['maxTemp']+consolidatedTMAXdict_df['minTemp']))"
      ],
      "execution_count": 0,
      "outputs": []
    },
    {
      "cell_type": "code",
      "metadata": {
        "id": "rKEE-K5d14rz",
        "colab_type": "code",
        "colab": {
          "base_uri": "https://localhost:8080/",
          "height": 301
        },
        "outputId": "29f39835-e1ab-41a5-a7d2-a8427ac4b0fc"
      },
      "source": [
        "consolidatedTMAXdict_df.show(10)"
      ],
      "execution_count": 202,
      "outputs": [
        {
          "output_type": "stream",
          "text": [
            "+------+-------------------+-------+-------+-------+\n",
            "|   key|               date|maxTemp|minTemp|avgTemp|\n",
            "+------+-------------------+-------+-------+-------+\n",
            "|011084|1926-01-01 00:00:00|     75|     41|   58.0|\n",
            "|011084|1926-02-01 00:00:00|     77|     56|   66.5|\n",
            "|011084|1926-03-01 00:00:00|     85|     52|   68.5|\n",
            "|011084|1926-04-01 00:00:00|     86|     72|   79.0|\n",
            "|011084|1926-05-01 00:00:00|     97|     73|   85.0|\n",
            "|011084|1926-06-01 00:00:00|     99|     79|   89.0|\n",
            "|011084|1926-07-01 00:00:00|     99|     82|   90.5|\n",
            "|011084|1926-08-01 00:00:00|    101|     80|   90.5|\n",
            "|011084|1926-09-01 00:00:00|     99|     79|   89.0|\n",
            "|011084|1926-10-01 00:00:00|     98|     61|   79.5|\n",
            "+------+-------------------+-------+-------+-------+\n",
            "only showing top 10 rows\n",
            "\n"
          ],
          "name": "stdout"
        }
      ]
    },
    {
      "cell_type": "code",
      "metadata": {
        "id": "cjqJNGE41fom",
        "colab_type": "code",
        "colab": {}
      },
      "source": [
        "sdf = consolidatedTMAXdict_df"
      ],
      "execution_count": 0,
      "outputs": []
    },
    {
      "cell_type": "markdown",
      "metadata": {
        "id": "EGFS6cxmClcj",
        "colab_type": "text"
      },
      "source": [
        "Implementing the moving average functionality using windowSpec. In this window spec, the data is partitioned by key. The data is ordered by date. And, the window frame is defined as starting from -1 (one row before the current row) and ending at 1 (one row after the current row), for a total of 3 rows in the sliding window."
      ]
    },
    {
      "cell_type": "code",
      "metadata": {
        "id": "qGFWO9q27RD-",
        "colab_type": "code",
        "colab": {}
      },
      "source": [
        "windowSpec = Window.partitionBy(\"key\").orderBy(\"date\").rowsBetween(-1, 1)"
      ],
      "execution_count": 0,
      "outputs": []
    },
    {
      "cell_type": "code",
      "metadata": {
        "id": "h-CuP1re73eb",
        "colab_type": "code",
        "colab": {}
      },
      "source": [
        "sdf_withMA = sdf.withColumn('movAvg', func.avg(\"avgTemp\").over(windowSpec))"
      ],
      "execution_count": 0,
      "outputs": []
    },
    {
      "cell_type": "code",
      "metadata": {
        "id": "Ir1kRBtR7_-5",
        "colab_type": "code",
        "colab": {
          "base_uri": "https://localhost:8080/",
          "height": 301
        },
        "outputId": "f340e866-eaba-44cb-bd16-beb70ca04443"
      },
      "source": [
        "sdf_withMA.show(10)"
      ],
      "execution_count": 216,
      "outputs": [
        {
          "output_type": "stream",
          "text": [
            "+------+-------------------+-------+-------+-------+------------------+\n",
            "|   key|               date|maxTemp|minTemp|avgTemp|            movAvg|\n",
            "+------+-------------------+-------+-------+-------+------------------+\n",
            "|029652|1920-09-01 00:00:00|    107|      0|  107.0|             103.0|\n",
            "|029652|1920-10-01 00:00:00|     99|      0|   99.0| 96.33333333333333|\n",
            "|029652|1920-11-01 00:00:00|     83|      0|   83.0| 85.33333333333333|\n",
            "|029652|1920-12-01 00:00:00|     74|      0|   74.0| 78.33333333333333|\n",
            "|029652|1921-01-01 00:00:00|     78|      0|   78.0|              81.0|\n",
            "|029652|1921-02-01 00:00:00|     91|      0|   91.0| 86.66666666666667|\n",
            "|029652|1921-03-01 00:00:00|     91|      0|   91.0| 94.33333333333333|\n",
            "|029652|1921-04-01 00:00:00|    101|      0|  101.0| 98.33333333333333|\n",
            "|029652|1921-05-01 00:00:00|    103|      0|  103.0|104.33333333333333|\n",
            "|029652|1921-06-01 00:00:00|    109|      0|  109.0|107.33333333333333|\n",
            "+------+-------------------+-------+-------+-------+------------------+\n",
            "only showing top 10 rows\n",
            "\n"
          ],
          "name": "stdout"
        }
      ]
    },
    {
      "cell_type": "code",
      "metadata": {
        "id": "wnQybkNGVgG1",
        "colab_type": "code",
        "colab": {}
      },
      "source": [
        "sdf_withMA = sdf_withMA.withColumn(\"sqrdDiff_avg_mov\",(sdf_withMA['avgTemp']-sdf_withMA['movAvg'])*(sdf_withMA['avgTemp']-sdf_withMA['movAvg']))"
      ],
      "execution_count": 0,
      "outputs": []
    },
    {
      "cell_type": "code",
      "metadata": {
        "id": "UKgkn58QWBwK",
        "colab_type": "code",
        "colab": {
          "base_uri": "https://localhost:8080/",
          "height": 301
        },
        "outputId": "9cd16e7a-ad77-405c-beb1-6cfa066bcaad"
      },
      "source": [
        "sdf_withMA.show(10)"
      ],
      "execution_count": 218,
      "outputs": [
        {
          "output_type": "stream",
          "text": [
            "+------+-------------------+-------+-------+-------+------------------+------------------+\n",
            "|   key|               date|maxTemp|minTemp|avgTemp|            movAvg|  sqrdDiff_avg_mov|\n",
            "+------+-------------------+-------+-------+-------+------------------+------------------+\n",
            "|029652|1920-09-01 00:00:00|    107|      0|  107.0|             103.0|              16.0|\n",
            "|029652|1920-10-01 00:00:00|     99|      0|   99.0| 96.33333333333333|7.1111111111111365|\n",
            "|029652|1920-11-01 00:00:00|     83|      0|   83.0| 85.33333333333333| 5.444444444444422|\n",
            "|029652|1920-12-01 00:00:00|     74|      0|   74.0| 78.33333333333333|18.777777777777736|\n",
            "|029652|1921-01-01 00:00:00|     78|      0|   78.0|              81.0|               9.0|\n",
            "|029652|1921-02-01 00:00:00|     91|      0|   91.0| 86.66666666666667|18.777777777777736|\n",
            "|029652|1921-03-01 00:00:00|     91|      0|   91.0| 94.33333333333333|11.111111111111079|\n",
            "|029652|1921-04-01 00:00:00|    101|      0|  101.0| 98.33333333333333|7.1111111111111365|\n",
            "|029652|1921-05-01 00:00:00|    103|      0|  103.0|104.33333333333333|1.7777777777777652|\n",
            "|029652|1921-06-01 00:00:00|    109|      0|  109.0|107.33333333333333|2.7777777777777937|\n",
            "+------+-------------------+-------+-------+-------+------------------+------------------+\n",
            "only showing top 10 rows\n",
            "\n"
          ],
          "name": "stdout"
        }
      ]
    },
    {
      "cell_type": "code",
      "metadata": {
        "id": "1XdqtbE2XRIi",
        "colab_type": "code",
        "colab": {
          "base_uri": "https://localhost:8080/",
          "height": 212
        },
        "outputId": "d1dc4e6b-4b90-47d9-f5f0-ec84b7235408"
      },
      "source": [
        "sdf_withMA.groupby(['key'])\\\n",
        ".agg({\"sqrdDiff_avg_mov\": \"AVG\"})\\\n",
        ".show(5)"
      ],
      "execution_count": 220,
      "outputs": [
        {
          "output_type": "stream",
          "text": [
            "+------+---------------------+\n",
            "|   key|avg(sqrdDiff_avg_mov)|\n",
            "+------+---------------------+\n",
            "|029652|   18.798756798756752|\n",
            "|013160|    7.536277859118267|\n",
            "|024089|    24.53927918950335|\n",
            "|043257|   11.860532407407401|\n",
            "|026796|   10.056261599289948|\n",
            "+------+---------------------+\n",
            "only showing top 5 rows\n",
            "\n"
          ],
          "name": "stdout"
        }
      ]
    },
    {
      "cell_type": "code",
      "metadata": {
        "id": "yPRK60gVZwNK",
        "colab_type": "code",
        "colab": {}
      },
      "source": [
        "pd_029652 = sdf_withMA.filter(sdf_withMA[\"key\"]==\"029652\").toPandas()"
      ],
      "execution_count": 0,
      "outputs": []
    }
  ]
}