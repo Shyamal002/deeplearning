{
  "nbformat": 4,
  "nbformat_minor": 0,
  "metadata": {
    "colab": {
      "name": "pySpark_Codes_3.ipynb",
      "provenance": [],
      "collapsed_sections": [],
      "toc_visible": true,
      "include_colab_link": true
    },
    "kernelspec": {
      "name": "python3",
      "display_name": "Python 3"
    }
  },
  "cells": [
    {
      "cell_type": "markdown",
      "metadata": {
        "id": "view-in-github",
        "colab_type": "text"
      },
      "source": [
        "<a href=\"https://colab.research.google.com/github/datasigntist/deeplearning/blob/master/pySpark_Codes_3.ipynb\" target=\"_parent\"><img src=\"https://colab.research.google.com/assets/colab-badge.svg\" alt=\"Open In Colab\"/></a>"
      ]
    },
    {
      "cell_type": "markdown",
      "metadata": {
        "id": "IEjZ0QWVGU4N",
        "colab_type": "text"
      },
      "source": [
        "# **Experiments with Spark**\n",
        "\n",
        "Author : Vishwanathan Raman\n",
        "\n",
        "EmailId : datasigntist@gmail.com\n",
        "\n",
        "Description : This notebook covers the basics of building a machine learning model in Spark. A logistic regression model is developed using Iris dataset https://archive.ics.uci.edu/ml/datasets/Iris . Download the data and upload it the google colab environment\n",
        "   \n",
        "\n",
        "Reference Links:\n",
        "\n",
        "*   Introduction to Spark 1 : https://youtu.be/TuGn3e1EgXM\n",
        "*   Introduction to Spark 2 : https://youtu.be/JruCKuWHKpk\n",
        "*   Introduction to Spark 3 : https://youtu.be/c9jd4yZGyT8\n",
        "*   Introduction to RDD 1   : https://youtu.be/M7UuKHYecXQ\n",
        "*   Introduction to RDD 2   : https://youtu.be/qLGUPdSvAVg\n",
        "*   Introduction to RDD 3   : https://youtu.be/9NBP-FiHrQg\n",
        "\n"
      ]
    },
    {
      "cell_type": "markdown",
      "metadata": {
        "id": "IDKi0NXTwTUK",
        "colab_type": "text"
      },
      "source": [
        "## Spark Installation in Google Colab"
      ]
    },
    {
      "cell_type": "code",
      "metadata": {
        "id": "a00WIwTYjZU-",
        "colab_type": "code",
        "colab": {}
      },
      "source": [
        "!apt-get install openjdk-8-jdk-headless -qq > /dev/null\n",
        "!wget -q http://www-eu.apache.org/dist/spark/spark-2.4.4/spark-2.4.4-bin-hadoop2.7.tgz\n",
        "!tar xf spark-2.4.4-bin-hadoop2.7.tgz\n",
        "!pip install -q findspark"
      ],
      "execution_count": 0,
      "outputs": []
    },
    {
      "cell_type": "code",
      "metadata": {
        "id": "ecTfHk4Hjd0Q",
        "colab_type": "code",
        "colab": {}
      },
      "source": [
        "import os\n",
        "os.environ[\"JAVA_HOME\"] = \"/usr/lib/jvm/java-8-openjdk-amd64\"\n",
        "os.environ[\"SPARK_HOME\"] = \"/content/spark-2.4.4-bin-hadoop2.7\""
      ],
      "execution_count": 0,
      "outputs": []
    },
    {
      "cell_type": "code",
      "metadata": {
        "id": "8h1g1SeZx6gh",
        "colab_type": "code",
        "colab": {}
      },
      "source": [
        "import findspark\n",
        "findspark.init()\n",
        "from pyspark.sql import SparkSession\n",
        "spark = SparkSession.builder.master(\"local[*]\").getOrCreate()"
      ],
      "execution_count": 0,
      "outputs": []
    },
    {
      "cell_type": "markdown",
      "metadata": {
        "id": "17iVQDPBgfyM",
        "colab_type": "text"
      },
      "source": [
        "## Importing Specific Libraries and Onboarding data"
      ]
    },
    {
      "cell_type": "code",
      "metadata": {
        "id": "478NRp4HGuv-",
        "colab_type": "code",
        "colab": {}
      },
      "source": [
        "from pyspark.sql.functions import *\n",
        "from pyspark.ml.classification import *\n",
        "from pyspark.ml.evaluation import *\n",
        "from pyspark.ml.feature import *\n",
        "from pyspark.sql import SQLContext\n",
        "import pandas as pd"
      ],
      "execution_count": 0,
      "outputs": []
    },
    {
      "cell_type": "code",
      "metadata": {
        "id": "hzSmpBiKhWY-",
        "colab_type": "code",
        "colab": {}
      },
      "source": [
        "sqlContext = SQLContext(spark)"
      ],
      "execution_count": 0,
      "outputs": []
    },
    {
      "cell_type": "code",
      "metadata": {
        "id": "LMvw2RC7f5wf",
        "colab_type": "code",
        "colab": {}
      },
      "source": [
        "irisData = pd.read_csv('iris_data',header=None)"
      ],
      "execution_count": 0,
      "outputs": []
    },
    {
      "cell_type": "code",
      "metadata": {
        "id": "JVhoQM1ngtil",
        "colab_type": "code",
        "colab": {
          "base_uri": "https://localhost:8080/",
          "height": 197
        },
        "outputId": "4174aaf4-e67a-441f-d1b1-1b2f9255f3fd"
      },
      "source": [
        "irisData.head()"
      ],
      "execution_count": 11,
      "outputs": [
        {
          "output_type": "execute_result",
          "data": {
            "text/html": [
              "<div>\n",
              "<style scoped>\n",
              "    .dataframe tbody tr th:only-of-type {\n",
              "        vertical-align: middle;\n",
              "    }\n",
              "\n",
              "    .dataframe tbody tr th {\n",
              "        vertical-align: top;\n",
              "    }\n",
              "\n",
              "    .dataframe thead th {\n",
              "        text-align: right;\n",
              "    }\n",
              "</style>\n",
              "<table border=\"1\" class=\"dataframe\">\n",
              "  <thead>\n",
              "    <tr style=\"text-align: right;\">\n",
              "      <th></th>\n",
              "      <th>0</th>\n",
              "      <th>1</th>\n",
              "      <th>2</th>\n",
              "      <th>3</th>\n",
              "      <th>4</th>\n",
              "    </tr>\n",
              "  </thead>\n",
              "  <tbody>\n",
              "    <tr>\n",
              "      <th>0</th>\n",
              "      <td>5.1</td>\n",
              "      <td>3.5</td>\n",
              "      <td>1.4</td>\n",
              "      <td>0.2</td>\n",
              "      <td>Iris-setosa</td>\n",
              "    </tr>\n",
              "    <tr>\n",
              "      <th>1</th>\n",
              "      <td>4.9</td>\n",
              "      <td>3.0</td>\n",
              "      <td>1.4</td>\n",
              "      <td>0.2</td>\n",
              "      <td>Iris-setosa</td>\n",
              "    </tr>\n",
              "    <tr>\n",
              "      <th>2</th>\n",
              "      <td>4.7</td>\n",
              "      <td>3.2</td>\n",
              "      <td>1.3</td>\n",
              "      <td>0.2</td>\n",
              "      <td>Iris-setosa</td>\n",
              "    </tr>\n",
              "    <tr>\n",
              "      <th>3</th>\n",
              "      <td>4.6</td>\n",
              "      <td>3.1</td>\n",
              "      <td>1.5</td>\n",
              "      <td>0.2</td>\n",
              "      <td>Iris-setosa</td>\n",
              "    </tr>\n",
              "    <tr>\n",
              "      <th>4</th>\n",
              "      <td>5.0</td>\n",
              "      <td>3.6</td>\n",
              "      <td>1.4</td>\n",
              "      <td>0.2</td>\n",
              "      <td>Iris-setosa</td>\n",
              "    </tr>\n",
              "  </tbody>\n",
              "</table>\n",
              "</div>"
            ],
            "text/plain": [
              "     0    1    2    3            4\n",
              "0  5.1  3.5  1.4  0.2  Iris-setosa\n",
              "1  4.9  3.0  1.4  0.2  Iris-setosa\n",
              "2  4.7  3.2  1.3  0.2  Iris-setosa\n",
              "3  4.6  3.1  1.5  0.2  Iris-setosa\n",
              "4  5.0  3.6  1.4  0.2  Iris-setosa"
            ]
          },
          "metadata": {
            "tags": []
          },
          "execution_count": 11
        }
      ]
    },
    {
      "cell_type": "markdown",
      "metadata": {
        "id": "GNJha8Imhhiv",
        "colab_type": "text"
      },
      "source": [
        "Using sqlContext to Spark dataframe from the pandas dataframe"
      ]
    },
    {
      "cell_type": "code",
      "metadata": {
        "id": "bZyYYPJngvLS",
        "colab_type": "code",
        "colab": {
          "base_uri": "https://localhost:8080/",
          "height": 141
        },
        "outputId": "bd04ff4f-ae2c-4802-9c60-dfc9fa6f450f"
      },
      "source": [
        "sdf = sqlContext.createDataFrame(irisData,[\"SepalLength\",\"SepalWidth\",\"PetalLength\",\"PetalWidth\",\"class\"]) \n",
        "sdf.printSchema()"
      ],
      "execution_count": 14,
      "outputs": [
        {
          "output_type": "stream",
          "text": [
            "root\n",
            " |-- SepalLength: double (nullable = true)\n",
            " |-- SepalWidth: double (nullable = true)\n",
            " |-- PetalLength: double (nullable = true)\n",
            " |-- PetalWidth: double (nullable = true)\n",
            " |-- class: string (nullable = true)\n",
            "\n"
          ],
          "name": "stdout"
        }
      ]
    },
    {
      "cell_type": "code",
      "metadata": {
        "id": "s6_3VkE1hnbW",
        "colab_type": "code",
        "colab": {
          "base_uri": "https://localhost:8080/",
          "height": 212
        },
        "outputId": "7f47d4c3-23aa-44b3-d52a-c8e604290192"
      },
      "source": [
        "sdf.show(5)"
      ],
      "execution_count": 15,
      "outputs": [
        {
          "output_type": "stream",
          "text": [
            "+-----------+----------+-----------+----------+-----------+\n",
            "|SepalLength|SepalWidth|PetalLength|PetalWidth|      class|\n",
            "+-----------+----------+-----------+----------+-----------+\n",
            "|        5.1|       3.5|        1.4|       0.2|Iris-setosa|\n",
            "|        4.9|       3.0|        1.4|       0.2|Iris-setosa|\n",
            "|        4.7|       3.2|        1.3|       0.2|Iris-setosa|\n",
            "|        4.6|       3.1|        1.5|       0.2|Iris-setosa|\n",
            "|        5.0|       3.6|        1.4|       0.2|Iris-setosa|\n",
            "+-----------+----------+-----------+----------+-----------+\n",
            "only showing top 5 rows\n",
            "\n"
          ],
          "name": "stdout"
        }
      ]
    },
    {
      "cell_type": "markdown",
      "metadata": {
        "id": "bgWXYTT-h0O_",
        "colab_type": "text"
      },
      "source": [
        "## Prepping the data for modelling"
      ]
    },
    {
      "cell_type": "markdown",
      "metadata": {
        "id": "NMeEHx6tiFiv",
        "colab_type": "text"
      },
      "source": [
        "Identifying the feature set excluding the class which is the last column"
      ]
    },
    {
      "cell_type": "code",
      "metadata": {
        "id": "r3WTkRPchr0J",
        "colab_type": "code",
        "colab": {
          "base_uri": "https://localhost:8080/",
          "height": 34
        },
        "outputId": "e4826daf-2524-4484-fa0c-121879dda48c"
      },
      "source": [
        "sdf.columns[:-1]\n",
        "feature_cols = sdf.columns[:-1]\n",
        "print(\"Feature Columns \",feature_cols)"
      ],
      "execution_count": 18,
      "outputs": [
        {
          "output_type": "stream",
          "text": [
            "Feature Columns  ['SepalLength', 'SepalWidth', 'PetalLength', 'PetalWidth']\n"
          ],
          "name": "stdout"
        }
      ]
    },
    {
      "cell_type": "markdown",
      "metadata": {
        "id": "nVf8n_twifBN",
        "colab_type": "text"
      },
      "source": [
        "VectorAssembler builds the feature vector for each data point as reflected in the features column below"
      ]
    },
    {
      "cell_type": "code",
      "metadata": {
        "id": "xVYZNU1RiIgJ",
        "colab_type": "code",
        "colab": {
          "base_uri": "https://localhost:8080/",
          "height": 212
        },
        "outputId": "1a8937fe-7550-4514-9d05-3f8a8d672e1f"
      },
      "source": [
        "assembler = VectorAssembler(inputCols=feature_cols, outputCol='features')\n",
        "data = assembler.transform(sdf)\n",
        "data.show(5)"
      ],
      "execution_count": 19,
      "outputs": [
        {
          "output_type": "stream",
          "text": [
            "+-----------+----------+-----------+----------+-----------+-----------------+\n",
            "|SepalLength|SepalWidth|PetalLength|PetalWidth|      class|         features|\n",
            "+-----------+----------+-----------+----------+-----------+-----------------+\n",
            "|        5.1|       3.5|        1.4|       0.2|Iris-setosa|[5.1,3.5,1.4,0.2]|\n",
            "|        4.9|       3.0|        1.4|       0.2|Iris-setosa|[4.9,3.0,1.4,0.2]|\n",
            "|        4.7|       3.2|        1.3|       0.2|Iris-setosa|[4.7,3.2,1.3,0.2]|\n",
            "|        4.6|       3.1|        1.5|       0.2|Iris-setosa|[4.6,3.1,1.5,0.2]|\n",
            "|        5.0|       3.6|        1.4|       0.2|Iris-setosa|[5.0,3.6,1.4,0.2]|\n",
            "+-----------+----------+-----------+----------+-----------+-----------------+\n",
            "only showing top 5 rows\n",
            "\n"
          ],
          "name": "stdout"
        }
      ]
    },
    {
      "cell_type": "markdown",
      "metadata": {
        "id": "KtgohyR3i1mw",
        "colab_type": "text"
      },
      "source": [
        "Selecting only those columns that needs to be taken forward for modelling"
      ]
    },
    {
      "cell_type": "code",
      "metadata": {
        "id": "g2-6fRt6idSV",
        "colab_type": "code",
        "colab": {
          "base_uri": "https://localhost:8080/",
          "height": 212
        },
        "outputId": "46c3d7a0-51d8-4f28-ab7d-0138a01c7557"
      },
      "source": [
        "dataForModelling = data.select(['features', 'class'])\n",
        "dataForModelling.show(5)"
      ],
      "execution_count": 21,
      "outputs": [
        {
          "output_type": "stream",
          "text": [
            "+-----------------+-----------+\n",
            "|         features|      class|\n",
            "+-----------------+-----------+\n",
            "|[5.1,3.5,1.4,0.2]|Iris-setosa|\n",
            "|[4.9,3.0,1.4,0.2]|Iris-setosa|\n",
            "|[4.7,3.2,1.3,0.2]|Iris-setosa|\n",
            "|[4.6,3.1,1.5,0.2]|Iris-setosa|\n",
            "|[5.0,3.6,1.4,0.2]|Iris-setosa|\n",
            "+-----------------+-----------+\n",
            "only showing top 5 rows\n",
            "\n"
          ],
          "name": "stdout"
        }
      ]
    },
    {
      "cell_type": "markdown",
      "metadata": {
        "id": "LDC9lvcNjExX",
        "colab_type": "text"
      },
      "source": [
        "Using StringIndexer to convert the class labels to its numerical values"
      ]
    },
    {
      "cell_type": "code",
      "metadata": {
        "id": "5BoPoppii79-",
        "colab_type": "code",
        "colab": {}
      },
      "source": [
        "label_indexer = StringIndexer(inputCol='class', outputCol='label').fit(data)"
      ],
      "execution_count": 0,
      "outputs": []
    },
    {
      "cell_type": "code",
      "metadata": {
        "id": "piIz_8KRj948",
        "colab_type": "code",
        "colab": {}
      },
      "source": [
        "dataForModellingWithLabels = label_indexer.transform(dataForModelling)"
      ],
      "execution_count": 0,
      "outputs": []
    },
    {
      "cell_type": "code",
      "metadata": {
        "id": "pidi3pICj_TW",
        "colab_type": "code",
        "colab": {
          "base_uri": "https://localhost:8080/",
          "height": 212
        },
        "outputId": "8696fecf-76cb-4880-cd66-712b540c4836"
      },
      "source": [
        "dataForModellingWithLabels.show(5)"
      ],
      "execution_count": 26,
      "outputs": [
        {
          "output_type": "stream",
          "text": [
            "+-----------------+-----------+-----+\n",
            "|         features|      class|label|\n",
            "+-----------------+-----------+-----+\n",
            "|[5.1,3.5,1.4,0.2]|Iris-setosa|  2.0|\n",
            "|[4.9,3.0,1.4,0.2]|Iris-setosa|  2.0|\n",
            "|[4.7,3.2,1.3,0.2]|Iris-setosa|  2.0|\n",
            "|[4.6,3.1,1.5,0.2]|Iris-setosa|  2.0|\n",
            "|[5.0,3.6,1.4,0.2]|Iris-setosa|  2.0|\n",
            "+-----------------+-----------+-----+\n",
            "only showing top 5 rows\n",
            "\n"
          ],
          "name": "stdout"
        }
      ]
    },
    {
      "cell_type": "code",
      "metadata": {
        "id": "tncnMVWekMF4",
        "colab_type": "code",
        "colab": {
          "base_uri": "https://localhost:8080/",
          "height": 212
        },
        "outputId": "ecd961fb-9ab9-4b9c-f441-36c7c6380bb6"
      },
      "source": [
        "dataForModellingWithLabels = dataForModellingWithLabels.select(['features', 'label'])\n",
        "dataForModellingWithLabels.show(5)"
      ],
      "execution_count": 27,
      "outputs": [
        {
          "output_type": "stream",
          "text": [
            "+-----------------+-----+\n",
            "|         features|label|\n",
            "+-----------------+-----+\n",
            "|[5.1,3.5,1.4,0.2]|  2.0|\n",
            "|[4.9,3.0,1.4,0.2]|  2.0|\n",
            "|[4.7,3.2,1.3,0.2]|  2.0|\n",
            "|[4.6,3.1,1.5,0.2]|  2.0|\n",
            "|[5.0,3.6,1.4,0.2]|  2.0|\n",
            "+-----------------+-----+\n",
            "only showing top 5 rows\n",
            "\n"
          ],
          "name": "stdout"
        }
      ]
    },
    {
      "cell_type": "markdown",
      "metadata": {
        "id": "A2WWSsiMmCCH",
        "colab_type": "text"
      },
      "source": [
        "Split the data into training and testing, building a model using logistic regression"
      ]
    },
    {
      "cell_type": "code",
      "metadata": {
        "id": "8xIiYY-Ol5Ug",
        "colab_type": "code",
        "colab": {}
      },
      "source": [
        "train, test = dataForModellingWithLabels.randomSplit([0.70, 0.30])\n",
        "lr = LogisticRegression(regParam=0.01)\n",
        "model = lr.fit(train)"
      ],
      "execution_count": 0,
      "outputs": []
    },
    {
      "cell_type": "markdown",
      "metadata": {
        "id": "DieiLHm8nxBp",
        "colab_type": "text"
      },
      "source": [
        "Run the model on the test data"
      ]
    },
    {
      "cell_type": "code",
      "metadata": {
        "id": "HxqMfhUmmmjm",
        "colab_type": "code",
        "colab": {
          "base_uri": "https://localhost:8080/",
          "height": 318
        },
        "outputId": "12f1e53d-1296-44aa-a90e-083484f187fc"
      },
      "source": [
        "prediction = model.transform(test)\n",
        "print(\"Prediction\")\n",
        "prediction.show(10)"
      ],
      "execution_count": 31,
      "outputs": [
        {
          "output_type": "stream",
          "text": [
            "Prediction\n",
            "+-----------------+-----+--------------------+--------------------+----------+\n",
            "|         features|label|       rawPrediction|         probability|prediction|\n",
            "+-----------------+-----+--------------------+--------------------+----------+\n",
            "|[4.4,3.2,1.3,0.2]|  2.0|[2.04363189580373...|[0.01170535202404...|       2.0|\n",
            "|[4.7,3.2,1.3,0.2]|  2.0|[2.18593338860795...|[0.02027222498244...|       2.0|\n",
            "|[4.9,3.0,1.4,0.2]|  2.0|[2.50699848637643...|[0.06039632656466...|       2.0|\n",
            "|[5.0,3.4,1.5,0.2]|  2.0|[2.07914187176316...|[0.02179594114258...|       2.0|\n",
            "|[5.0,3.5,1.3,0.3]|  2.0|[1.88931514926596...|[0.01459390090949...|       2.0|\n",
            "|[5.0,3.6,1.4,0.2]|  2.0|[1.85294443586416...|[0.01029704957166...|       2.0|\n",
            "|[5.1,3.3,1.7,0.5]|  2.0|[1.96369925950425...|[0.05924765576852...|       2.0|\n",
            "|[5.1,3.5,1.4,0.2]|  2.0|[2.01729291370674...|[0.01720705906148...|       2.0|\n",
            "|[5.1,3.8,1.9,0.4]|  2.0|[1.45203810055444...|[0.01257389227628...|       2.0|\n",
            "|[5.2,2.7,3.9,1.4]|  0.0|[1.75113797491478...|[0.87219297097063...|       0.0|\n",
            "+-----------------+-----+--------------------+--------------------+----------+\n",
            "only showing top 10 rows\n",
            "\n"
          ],
          "name": "stdout"
        }
      ]
    },
    {
      "cell_type": "code",
      "metadata": {
        "id": "m9lYXilem_AT",
        "colab_type": "code",
        "colab": {
          "base_uri": "https://localhost:8080/",
          "height": 123
        },
        "outputId": "72034475-ef5b-41d9-bee8-83a9783d6298"
      },
      "source": [
        "evaluator = MulticlassClassificationEvaluator(metricName='accuracy')\n",
        "accuracy = evaluator.evaluate(prediction)\n",
        "\n",
        "print()\n",
        "print('#####################################')\n",
        "print('Regularization rate is {}'.format(0.01))\n",
        "print(\"Accuracy is {}\".format(accuracy))\n",
        "print('#####################################')\n",
        "print()"
      ],
      "execution_count": 32,
      "outputs": [
        {
          "output_type": "stream",
          "text": [
            "\n",
            "#####################################\n",
            "Regularization rate is 0.01\n",
            "Accuracy is 0.9111111111111111\n",
            "#####################################\n",
            "\n"
          ],
          "name": "stdout"
        }
      ]
    }
  ]
}