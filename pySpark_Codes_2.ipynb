{
  "nbformat": 4,
  "nbformat_minor": 0,
  "metadata": {
    "colab": {
      "name": "pySpark_Codes_2.ipynb",
      "provenance": [],
      "collapsed_sections": [],
      "toc_visible": true,
      "include_colab_link": true
    },
    "kernelspec": {
      "name": "python3",
      "display_name": "Python 3"
    }
  },
  "cells": [
    {
      "cell_type": "markdown",
      "metadata": {
        "id": "view-in-github",
        "colab_type": "text"
      },
      "source": [
        "<a href=\"https://colab.research.google.com/github/datasigntist/deeplearning/blob/master/pySpark_Codes_2.ipynb\" target=\"_parent\"><img src=\"https://colab.research.google.com/assets/colab-badge.svg\" alt=\"Open In Colab\"/></a>"
      ]
    },
    {
      "cell_type": "markdown",
      "metadata": {
        "id": "IEjZ0QWVGU4N",
        "colab_type": "text"
      },
      "source": [
        "# **Experiments with Spark**\n",
        "\n",
        "Author : Vishwanathan Raman\n",
        "\n",
        "EmailId : datasigntist@gmail.com\n",
        "\n",
        "Description : This notebook covers basic to intermediate concepts through practical experimentation on pySpark. The following are covered\n",
        "*   SQLContext \n",
        "   \n",
        "\n",
        "Reference Links:\n",
        "\n",
        "*   Introduction to Spark 1 : https://youtu.be/TuGn3e1EgXM\n",
        "*   Introduction to Spark 2 : https://youtu.be/JruCKuWHKpk\n",
        "*   Introduction to Spark 3 : https://youtu.be/c9jd4yZGyT8\n",
        "*   Introduction to RDD 1   : https://youtu.be/M7UuKHYecXQ\n",
        "*   Introduction to RDD 2   : https://youtu.be/qLGUPdSvAVg\n",
        "*   Introduction to RDD 3   : https://youtu.be/9NBP-FiHrQg\n",
        "\n"
      ]
    },
    {
      "cell_type": "markdown",
      "metadata": {
        "id": "IDKi0NXTwTUK",
        "colab_type": "text"
      },
      "source": [
        "## **Spark Installation in Google Colab**"
      ]
    },
    {
      "cell_type": "code",
      "metadata": {
        "id": "a00WIwTYjZU-",
        "colab_type": "code",
        "colab": {}
      },
      "source": [
        "!apt-get install openjdk-8-jdk-headless -qq > /dev/null\n",
        "!wget -q http://www-eu.apache.org/dist/spark/spark-2.4.4/spark-2.4.4-bin-hadoop2.7.tgz\n",
        "!tar xf spark-2.4.4-bin-hadoop2.7.tgz\n",
        "!pip install -q findspark"
      ],
      "execution_count": 0,
      "outputs": []
    },
    {
      "cell_type": "code",
      "metadata": {
        "id": "ecTfHk4Hjd0Q",
        "colab_type": "code",
        "colab": {}
      },
      "source": [
        "import os\n",
        "os.environ[\"JAVA_HOME\"] = \"/usr/lib/jvm/java-8-openjdk-amd64\"\n",
        "os.environ[\"SPARK_HOME\"] = \"/content/spark-2.4.4-bin-hadoop2.7\""
      ],
      "execution_count": 0,
      "outputs": []
    },
    {
      "cell_type": "code",
      "metadata": {
        "id": "8h1g1SeZx6gh",
        "colab_type": "code",
        "colab": {}
      },
      "source": [
        "import findspark\n",
        "findspark.init()\n",
        "from pyspark.sql import SparkSession\n",
        "spark = SparkSession.builder.master(\"local[*]\").getOrCreate()"
      ],
      "execution_count": 0,
      "outputs": []
    },
    {
      "cell_type": "code",
      "metadata": {
        "id": "478NRp4HGuv-",
        "colab_type": "code",
        "colab": {}
      },
      "source": [
        "from pyspark.sql import SQLContext"
      ],
      "execution_count": 0,
      "outputs": []
    },
    {
      "cell_type": "markdown",
      "metadata": {
        "id": "HTqPg92uG_mU",
        "colab_type": "text"
      },
      "source": [
        "## Downloading data from online source"
      ]
    },
    {
      "cell_type": "code",
      "metadata": {
        "id": "33DwkgwTG0hJ",
        "colab_type": "code",
        "colab": {}
      },
      "source": [
        "import pandas as pd\n",
        "mtcars = pd.read_csv('https://raw.githubusercontent.com/datasigntist/datasetsForTraining/master/mtcars.csv')"
      ],
      "execution_count": 0,
      "outputs": []
    },
    {
      "cell_type": "code",
      "metadata": {
        "id": "X_-A5SLnHYyP",
        "colab_type": "code",
        "colab": {
          "base_uri": "https://localhost:8080/",
          "height": 197
        },
        "outputId": "c631f540-962b-446e-f062-0ad5525de01c"
      },
      "source": [
        "mtcars.head()"
      ],
      "execution_count": 10,
      "outputs": [
        {
          "output_type": "execute_result",
          "data": {
            "text/html": [
              "<div>\n",
              "<style scoped>\n",
              "    .dataframe tbody tr th:only-of-type {\n",
              "        vertical-align: middle;\n",
              "    }\n",
              "\n",
              "    .dataframe tbody tr th {\n",
              "        vertical-align: top;\n",
              "    }\n",
              "\n",
              "    .dataframe thead th {\n",
              "        text-align: right;\n",
              "    }\n",
              "</style>\n",
              "<table border=\"1\" class=\"dataframe\">\n",
              "  <thead>\n",
              "    <tr style=\"text-align: right;\">\n",
              "      <th></th>\n",
              "      <th>car</th>\n",
              "      <th>mpg</th>\n",
              "      <th>cyl</th>\n",
              "      <th>disp</th>\n",
              "      <th>hp</th>\n",
              "      <th>drat</th>\n",
              "      <th>wt</th>\n",
              "      <th>qsec</th>\n",
              "      <th>vs</th>\n",
              "      <th>am</th>\n",
              "      <th>gear</th>\n",
              "      <th>carb</th>\n",
              "    </tr>\n",
              "  </thead>\n",
              "  <tbody>\n",
              "    <tr>\n",
              "      <th>0</th>\n",
              "      <td>Mazda RX4</td>\n",
              "      <td>21.0</td>\n",
              "      <td>6</td>\n",
              "      <td>160.0</td>\n",
              "      <td>110</td>\n",
              "      <td>3.90</td>\n",
              "      <td>2.620</td>\n",
              "      <td>16.46</td>\n",
              "      <td>0</td>\n",
              "      <td>1</td>\n",
              "      <td>4</td>\n",
              "      <td>4</td>\n",
              "    </tr>\n",
              "    <tr>\n",
              "      <th>1</th>\n",
              "      <td>Mazda RX4 Wag</td>\n",
              "      <td>21.0</td>\n",
              "      <td>6</td>\n",
              "      <td>160.0</td>\n",
              "      <td>110</td>\n",
              "      <td>3.90</td>\n",
              "      <td>2.875</td>\n",
              "      <td>17.02</td>\n",
              "      <td>0</td>\n",
              "      <td>1</td>\n",
              "      <td>4</td>\n",
              "      <td>4</td>\n",
              "    </tr>\n",
              "    <tr>\n",
              "      <th>2</th>\n",
              "      <td>Datsun 710</td>\n",
              "      <td>22.8</td>\n",
              "      <td>4</td>\n",
              "      <td>108.0</td>\n",
              "      <td>93</td>\n",
              "      <td>3.85</td>\n",
              "      <td>2.320</td>\n",
              "      <td>18.61</td>\n",
              "      <td>1</td>\n",
              "      <td>1</td>\n",
              "      <td>4</td>\n",
              "      <td>1</td>\n",
              "    </tr>\n",
              "    <tr>\n",
              "      <th>3</th>\n",
              "      <td>Hornet 4 Drive</td>\n",
              "      <td>21.4</td>\n",
              "      <td>6</td>\n",
              "      <td>258.0</td>\n",
              "      <td>110</td>\n",
              "      <td>3.08</td>\n",
              "      <td>3.215</td>\n",
              "      <td>19.44</td>\n",
              "      <td>1</td>\n",
              "      <td>0</td>\n",
              "      <td>3</td>\n",
              "      <td>1</td>\n",
              "    </tr>\n",
              "    <tr>\n",
              "      <th>4</th>\n",
              "      <td>Hornet Sportabout</td>\n",
              "      <td>18.7</td>\n",
              "      <td>8</td>\n",
              "      <td>360.0</td>\n",
              "      <td>175</td>\n",
              "      <td>3.15</td>\n",
              "      <td>3.440</td>\n",
              "      <td>17.02</td>\n",
              "      <td>0</td>\n",
              "      <td>0</td>\n",
              "      <td>3</td>\n",
              "      <td>2</td>\n",
              "    </tr>\n",
              "  </tbody>\n",
              "</table>\n",
              "</div>"
            ],
            "text/plain": [
              "                 car   mpg  cyl   disp   hp  ...   qsec  vs  am  gear  carb\n",
              "0          Mazda RX4  21.0    6  160.0  110  ...  16.46   0   1     4     4\n",
              "1      Mazda RX4 Wag  21.0    6  160.0  110  ...  17.02   0   1     4     4\n",
              "2         Datsun 710  22.8    4  108.0   93  ...  18.61   1   1     4     1\n",
              "3     Hornet 4 Drive  21.4    6  258.0  110  ...  19.44   1   0     3     1\n",
              "4  Hornet Sportabout  18.7    8  360.0  175  ...  17.02   0   0     3     2\n",
              "\n",
              "[5 rows x 12 columns]"
            ]
          },
          "metadata": {
            "tags": []
          },
          "execution_count": 10
        }
      ]
    },
    {
      "cell_type": "markdown",
      "metadata": {
        "id": "_S5ds6uxMK22",
        "colab_type": "text"
      },
      "source": [
        "## Using SQLContext"
      ]
    },
    {
      "cell_type": "code",
      "metadata": {
        "id": "ul8TU2PLHayu",
        "colab_type": "code",
        "colab": {}
      },
      "source": [
        "sqlContext = SQLContext(spark)"
      ],
      "execution_count": 0,
      "outputs": []
    },
    {
      "cell_type": "markdown",
      "metadata": {
        "id": "POSLXlhlJz5O",
        "colab_type": "text"
      },
      "source": [
        "Creating a dataframe from the pandas dataframe"
      ]
    },
    {
      "cell_type": "code",
      "metadata": {
        "id": "LaSllMXBJkJs",
        "colab_type": "code",
        "colab": {
          "base_uri": "https://localhost:8080/",
          "height": 265
        },
        "outputId": "de386c7c-f19d-4403-b371-e7b95c046e85"
      },
      "source": [
        "sdf = sqlContext.createDataFrame(mtcars) \n",
        "sdf.printSchema()"
      ],
      "execution_count": 13,
      "outputs": [
        {
          "output_type": "stream",
          "text": [
            "root\n",
            " |-- car: string (nullable = true)\n",
            " |-- mpg: double (nullable = true)\n",
            " |-- cyl: long (nullable = true)\n",
            " |-- disp: double (nullable = true)\n",
            " |-- hp: long (nullable = true)\n",
            " |-- drat: double (nullable = true)\n",
            " |-- wt: double (nullable = true)\n",
            " |-- qsec: double (nullable = true)\n",
            " |-- vs: long (nullable = true)\n",
            " |-- am: long (nullable = true)\n",
            " |-- gear: long (nullable = true)\n",
            " |-- carb: long (nullable = true)\n",
            "\n"
          ],
          "name": "stdout"
        }
      ]
    },
    {
      "cell_type": "code",
      "metadata": {
        "id": "ZZmK1c8XJrC6",
        "colab_type": "code",
        "colab": {
          "base_uri": "https://localhost:8080/",
          "height": 34
        },
        "outputId": "b34bab59-bab8-4af6-89e7-3d51b2397bd2"
      },
      "source": [
        "print(type(sdf))"
      ],
      "execution_count": 14,
      "outputs": [
        {
          "output_type": "stream",
          "text": [
            "<class 'pyspark.sql.dataframe.DataFrame'>\n"
          ],
          "name": "stdout"
        }
      ]
    },
    {
      "cell_type": "markdown",
      "metadata": {
        "id": "1h5CqdMOJ9e1",
        "colab_type": "text"
      },
      "source": [
        "List the first 5 cars in the dataset"
      ]
    },
    {
      "cell_type": "code",
      "metadata": {
        "id": "Aq7FAL6eJxkS",
        "colab_type": "code",
        "colab": {
          "base_uri": "https://localhost:8080/",
          "height": 212
        },
        "outputId": "a9e66e42-6414-425e-da3d-be4987060932"
      },
      "source": [
        "sdf.show(5)"
      ],
      "execution_count": 15,
      "outputs": [
        {
          "output_type": "stream",
          "text": [
            "+-----------------+----+---+-----+---+----+-----+-----+---+---+----+----+\n",
            "|              car| mpg|cyl| disp| hp|drat|   wt| qsec| vs| am|gear|carb|\n",
            "+-----------------+----+---+-----+---+----+-----+-----+---+---+----+----+\n",
            "|        Mazda RX4|21.0|  6|160.0|110| 3.9| 2.62|16.46|  0|  1|   4|   4|\n",
            "|    Mazda RX4 Wag|21.0|  6|160.0|110| 3.9|2.875|17.02|  0|  1|   4|   4|\n",
            "|       Datsun 710|22.8|  4|108.0| 93|3.85| 2.32|18.61|  1|  1|   4|   1|\n",
            "|   Hornet 4 Drive|21.4|  6|258.0|110|3.08|3.215|19.44|  1|  0|   3|   1|\n",
            "|Hornet Sportabout|18.7|  8|360.0|175|3.15| 3.44|17.02|  0|  0|   3|   2|\n",
            "+-----------------+----+---+-----+---+----+-----+-----+---+---+----+----+\n",
            "only showing top 5 rows\n",
            "\n"
          ],
          "name": "stdout"
        }
      ]
    },
    {
      "cell_type": "markdown",
      "metadata": {
        "id": "u4t_FXnUKHbP",
        "colab_type": "text"
      },
      "source": [
        "Selecting a specific data point for exploration, in this case miles per gallon"
      ]
    },
    {
      "cell_type": "code",
      "metadata": {
        "id": "G8eO_bCeKCiE",
        "colab_type": "code",
        "colab": {
          "base_uri": "https://localhost:8080/",
          "height": 212
        },
        "outputId": "0b21f33e-4b67-4df6-d970-d333fc97ced9"
      },
      "source": [
        "sdf.select('mpg').show(5)"
      ],
      "execution_count": 16,
      "outputs": [
        {
          "output_type": "stream",
          "text": [
            "+----+\n",
            "| mpg|\n",
            "+----+\n",
            "|21.0|\n",
            "|21.0|\n",
            "|22.8|\n",
            "|21.4|\n",
            "|18.7|\n",
            "+----+\n",
            "only showing top 5 rows\n",
            "\n"
          ],
          "name": "stdout"
        }
      ]
    },
    {
      "cell_type": "markdown",
      "metadata": {
        "id": "X0DSZ0sWKeYQ",
        "colab_type": "text"
      },
      "source": [
        "Selecting and filtering a specific data point for exploration, in this case miles per gallon"
      ]
    },
    {
      "cell_type": "code",
      "metadata": {
        "id": "YQbOMClOKLMN",
        "colab_type": "code",
        "colab": {
          "base_uri": "https://localhost:8080/",
          "height": 212
        },
        "outputId": "d2d6c8b6-ba32-4be6-96ce-1bd03a481650"
      },
      "source": [
        "sdf.filter(sdf['mpg'] < 18).show(5)"
      ],
      "execution_count": 17,
      "outputs": [
        {
          "output_type": "stream",
          "text": [
            "+-----------+----+---+-----+---+----+----+-----+---+---+----+----+\n",
            "|        car| mpg|cyl| disp| hp|drat|  wt| qsec| vs| am|gear|carb|\n",
            "+-----------+----+---+-----+---+----+----+-----+---+---+----+----+\n",
            "| Duster 360|14.3|  8|360.0|245|3.21|3.57|15.84|  0|  0|   3|   4|\n",
            "|  Merc 280C|17.8|  6|167.6|123|3.92|3.44| 18.9|  1|  0|   4|   4|\n",
            "| Merc 450SE|16.4|  8|275.8|180|3.07|4.07| 17.4|  0|  0|   3|   3|\n",
            "| Merc 450SL|17.3|  8|275.8|180|3.07|3.73| 17.6|  0|  0|   3|   3|\n",
            "|Merc 450SLC|15.2|  8|275.8|180|3.07|3.78| 18.0|  0|  0|   3|   3|\n",
            "+-----------+----+---+-----+---+----+----+-----+---+---+----+----+\n",
            "only showing top 5 rows\n",
            "\n"
          ],
          "name": "stdout"
        }
      ]
    },
    {
      "cell_type": "code",
      "metadata": {
        "id": "8X024xlgKpKb",
        "colab_type": "code",
        "colab": {
          "base_uri": "https://localhost:8080/",
          "height": 212
        },
        "outputId": "07bf0d22-9237-4294-cff2-d538369508d5"
      },
      "source": [
        "sdf.filter((sdf['mpg'] < 18)  & (sdf['carb']==4)).show(5)"
      ],
      "execution_count": 18,
      "outputs": [
        {
          "output_type": "stream",
          "text": [
            "+-------------------+----+---+-----+---+----+------------------+-----+---+---+----+----+\n",
            "|                car| mpg|cyl| disp| hp|drat|                wt| qsec| vs| am|gear|carb|\n",
            "+-------------------+----+---+-----+---+----+------------------+-----+---+---+----+----+\n",
            "|         Duster 360|14.3|  8|360.0|245|3.21|              3.57|15.84|  0|  0|   3|   4|\n",
            "|          Merc 280C|17.8|  6|167.6|123|3.92|              3.44| 18.9|  1|  0|   4|   4|\n",
            "| Cadillac Fleetwood|10.4|  8|472.0|205|2.93|              5.25|17.98|  0|  0|   3|   4|\n",
            "|Lincoln Continental|10.4|  8|460.0|215| 3.0|5.4239999999999995|17.82|  0|  0|   3|   4|\n",
            "|  Chrysler Imperial|14.7|  8|440.0|230|3.23|             5.345|17.42|  0|  0|   3|   4|\n",
            "+-------------------+----+---+-----+---+----+------------------+-----+---+---+----+----+\n",
            "only showing top 5 rows\n",
            "\n"
          ],
          "name": "stdout"
        }
      ]
    },
    {
      "cell_type": "markdown",
      "metadata": {
        "id": "25s8N7C7K0Ud",
        "colab_type": "text"
      },
      "source": [
        "Creating a new calculated datapoint wtTon"
      ]
    },
    {
      "cell_type": "code",
      "metadata": {
        "id": "gfc3s8UbKtUs",
        "colab_type": "code",
        "colab": {
          "base_uri": "https://localhost:8080/",
          "height": 230
        },
        "outputId": "435d65a6-f830-473c-c5dc-0347b7f27a30"
      },
      "source": [
        "sdf.withColumn('wtTon', sdf['wt'] * 0.45).show(6)"
      ],
      "execution_count": 19,
      "outputs": [
        {
          "output_type": "stream",
          "text": [
            "+-----------------+----+---+-----+---+----+-----+-----+---+---+----+----+-------+\n",
            "|              car| mpg|cyl| disp| hp|drat|   wt| qsec| vs| am|gear|carb|  wtTon|\n",
            "+-----------------+----+---+-----+---+----+-----+-----+---+---+----+----+-------+\n",
            "|        Mazda RX4|21.0|  6|160.0|110| 3.9| 2.62|16.46|  0|  1|   4|   4|  1.179|\n",
            "|    Mazda RX4 Wag|21.0|  6|160.0|110| 3.9|2.875|17.02|  0|  1|   4|   4|1.29375|\n",
            "|       Datsun 710|22.8|  4|108.0| 93|3.85| 2.32|18.61|  1|  1|   4|   1|  1.044|\n",
            "|   Hornet 4 Drive|21.4|  6|258.0|110|3.08|3.215|19.44|  1|  0|   3|   1|1.44675|\n",
            "|Hornet Sportabout|18.7|  8|360.0|175|3.15| 3.44|17.02|  0|  0|   3|   2|  1.548|\n",
            "|          Valiant|18.1|  6|225.0|105|2.76| 3.46|20.22|  1|  0|   3|   1|  1.557|\n",
            "+-----------------+----+---+-----+---+----+-----+-----+---+---+----+----+-------+\n",
            "only showing top 6 rows\n",
            "\n"
          ],
          "name": "stdout"
        }
      ]
    },
    {
      "cell_type": "markdown",
      "metadata": {
        "id": "2dhEAl95K90n",
        "colab_type": "text"
      },
      "source": [
        "Applying Group by operation on the dataset"
      ]
    },
    {
      "cell_type": "code",
      "metadata": {
        "id": "L5bmUNJlKw3z",
        "colab_type": "code",
        "colab": {
          "base_uri": "https://localhost:8080/",
          "height": 158
        },
        "outputId": "05d9a568-542f-445e-9c77-ac5fbdff09b6"
      },
      "source": [
        "sdf.groupby(['cyl'])\\\n",
        ".agg({\"wt\": \"AVG\"})\\\n",
        ".show(5)"
      ],
      "execution_count": 20,
      "outputs": [
        {
          "output_type": "stream",
          "text": [
            "+---+-----------------+\n",
            "|cyl|          avg(wt)|\n",
            "+---+-----------------+\n",
            "|  6|3.117142857142857|\n",
            "|  8|3.999214285714286|\n",
            "|  4|2.285727272727273|\n",
            "+---+-----------------+\n",
            "\n"
          ],
          "name": "stdout"
        }
      ]
    },
    {
      "cell_type": "markdown",
      "metadata": {
        "id": "3OMbhqsmLKHt",
        "colab_type": "text"
      },
      "source": [
        "Creating a new object which contains the aggregated data points and sorted"
      ]
    },
    {
      "cell_type": "code",
      "metadata": {
        "id": "2Jg9aXwULBUY",
        "colab_type": "code",
        "colab": {}
      },
      "source": [
        "car_counts = sdf.groupby(['cyl'])\\\n",
        ".agg({\"wt\": \"count\"})\\\n",
        ".sort(\"count(wt)\", ascending=False)"
      ],
      "execution_count": 0,
      "outputs": []
    },
    {
      "cell_type": "code",
      "metadata": {
        "id": "TY-rf60MLVa7",
        "colab_type": "code",
        "colab": {
          "base_uri": "https://localhost:8080/",
          "height": 158
        },
        "outputId": "8dc1e667-1eaf-4743-8ad7-ba12b11b3cd0"
      },
      "source": [
        "car_counts.show()"
      ],
      "execution_count": 23,
      "outputs": [
        {
          "output_type": "stream",
          "text": [
            "+---+---------+\n",
            "|cyl|count(wt)|\n",
            "+---+---------+\n",
            "|  8|       14|\n",
            "|  4|       11|\n",
            "|  6|        7|\n",
            "+---+---------+\n",
            "\n"
          ],
          "name": "stdout"
        }
      ]
    },
    {
      "cell_type": "markdown",
      "metadata": {
        "id": "o3kgEZPxLtr2",
        "colab_type": "text"
      },
      "source": [
        "Register the data as a table and use SQL like queries."
      ]
    },
    {
      "cell_type": "code",
      "metadata": {
        "id": "LtAbteWyLX3i",
        "colab_type": "code",
        "colab": {}
      },
      "source": [
        "# Register this DataFrame as a table.\n",
        "sdf.registerTempTable(\"cars\")"
      ],
      "execution_count": 0,
      "outputs": []
    },
    {
      "cell_type": "code",
      "metadata": {
        "id": "ReMVBSl5L3bu",
        "colab_type": "code",
        "colab": {
          "base_uri": "https://localhost:8080/",
          "height": 230
        },
        "outputId": "a8a8c8ae-1589-47aa-8dee-643a25e24ff5"
      },
      "source": [
        "# SQL statements can be run by using the sql method\n",
        "highgearcars = sqlContext.sql(\"SELECT * FROM cars WHERE cyl >= 4 AND cyl <= 9\")\n",
        "highgearcars.show(6)   "
      ],
      "execution_count": 26,
      "outputs": [
        {
          "output_type": "stream",
          "text": [
            "+-----------------+----+---+-----+---+----+-----+-----+---+---+----+----+\n",
            "|              car| mpg|cyl| disp| hp|drat|   wt| qsec| vs| am|gear|carb|\n",
            "+-----------------+----+---+-----+---+----+-----+-----+---+---+----+----+\n",
            "|        Mazda RX4|21.0|  6|160.0|110| 3.9| 2.62|16.46|  0|  1|   4|   4|\n",
            "|    Mazda RX4 Wag|21.0|  6|160.0|110| 3.9|2.875|17.02|  0|  1|   4|   4|\n",
            "|       Datsun 710|22.8|  4|108.0| 93|3.85| 2.32|18.61|  1|  1|   4|   1|\n",
            "|   Hornet 4 Drive|21.4|  6|258.0|110|3.08|3.215|19.44|  1|  0|   3|   1|\n",
            "|Hornet Sportabout|18.7|  8|360.0|175|3.15| 3.44|17.02|  0|  0|   3|   2|\n",
            "|          Valiant|18.1|  6|225.0|105|2.76| 3.46|20.22|  1|  0|   3|   1|\n",
            "+-----------------+----+---+-----+---+----+-----+-----+---+---+----+----+\n",
            "only showing top 6 rows\n",
            "\n"
          ],
          "name": "stdout"
        }
      ]
    }
  ]
}