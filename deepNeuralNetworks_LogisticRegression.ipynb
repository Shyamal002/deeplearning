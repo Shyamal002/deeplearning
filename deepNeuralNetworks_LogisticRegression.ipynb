{
  "nbformat": 4,
  "nbformat_minor": 0,
  "metadata": {
    "kernelspec": {
      "display_name": "Python 3",
      "language": "python",
      "name": "python3"
    },
    "language_info": {
      "codemirror_mode": {
        "name": "ipython",
        "version": 3
      },
      "file_extension": ".py",
      "mimetype": "text/x-python",
      "name": "python",
      "nbconvert_exporter": "python",
      "pygments_lexer": "ipython3",
      "version": "3.7.1"
    },
    "colab": {
      "name": "deepNeuralNetworks_LogisticRegression.ipynb",
      "provenance": [],
      "collapsed_sections": [],
      "include_colab_link": true
    }
  },
  "cells": [
    {
      "cell_type": "markdown",
      "metadata": {
        "id": "view-in-github",
        "colab_type": "text"
      },
      "source": [
        "<a href=\"https://colab.research.google.com/github/datasigntist/deeplearning/blob/master/deepNeuralNetworks_LogisticRegression.ipynb\" target=\"_parent\"><img src=\"https://colab.research.google.com/assets/colab-badge.svg\" alt=\"Open In Colab\"/></a>"
      ]
    },
    {
      "cell_type": "markdown",
      "metadata": {
        "id": "H8wXanm0882b",
        "colab_type": "text"
      },
      "source": [
        "**Author**: Vishwanathan Raman\n",
        "**Email**: datasigntist@gmail.com\n",
        "\n",
        "\n",
        "---\n",
        "\n",
        "\n",
        "**Change History**\n",
        "\n",
        "\n",
        "*   1-Jan-2018 -- Initial Creation\n",
        "*   14-Aug-2019 -- Included detailed comments for each step\n",
        "\n",
        "\n",
        "---\n",
        "\n",
        "**Credits**\n",
        "The code articulated here has been inspired from coursera deeplearning.ai Assignments\n",
        "\n",
        "\n",
        "---\n",
        "\n",
        "**Use Case Description**\n",
        "\n",
        "This notebook develops a Deep Neural Network to solve the Classification problem using Logistic Regression. A Deep Neural Network has multiple layers having multiple nodes through which input is processed.The dataset (.h5) is a collection of Cat Images. The data files needs to be uploaded to the Files section in the colab environment.  The library  h5py package (https://www.h5py.org/) is a Pythonic interface to the HDF5 binary data format. Each Image is a collection of R,G,B pixel intensity values represented as matrices, also called channels. The pixel intensity values are the features that defines the Image. Each Image is represented as a single vector of pixel intensity values.\n",
        "\n",
        "\n",
        "\n",
        "\n",
        "*   Train dataset : https://github.com/datasigntist/datasetsForTraining/blob/master/train_catvnoncat.h5\n",
        "*   Test dataset  : https://github.com/datasigntist/datasetsForTraining/blob/master/test_catvnoncat.h5\n",
        "\n",
        "\n",
        "\n",
        "---\n",
        "\n",
        "\n",
        "**Other Learning Resources**\n",
        "\n",
        "The following youtube playlist lists all the concepts related to Deep Learning \n",
        "\n",
        "https://www.youtube.com/playlist?list=PLkDaE6sCZn6Ec-XTbcX1uRg2_u4xOEky0\n",
        "\n",
        "https://www.youtube.com/playlist?list=PLkDaE6sCZn6Hn0vK8co82zjQtt3T2Nkqc\n"
      ]
    },
    {
      "cell_type": "markdown",
      "metadata": {
        "id": "VoIn6PNQAk6y",
        "colab_type": "text"
      },
      "source": [
        "The following represents a 3 layer neural network representation having 2 hidden layers and 1 output layer.\n",
        "\n",
        "![alt text](https://raw.githubusercontent.com/datasigntist/imagesforNotebook/master/Neural%20Network%20Representation.png)"
      ]
    },
    {
      "cell_type": "code",
      "metadata": {
        "id": "DXWE8u3q86A8",
        "colab_type": "code",
        "colab": {}
      },
      "source": [
        "# Load the libraries\n",
        "import time\n",
        "import numpy as np\n",
        "import h5py\n",
        "import matplotlib.pyplot as plt\n",
        "import scipy\n",
        "from PIL import Image\n",
        "from scipy import ndimage\n",
        "\n",
        "%matplotlib inline\n",
        "plt.rcParams['figure.figsize'] = (5.0, 4.0) # set default size of plots\n",
        "plt.rcParams['image.interpolation'] = 'nearest'\n",
        "plt.rcParams['image.cmap'] = 'gray'\n",
        "\n",
        "%load_ext autoreload\n",
        "%autoreload 2\n",
        "\n",
        "np.random.seed(1)"
      ],
      "execution_count": 0,
      "outputs": []
    },
    {
      "cell_type": "code",
      "metadata": {
        "id": "V8KAvzPP8d7q",
        "colab_type": "code",
        "colab": {}
      },
      "source": [
        "def sigmoid(Z):\n",
        "    \"\"\"\n",
        "    Implements the sigmoid activation in numpy\n",
        "    \n",
        "    Arguments:\n",
        "    Z -- numpy array of any shape\n",
        "    \n",
        "    Returns:\n",
        "    A -- output of sigmoid(z), same shape as Z\n",
        "    cache -- returns Z as well, useful during backpropagation\n",
        "    \"\"\"\n",
        "    \n",
        "    A = 1/(1+np.exp(-Z))\n",
        "    cache = Z\n",
        "    \n",
        "    return A, cache\n",
        "\n",
        "def sigmoid_backward(dA, cache):\n",
        "    \"\"\"\n",
        "    Implement the backward propagation for a single SIGMOID unit.\n",
        "\n",
        "    Arguments:\n",
        "    dA -- post-activation gradient, of any shape\n",
        "    cache -- 'Z' where we store for computing backward propagation efficiently\n",
        "\n",
        "    Returns:\n",
        "    dZ -- Gradient of the cost with respect to Z\n",
        "    \"\"\"\n",
        "    \n",
        "    Z = cache\n",
        "    \n",
        "    s = 1/(1+np.exp(-Z))\n",
        "    dZ = dA * s * (1-s)\n",
        "    \n",
        "    assert (dZ.shape == Z.shape)\n",
        "    \n",
        "    return dZ\n",
        "\n",
        "\n",
        "def load_data():\n",
        "    train_dataset = h5py.File('train_catvnoncat.h5', \"r\")\n",
        "    train_set_x_orig = np.array(train_dataset[\"train_set_x\"][:]) # your train set features\n",
        "    train_set_y_orig = np.array(train_dataset[\"train_set_y\"][:]) # your train set labels\n",
        "\n",
        "    test_dataset = h5py.File('test_catvnoncat.h5', \"r\")\n",
        "    test_set_x_orig = np.array(test_dataset[\"test_set_x\"][:]) # your test set features\n",
        "    test_set_y_orig = np.array(test_dataset[\"test_set_y\"][:]) # your test set labels\n",
        "\n",
        "    classes = np.array(test_dataset[\"list_classes\"][:]) # the list of classes\n",
        "    \n",
        "    train_set_y_orig = train_set_y_orig.reshape((1, train_set_y_orig.shape[0]))\n",
        "    test_set_y_orig = test_set_y_orig.reshape((1, test_set_y_orig.shape[0]))\n",
        "    \n",
        "    return train_set_x_orig, train_set_y_orig, test_set_x_orig, test_set_y_orig, classes"
      ],
      "execution_count": 0,
      "outputs": []
    },
    {
      "cell_type": "code",
      "metadata": {
        "id": "_iVJN-F48d7t",
        "colab_type": "code",
        "colab": {}
      },
      "source": [
        "# Load the data\n",
        "train_x_orig, train_y, test_x_orig, test_y, classes = load_data()"
      ],
      "execution_count": 0,
      "outputs": []
    },
    {
      "cell_type": "code",
      "metadata": {
        "id": "v1IRa14D8d7v",
        "colab_type": "code",
        "outputId": "387f0335-3dea-49a2-dd6a-2742f86dedce",
        "colab": {
          "base_uri": "https://localhost:8080/",
          "height": 286
        }
      },
      "source": [
        "# Example of a picture\n",
        "index = 10\n",
        "plt.imshow(train_x_orig[index])\n",
        "print (\"y = \" + str(train_y[0,index]) + \". It's a \" + classes[train_y[0,index]].decode(\"utf-8\") +  \" picture.\")"
      ],
      "execution_count": 0,
      "outputs": [
        {
          "output_type": "stream",
          "text": [
            "y = 0. It's a non-cat picture.\n"
          ],
          "name": "stdout"
        },
        {
          "output_type": "display_data",
          "data": {
            "image/png": "[encoded data removed]",
            "text/plain": [
              "<Figure size 360x288 with 1 Axes>"
            ]
          },
          "metadata": {
            "tags": []
          }
        }
      ]
    },
    {
      "cell_type": "code",
      "metadata": {
        "id": "eAAqX_fD8d70",
        "colab_type": "code",
        "outputId": "67a23f40-49c6-475a-c62e-ba5348ee02c8",
        "colab": {
          "base_uri": "https://localhost:8080/",
          "height": 136
        }
      },
      "source": [
        "# Explore your dataset \n",
        "# Number of training examples\n",
        "m_train = train_x_orig.shape[0]\n",
        "# Size of the image in pixels\n",
        "num_px = train_x_orig.shape[1]\n",
        "# Number of test examples\n",
        "m_test = test_x_orig.shape[0]\n",
        "\n",
        "print (\"Number of training examples: \" + str(m_train))\n",
        "print (\"Number of testing examples: \" + str(m_test))\n",
        "print (\"Each image is of size: (\" + str(num_px) + \", \" + str(num_px) + \", 3)\")\n",
        "print (\"train_x_orig shape: \" + str(train_x_orig.shape))\n",
        "print (\"train_y shape: \" + str(train_y.shape))\n",
        "print (\"test_x_orig shape: \" + str(test_x_orig.shape))\n",
        "print (\"test_y shape: \" + str(test_y.shape))"
      ],
      "execution_count": 0,
      "outputs": [
        {
          "output_type": "stream",
          "text": [
            "Number of training examples: 209\n",
            "Number of testing examples: 50\n",
            "Each image is of size: (64, 64, 3)\n",
            "train_x_orig shape: (209, 64, 64, 3)\n",
            "train_y shape: (1, 209)\n",
            "test_x_orig shape: (50, 64, 64, 3)\n",
            "test_y shape: (1, 50)\n"
          ],
          "name": "stdout"
        }
      ]
    },
    {
      "cell_type": "code",
      "metadata": {
        "id": "ZKnRhVQq8d73",
        "colab_type": "code",
        "outputId": "8ba13d56-118f-46c1-9aa1-332b0eebc673",
        "colab": {
          "base_uri": "https://localhost:8080/",
          "height": 51
        }
      },
      "source": [
        "# Reshape the training and test examples \n",
        "# The \"-1\" makes reshape flatten the remaining dimensions\n",
        "train_x_flatten = train_x_orig.reshape(train_x_orig.shape[0], -1).T   \n",
        "test_x_flatten = test_x_orig.reshape(test_x_orig.shape[0], -1).T\n",
        "\n",
        "# Standardize data to have feature values between 0 and 1.\n",
        "train_x = train_x_flatten/255.\n",
        "test_x = test_x_flatten/255.\n",
        "\n",
        "print (\"train_x's shape: \" + str(train_x.shape))\n",
        "print (\"test_x's shape: \" + str(test_x.shape))"
      ],
      "execution_count": 0,
      "outputs": [
        {
          "output_type": "stream",
          "text": [
            "train_x's shape: (12288, 209)\n",
            "test_x's shape: (12288, 50)\n"
          ],
          "name": "stdout"
        }
      ]
    },
    {
      "cell_type": "markdown",
      "metadata": {
        "id": "lNDRvMJfIGme",
        "colab_type": "text"
      },
      "source": [
        "initialize_param_deep_nn is a function that outlines the layers within the neural network. Each layer has a collection of nodes and each node has a linear and an activation component. Each layer has its own set of parameters W and b. The function initializes W to a set of random values.\n",
        "\n",
        "![alt text](https://raw.githubusercontent.com/datasigntist/imagesforNotebook/master/Layer%20Definition%20and%20Initialization.png)"
      ]
    },
    {
      "cell_type": "code",
      "metadata": {
        "id": "Jlz0wX1a8d75",
        "colab_type": "code",
        "colab": {}
      },
      "source": [
        "def initialize_param_deep_nn(layer_dims):\n",
        "    \"\"\"\n",
        "        layer_dims defines the number of nodes in each layer starting from the input to the output\n",
        "        \n",
        "        Each layer (minus the input layer) has 2 parameters\n",
        "            W : The Weights has a shape of (n[l],n[l-1]), its initialized to random values\n",
        "            b : The bias is a vector of real numbers. Its of shape (n[l],1), its initialized to all 0s\n",
        "    \"\"\"\n",
        "    \n",
        "    np.random.seed(1)\n",
        "    parameters = {}\n",
        "    L = len(layer_dims)            # number of layers in the network\n",
        "    \n",
        "    for l in range(1,L):\n",
        "        parameters[\"W\" + str(l)] = np.random.randn(layer_dims[l],layer_dims[l-1]) / np.sqrt(layer_dims[l-1])\n",
        "        parameters[\"b\" + str(l)] = np.zeros((layer_dims[l],1))\n",
        "        \n",
        "    return parameters"
      ],
      "execution_count": 0,
      "outputs": []
    },
    {
      "cell_type": "code",
      "metadata": {
        "id": "8IwpWKz78d77",
        "colab_type": "code",
        "outputId": "afeaf2bf-bf54-4520-ca5c-c9b40e8da12b",
        "colab": {
          "base_uri": "https://localhost:8080/",
          "height": 119
        }
      },
      "source": [
        "# Create a 3 layer neural network having \n",
        "# 12288 features in the input layer\n",
        "# 2 hidden layers\n",
        "# The 1st hidden layer has 2 nodes\n",
        "# The 2nd hidden layer has 3 nodes\n",
        "# 1 output node since we are solving the problem of binary classification\n",
        "\n",
        "layer_dims = [train_x.shape[0],2,3,1]\n",
        "parameters = initialize_param_deep_nn(layer_dims)\n",
        "\n",
        "L = len(layer_dims)\n",
        "for l in range(1,L):\n",
        "    print(\"shape of W\"+str(l)+\" is \"+str(parameters[\"W\"+str(l)].shape))\n",
        "    print(\"shape of b\"+str(l)+\" is \"+str(parameters[\"b\"+str(l)].shape))"
      ],
      "execution_count": 0,
      "outputs": [
        {
          "output_type": "stream",
          "text": [
            "shape of W1 is (2, 12288)\n",
            "shape of b1 is (2, 1)\n",
            "shape of W2 is (3, 2)\n",
            "shape of b2 is (3, 1)\n",
            "shape of W3 is (1, 3)\n",
            "shape of b3 is (1, 1)\n"
          ],
          "name": "stdout"
        }
      ]
    },
    {
      "cell_type": "markdown",
      "metadata": {
        "id": "9Hu2kBXna-ge",
        "colab_type": "text"
      },
      "source": [
        "A representation of forward and backward computation across the layers\n",
        "\n",
        "![alt text](https://raw.githubusercontent.com/datasigntist/imagesforNotebook/master/Forward%20and%20Backward%20Computation.png)"
      ]
    },
    {
      "cell_type": "code",
      "metadata": {
        "id": "5KZiTbN18d7-",
        "colab_type": "code",
        "colab": {}
      },
      "source": [
        "# Develop the forward propagation\n",
        "# linear_forward \n",
        "# linear_activation_forward\n",
        "# L_model_forward\n",
        "def linear_forward(A, W, b):\n",
        "    \"\"\"\n",
        "        A_prev : the input layer\n",
        "        W and b : the parameters\n",
        "        Z : the output of the linear function\n",
        "        cache the values of A, W, b, this will be used during backward propagation\n",
        "    \"\"\"\n",
        "    \n",
        "    Z = np.dot(W, A) + b\n",
        "    cache = (A, W, b)\n",
        "    \n",
        "    return Z, cache"
      ],
      "execution_count": 0,
      "outputs": []
    },
    {
      "cell_type": "code",
      "metadata": {
        "id": "gGeqnAY08d8A",
        "colab_type": "code",
        "colab": {}
      },
      "source": [
        "def linear_activation_forward(A, W, b, activation):\n",
        "    \"\"\"\n",
        "        Calls the linear_forward for applying the linear function\n",
        "        Applies activation on top of the linear function, here activation is passed as a string\n",
        "    \"\"\"\n",
        "    \n",
        "    if activation == \"sigmoid\":\n",
        "        Z, linear_cache = linear_forward(A, W, b)\n",
        "        A, activation_cache = sigmoid(Z)\n",
        "        \n",
        "    cache = (linear_cache, activation_cache)  \n",
        "        \n",
        "    return A, cache"
      ],
      "execution_count": 0,
      "outputs": []
    },
    {
      "cell_type": "code",
      "metadata": {
        "id": "0iJSXZbK8d8D",
        "colab_type": "code",
        "colab": {}
      },
      "source": [
        "def L_model_forward(X, parameters):\n",
        "    \"\"\"\n",
        "        Does the forward propagation across the layers\n",
        "        \n",
        "        The final output is defined as AL\n",
        "    \"\"\"\n",
        "    \n",
        "    caches = []\n",
        "    A = X\n",
        "    L = len(parameters)//2\n",
        "    \n",
        "    # The loop executes the forward propagation across the layer. Each layer outputs A which is passed as an input\n",
        "    # to the next layer. The input to the first layer is the input X\n",
        "    for l in range(1,L):\n",
        "        A_prev = A\n",
        "        A, cache = linear_activation_forward(A_prev, parameters[\"W\"+str(l)], parameters[\"b\"+str(l)], \"sigmoid\")\n",
        "        caches.append(cache)\n",
        "        \n",
        "    AL, cache = linear_activation_forward(A, parameters[\"W\"+str(L)], parameters[\"b\"+str(L)], \"sigmoid\")\n",
        "    caches.append(cache)\n",
        "        \n",
        "    return AL, caches"
      ],
      "execution_count": 0,
      "outputs": []
    },
    {
      "cell_type": "code",
      "metadata": {
        "id": "TDlYJ1qo8d8H",
        "colab_type": "code",
        "colab": {}
      },
      "source": [
        "def compute_cost(AL, Y):\n",
        "    \"\"\"\n",
        "        In the current scenario, the sigmoid function is used in the final output layer\n",
        "    \"\"\"\n",
        "    \n",
        "    m = Y.shape[1] \n",
        "    cost = (1./m) * (-np.dot(Y,np.log(AL).T) - np.dot(1-Y, np.log(1-AL).T))\n",
        "    \n",
        "    cost = np.squeeze(cost)      # To make sure your cost's shape is what we expect (e.g. this turns [[17]] into 17).\n",
        "    \n",
        "    return cost"
      ],
      "execution_count": 0,
      "outputs": []
    },
    {
      "cell_type": "markdown",
      "metadata": {
        "id": "TYeVztlFv03v",
        "colab_type": "text"
      },
      "source": [
        "Backward Computation Illustration -- Representative Steps for a Logistic Regression\n",
        "\n",
        "![alt text](https://raw.githubusercontent.com/datasigntist/imagesforNotebook/master/Backward%20Computation%20--%201.png)\n",
        "\n",
        "![alt text](https://raw.githubusercontent.com/datasigntist/imagesforNotebook/master/Backward%20Computation%20--%202.png)\n",
        "\n",
        "![alt text](https://raw.githubusercontent.com/datasigntist/imagesforNotebook/master/Backward%20Computation%20--%203.png)\n",
        "\n",
        "![alt text](https://raw.githubusercontent.com/datasigntist/imagesforNotebook/master/Backward%20Computation%20--%204.png)\n",
        "\n",
        "![alt text](https://raw.githubusercontent.com/datasigntist/imagesforNotebook/master/Backward%20Computation%20--%205.png)"
      ]
    },
    {
      "cell_type": "code",
      "metadata": {
        "id": "7dM1pP-Z8d8L",
        "colab_type": "code",
        "colab": {}
      },
      "source": [
        "# Develop the backward propagation\n",
        "# linear_backward \n",
        "# linear_activation_backward\n",
        "# L_model_backward\n",
        "def linear_backward(dZ, cache):\n",
        "    \"\"\"\n",
        "        calculates the following\n",
        "        dW, db, dA\n",
        "    \"\"\"\n",
        "    \n",
        "    A_prev, W, b = cache\n",
        "    m = A_prev.shape[1]\n",
        "    \n",
        "    dW = 1./m*np.dot(dZ, A_prev.T)\n",
        "    db = 1./m*np.sum(dZ, axis = 1, keepdims = True)\n",
        "    dA_prev = np.dot(W.T, dZ)\n",
        "    \n",
        "    return dA_prev, dW, db"
      ],
      "execution_count": 0,
      "outputs": []
    },
    {
      "cell_type": "code",
      "metadata": {
        "id": "uNur7zj58d8O",
        "colab_type": "code",
        "colab": {}
      },
      "source": [
        "def linear_activation_backward(dA, cache, activation):\n",
        "    \"\"\"\n",
        "        calculates the following\n",
        "        dZ\n",
        "    \"\"\"\n",
        "    \n",
        "    linear_cache, activation_cache = cache\n",
        "    \n",
        "    if activation == \"sigmoid\":\n",
        "        dZ = sigmoid_backward(dA, activation_cache)\n",
        "        dA_prev, dW, db = linear_backward(dZ, linear_cache)\n",
        "    \n",
        "    return dA_prev, dW, db"
      ],
      "execution_count": 0,
      "outputs": []
    },
    {
      "cell_type": "code",
      "metadata": {
        "id": "Rw00WJuY8d8R",
        "colab_type": "code",
        "colab": {}
      },
      "source": [
        "def L_model_backward(AL, Y, caches):\n",
        "    \"\"\"\n",
        "    Implement the backward propagation \n",
        "    \n",
        "    Arguments:\n",
        "    AL -- probability vector, output of the forward propagation (L_model_forward())\n",
        "    Y -- true \"label\" vector (containing 0 if non-cat, 1 if cat)\n",
        "    caches -- list of caches containing:\n",
        "                every cache of linear_activation_forward() with \"relu\" (there are (L-1) or them, indexes from 0 to L-2)\n",
        "                the cache of linear_activation_forward() with \"sigmoid\" (there is one, index L-1)\n",
        "    \n",
        "    Returns:\n",
        "    grads -- A dictionary with the gradients\n",
        "             grads[\"dA\" + str(l)] = ... \n",
        "             grads[\"dW\" + str(l)] = ...\n",
        "             grads[\"db\" + str(l)] = ... \n",
        "    \"\"\"\n",
        "    grads = {}\n",
        "    L = len(caches) # the number of layers\n",
        "    m = AL.shape[1]\n",
        "    Y = Y.reshape(AL.shape) # after this line, Y is the same shape as AL\n",
        "    \n",
        "    # Initializing the backpropagation\n",
        "    dAL = - (np.divide(Y, AL) - np.divide(1 - Y, 1 - AL))\n",
        "    \n",
        "    current_cache = caches[L-1]\n",
        "    grads[\"dA\" + str(L)], grads[\"dW\" + str(L)], grads[\"db\" + str(L)] = linear_activation_backward(dAL, current_cache, activation = \"sigmoid\")\n",
        "    \n",
        "    for l in reversed(range(L-1)):\n",
        "        current_cache = caches[l]\n",
        "        dA_prev_temp, dW_temp, db_temp = linear_activation_backward(grads[\"dA\" + str(l + 2)], current_cache, activation = \"sigmoid\")\n",
        "        grads[\"dA\" + str(l + 1)] = dA_prev_temp\n",
        "        grads[\"dW\" + str(l + 1)] = dW_temp\n",
        "        grads[\"db\" + str(l + 1)] = db_temp\n",
        "\n",
        "    return grads"
      ],
      "execution_count": 0,
      "outputs": []
    },
    {
      "cell_type": "code",
      "metadata": {
        "id": "gE_SClMs8d8T",
        "colab_type": "code",
        "colab": {}
      },
      "source": [
        "def update_parameters(parameters, grads, learning_rate):\n",
        "    \"\"\"\n",
        "    Update parameters using gradient descent\n",
        "    \n",
        "    Arguments:\n",
        "    parameters -- python dictionary containing your parameters \n",
        "    grads -- python dictionary containing your gradients, output of L_model_backward\n",
        "    \n",
        "    Returns:\n",
        "    parameters -- python dictionary containing your updated parameters \n",
        "                  parameters[\"W\" + str(l)] = ... \n",
        "                  parameters[\"b\" + str(l)] = ...\n",
        "    \"\"\"\n",
        "    \n",
        "    L = len(parameters) // 2 # number of layers in the neural network\n",
        "\n",
        "    # Update rule for each parameter. Use a for loop.\n",
        "    for l in range(L):\n",
        "        parameters[\"W\" + str(l+1)] = parameters[\"W\" + str(l+1)] - learning_rate * grads[\"dW\" + str(l+1)]\n",
        "        parameters[\"b\" + str(l+1)] = parameters[\"b\" + str(l+1)] - learning_rate * grads[\"db\" + str(l+1)]\n",
        "        \n",
        "    return parameters"
      ],
      "execution_count": 0,
      "outputs": []
    },
    {
      "cell_type": "code",
      "metadata": {
        "id": "GdwOjzR58d8W",
        "colab_type": "code",
        "colab": {}
      },
      "source": [
        "def L_layer_model(X, Y, layers_dims, learning_rate = 0.0075, num_iterations = 3000, print_cost=False):#lr was 0.009\n",
        "    \"\"\"\n",
        "    Implements a L-layer neural network: .\n",
        "    \n",
        "    Arguments:\n",
        "    X -- data, numpy array of shape (number of examples, num_px * num_px * 3)\n",
        "    Y -- true \"label\" vector (containing 0 if cat, 1 if non-cat), of shape (1, number of examples)\n",
        "    layers_dims -- list containing the input size and each layer size, of length (number of layers + 1).\n",
        "    learning_rate -- learning rate of the gradient descent update rule\n",
        "    num_iterations -- number of iterations of the optimization loop\n",
        "    print_cost -- if True, it prints the cost every 100 steps\n",
        "    \n",
        "    Returns:\n",
        "    parameters -- parameters learnt by the model. They can then be used to predict.\n",
        "    \"\"\"\n",
        "\n",
        "    np.random.seed(1)\n",
        "    costs = []                         # keep track of cost\n",
        "    \n",
        "    # Parameters initialization.\n",
        "    parameters = initialize_param_deep_nn(layers_dims)\n",
        "    \n",
        "    # Loop (gradient descent)\n",
        "    for i in range(0, num_iterations):\n",
        "        \n",
        "        AL, caches = L_model_forward(X, parameters)\n",
        "        \n",
        "        # Compute cost.\n",
        "        cost = compute_cost(AL, Y)\n",
        "    \n",
        "        # Backward propagation.\n",
        "        grads = L_model_backward(AL, Y, caches)\n",
        " \n",
        "        # Update parameters.\n",
        "        parameters = update_parameters(parameters, grads, learning_rate)\n",
        "                \n",
        "        # Print the cost every 100 training example\n",
        "        if print_cost and i % 100 == 0:\n",
        "            print (\"Cost after iteration %i: %f\" %(i, cost))\n",
        "        if print_cost and i % 100 == 0:\n",
        "            costs.append(cost)\n",
        "            \n",
        "    # plot the cost\n",
        "    plt.plot(np.squeeze(costs))\n",
        "    plt.ylabel('cost')\n",
        "    plt.xlabel('iterations (per tens)')\n",
        "    plt.title(\"Learning rate =\" + str(learning_rate))\n",
        "    plt.show()\n",
        "    \n",
        "    return parameters"
      ],
      "execution_count": 0,
      "outputs": []
    },
    {
      "cell_type": "code",
      "metadata": {
        "id": "SJInApBU8d8Y",
        "colab_type": "code",
        "colab": {}
      },
      "source": [
        "layers_dims = [12288, 2, 1,1] #  2-layer model"
      ],
      "execution_count": 0,
      "outputs": []
    },
    {
      "cell_type": "code",
      "metadata": {
        "id": "ck6Q4WjD8d8b",
        "colab_type": "code",
        "outputId": "dacb0bd9-d784-460c-8ea5-864f1f8946d9",
        "colab": {
          "base_uri": "https://localhost:8080/",
          "height": 720
        }
      },
      "source": [
        "parameters = L_layer_model(train_x, train_y, layers_dims, num_iterations = 2500, print_cost = True)"
      ],
      "execution_count": 0,
      "outputs": [
        {
          "output_type": "stream",
          "text": [
            "Cost after iteration 0: 0.746862\n",
            "Cost after iteration 100: 0.707051\n",
            "Cost after iteration 200: 0.684073\n",
            "Cost after iteration 300: 0.669829\n",
            "Cost after iteration 400: 0.660811\n",
            "Cost after iteration 500: 0.655025\n",
            "Cost after iteration 600: 0.651274\n",
            "Cost after iteration 700: 0.648824\n",
            "Cost after iteration 800: 0.647211\n",
            "Cost after iteration 900: 0.646144\n",
            "Cost after iteration 1000: 0.645435\n",
            "Cost after iteration 1100: 0.644961\n",
            "Cost after iteration 1200: 0.644644\n",
            "Cost after iteration 1300: 0.644430\n",
            "Cost after iteration 1400: 0.644286\n",
            "Cost after iteration 1500: 0.644189\n",
            "Cost after iteration 1600: 0.644122\n",
            "Cost after iteration 1700: 0.644077\n",
            "Cost after iteration 1800: 0.644046\n",
            "Cost after iteration 1900: 0.644024\n",
            "Cost after iteration 2000: 0.644009\n",
            "Cost after iteration 2100: 0.643998\n",
            "Cost after iteration 2200: 0.643990\n",
            "Cost after iteration 2300: 0.643984\n",
            "Cost after iteration 2400: 0.643979\n"
          ],
          "name": "stdout"
        },
        {
          "output_type": "display_data",
          "data": {
            "image/png": "[encoded data removed]",
            "text/plain": [
              "<Figure size 360x288 with 1 Axes>"
            ]
          },
          "metadata": {
            "tags": []
          }
        }
      ]
    },
    {
      "cell_type": "code",
      "metadata": {
        "id": "svzirCb58d8e",
        "colab_type": "code",
        "colab": {}
      },
      "source": [
        "def predict(X, y, parameters):\n",
        "    \"\"\"\n",
        "    This function is used to predict the results of a  L-layer neural network.\n",
        "    \n",
        "    Arguments:\n",
        "    X -- data set of examples you would like to label\n",
        "    parameters -- parameters of the trained model\n",
        "    \n",
        "    Returns:\n",
        "    p -- predictions for the given dataset X\n",
        "    \"\"\"\n",
        "    \n",
        "    m = X.shape[1]\n",
        "    n = len(parameters) // 2 # number of layers in the neural network\n",
        "    p = np.zeros((1,m))\n",
        "    \n",
        "    # Forward propagation\n",
        "    probas, caches = L_model_forward(X, parameters)\n",
        "\n",
        "    \n",
        "    # convert probas to 0/1 predictions\n",
        "    for i in range(0, probas.shape[1]):\n",
        "        if probas[0,i] > 0.5:\n",
        "            p[0,i] = 1\n",
        "        else:\n",
        "            p[0,i] = 0\n",
        "    \n",
        "    #print results\n",
        "    #print (\"predictions: \" + str(p))\n",
        "    #print (\"true labels: \" + str(y))\n",
        "    print(\"Accuracy: \"  + str(np.sum((p == y)/m)))\n",
        "        \n",
        "    return p"
      ],
      "execution_count": 0,
      "outputs": []
    },
    {
      "cell_type": "code",
      "metadata": {
        "id": "6cU_Z7VO8d8l",
        "colab_type": "code",
        "outputId": "cbca0f2c-cfad-4034-e564-b1ed6cf9fe40",
        "colab": {
          "base_uri": "https://localhost:8080/",
          "height": 34
        }
      },
      "source": [
        "pred_train = predict(train_x, train_y, parameters)"
      ],
      "execution_count": 0,
      "outputs": [
        {
          "output_type": "stream",
          "text": [
            "Accuracy: 0.6555023923444976\n"
          ],
          "name": "stdout"
        }
      ]
    },
    {
      "cell_type": "code",
      "metadata": {
        "id": "vtxCDAn38d8q",
        "colab_type": "code",
        "outputId": "c1b5f988-54d4-458b-c002-8b4160494ce5",
        "colab": {
          "base_uri": "https://localhost:8080/",
          "height": 34
        }
      },
      "source": [
        "pred_test = predict(test_x, test_y, parameters)"
      ],
      "execution_count": 0,
      "outputs": [
        {
          "output_type": "stream",
          "text": [
            "Accuracy: 0.3400000000000001\n"
          ],
          "name": "stdout"
        }
      ]
    },
    {
      "cell_type": "markdown",
      "metadata": {
        "id": "jRHM5Lp0dmg-",
        "colab_type": "text"
      },
      "source": [
        "As next steps, \n",
        "*   You can experiment with different hyper parameters\n",
        "        *  Experiment with new neural network architectures (hidden layers, nodes per hidden layer)\n",
        "        *  Adjust the number of iterations\n",
        "        *  Use the ReLU in the hidden layers instead of Sigmoid"
      ]
    }
  ]
}