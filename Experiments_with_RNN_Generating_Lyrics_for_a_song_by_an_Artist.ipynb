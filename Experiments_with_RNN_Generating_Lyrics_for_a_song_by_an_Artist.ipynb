{
  "nbformat": 4,
  "nbformat_minor": 0,
  "metadata": {
    "colab": {
      "name": "Experiments with RNN -- Generating Lyrics for a song by an Artist.ipynb",
      "provenance": [],
      "collapsed_sections": [],
      "toc_visible": true,
      "include_colab_link": true
    },
    "kernelspec": {
      "name": "python3",
      "display_name": "Python 3"
    },
    "accelerator": "GPU"
  },
  "cells": [
    {
      "cell_type": "markdown",
      "metadata": {
        "id": "view-in-github",
        "colab_type": "text"
      },
      "source": [
        "<a href=\"https://colab.research.google.com/github/datasigntist/deeplearning/blob/master/Experiments_with_RNN_Generating_Lyrics_for_a_song_by_an_Artist.ipynb\" target=\"_parent\"><img src=\"https://colab.research.google.com/assets/colab-badge.svg\" alt=\"Open In Colab\"/></a>"
      ]
    },
    {
      "cell_type": "markdown",
      "metadata": {
        "id": "erKp3CjawyR-",
        "colab_type": "text"
      },
      "source": [
        "# **Experiments with RNN -- Generating Lyrics for a song by an Artist**\n",
        "\n",
        "**Author**: Vishwanathan Raman\n",
        "**Email**: datasigntist@gmail.com\n",
        "\n",
        "\n",
        "---\n",
        "\n",
        "\n",
        "**Change History**\n",
        "\n",
        "\n",
        "*   9-Sep-2019 -- Initial Creation\n",
        "\n",
        "\n",
        "---\n",
        "\n",
        "**Credits**\n",
        "The code articulated here has been inspired from coursera deeplearning.ai Assignments\n",
        "\n",
        "\n",
        "---\n",
        "\n",
        "**Use Case Description**\n",
        "\n",
        "This notebook develops a Recurrent Neural Network to generate lyrics of song using a seed, based on the history of songs done by the artist Bruce Springsteen.\n",
        "\n",
        "The following is the source of the dataset https://www.kaggle.com/mousehead/songlyrics\n",
        "\n",
        "The following is the video articulating the concepts\n",
        "https://www.youtube.com/playlist?list=PLkEQhv7sdYRLeBn_a5EaXdLBPEp0zASsx\n",
        "\n",
        "\n",
        "---\n",
        "\n",
        "\n",
        "**Other Learning Resources**\n",
        "\n",
        "The following youtube playlist lists all the concepts related to Deep Learning \n",
        "\n",
        "\n",
        "*   https://www.youtube.com/watch?v=yEfsDHymL0w&list=PLZnyIsit9AM7yeTZuBmezKNc6hFHUPImh\n",
        "*   https://www.youtube.com/watch?v=YgpI2aROLlo&list=PLZnyIsit9AM7HBPn6m06ddzw_N9zGk--2\n",
        "*   https://www.youtube.com/watch?v=186rxP6qfJA&list=PLZnyIsit9AM7VI4ylALdbeS93i-nonUzZ\n",
        "\n",
        "**Articles on Embedding**\n",
        "*   https://machinelearningmastery.com/use-word-embedding-layers-deep-learning-keras/\n",
        "\n",
        "\n",
        "\n"
      ]
    },
    {
      "cell_type": "markdown",
      "metadata": {
        "id": "nDHWWgqLQs5X",
        "colab_type": "text"
      },
      "source": [
        "# **Tensorflow Installation (Optional)**\n",
        "\n",
        "This experiment is built on tensorflow 2.0 gpu, run a quick check to see the current version, if its not 2.0 then uninstall the current version and install the 2.0 gpu version"
      ]
    },
    {
      "cell_type": "code",
      "metadata": {
        "id": "oM7qdWdRTwqy",
        "colab_type": "code",
        "outputId": "ca9aaae0-4350-48d7-d740-d7169bd480d7",
        "colab": {
          "base_uri": "https://localhost:8080/",
          "height": 34
        }
      },
      "source": [
        "import tensorflow as tf\n",
        "print(tf.__version__)"
      ],
      "execution_count": 0,
      "outputs": [
        {
          "output_type": "stream",
          "text": [
            "1.15.0-rc3\n"
          ],
          "name": "stdout"
        }
      ]
    },
    {
      "cell_type": "code",
      "metadata": {
        "id": "hNAvenXYLb20",
        "colab_type": "code",
        "outputId": "bc54f797-c7e8-43aa-84ba-a9905aaff34f",
        "colab": {
          "base_uri": "https://localhost:8080/",
          "height": 272
        }
      },
      "source": [
        "!pip uninstall tensorflow"
      ],
      "execution_count": 0,
      "outputs": [
        {
          "output_type": "stream",
          "text": [
            "Uninstalling tensorflow-1.15.0rc3:\n",
            "  Would remove:\n",
            "    /usr/local/bin/estimator_ckpt_converter\n",
            "    /usr/local/bin/freeze_graph\n",
            "    /usr/local/bin/saved_model_cli\n",
            "    /usr/local/bin/tensorboard\n",
            "    /usr/local/bin/tf_upgrade_v2\n",
            "    /usr/local/bin/tflite_convert\n",
            "    /usr/local/bin/toco\n",
            "    /usr/local/bin/toco_from_protos\n",
            "    /usr/local/lib/python3.6/dist-packages/tensorflow-1.15.0rc3.dist-info/*\n",
            "    /usr/local/lib/python3.6/dist-packages/tensorflow/*\n",
            "    /usr/local/lib/python3.6/dist-packages/tensorflow_core/*\n",
            "Proceed (y/n)? y\n",
            "  Successfully uninstalled tensorflow-1.15.0rc3\n"
          ],
          "name": "stdout"
        }
      ]
    },
    {
      "cell_type": "code",
      "metadata": {
        "id": "EuVJNSerLgb2",
        "colab_type": "code",
        "outputId": "715167bd-be49-451e-b77b-b269276e0039",
        "colab": {
          "base_uri": "https://localhost:8080/",
          "height": 632
        }
      },
      "source": [
        "!pip install tensorflow-gpu"
      ],
      "execution_count": 0,
      "outputs": [
        {
          "output_type": "stream",
          "text": [
            "Collecting tensorflow-gpu\n",
            "\u001b[?25l  Downloading https://files.pythonhosted.org/packages/25/44/47f0722aea081697143fbcf5d2aa60d1aee4aaacb5869aee2b568974777b/tensorflow_gpu-2.0.0-cp36-cp36m-manylinux2010_x86_64.whl (380.8MB)\n",
            "\u001b[K     |████████████████████████████████| 380.8MB 82kB/s \n",
            "\u001b[?25hRequirement already satisfied: numpy<2.0,>=1.16.0 in /usr/local/lib/python3.6/dist-packages (from tensorflow-gpu) (1.16.5)\n",
            "Collecting tensorboard<2.1.0,>=2.0.0 (from tensorflow-gpu)\n",
            "\u001b[?25l  Downloading https://files.pythonhosted.org/packages/9b/a6/e8ffa4e2ddb216449d34cfcb825ebb38206bee5c4553d69e7bc8bc2c5d64/tensorboard-2.0.0-py3-none-any.whl (3.8MB)\n",
            "\u001b[K     |████████████████████████████████| 3.8MB 27.1MB/s \n",
            "\u001b[?25hRequirement already satisfied: keras-applications>=1.0.8 in /usr/local/lib/python3.6/dist-packages (from tensorflow-gpu) (1.0.8)\n",
            "Requirement already satisfied: keras-preprocessing>=1.0.5 in /usr/local/lib/python3.6/dist-packages (from tensorflow-gpu) (1.1.0)\n",
            "Requirement already satisfied: protobuf>=3.6.1 in /usr/local/lib/python3.6/dist-packages (from tensorflow-gpu) (3.7.1)\n",
            "Requirement already satisfied: termcolor>=1.1.0 in /usr/local/lib/python3.6/dist-packages (from tensorflow-gpu) (1.1.0)\n",
            "Requirement already satisfied: google-pasta>=0.1.6 in /usr/local/lib/python3.6/dist-packages (from tensorflow-gpu) (0.1.7)\n",
            "Requirement already satisfied: wrapt>=1.11.1 in /usr/local/lib/python3.6/dist-packages (from tensorflow-gpu) (1.11.2)\n",
            "Requirement already satisfied: astor>=0.6.0 in /usr/local/lib/python3.6/dist-packages (from tensorflow-gpu) (0.8.0)\n",
            "Requirement already satisfied: six>=1.10.0 in /usr/local/lib/python3.6/dist-packages (from tensorflow-gpu) (1.12.0)\n",
            "Requirement already satisfied: wheel>=0.26 in /usr/local/lib/python3.6/dist-packages (from tensorflow-gpu) (0.33.6)\n",
            "Requirement already satisfied: absl-py>=0.7.0 in /usr/local/lib/python3.6/dist-packages (from tensorflow-gpu) (0.8.0)\n",
            "Requirement already satisfied: opt-einsum>=2.3.2 in /usr/local/lib/python3.6/dist-packages (from tensorflow-gpu) (3.1.0)\n",
            "Requirement already satisfied: grpcio>=1.8.6 in /usr/local/lib/python3.6/dist-packages (from tensorflow-gpu) (1.15.0)\n",
            "Requirement already satisfied: gast==0.2.2 in /usr/local/lib/python3.6/dist-packages (from tensorflow-gpu) (0.2.2)\n",
            "Collecting tensorflow-estimator<2.1.0,>=2.0.0 (from tensorflow-gpu)\n",
            "\u001b[?25l  Downloading https://files.pythonhosted.org/packages/95/00/5e6cdf86190a70d7382d320b2b04e4ff0f8191a37d90a422a2f8ff0705bb/tensorflow_estimator-2.0.0-py2.py3-none-any.whl (449kB)\n",
            "\u001b[K     |████████████████████████████████| 450kB 45.0MB/s \n",
            "\u001b[?25hRequirement already satisfied: werkzeug>=0.11.15 in /usr/local/lib/python3.6/dist-packages (from tensorboard<2.1.0,>=2.0.0->tensorflow-gpu) (0.16.0)\n",
            "Requirement already satisfied: markdown>=2.6.8 in /usr/local/lib/python3.6/dist-packages (from tensorboard<2.1.0,>=2.0.0->tensorflow-gpu) (3.1.1)\n",
            "Requirement already satisfied: setuptools>=41.0.0 in /usr/local/lib/python3.6/dist-packages (from tensorboard<2.1.0,>=2.0.0->tensorflow-gpu) (41.2.0)\n",
            "Requirement already satisfied: h5py in /usr/local/lib/python3.6/dist-packages (from keras-applications>=1.0.8->tensorflow-gpu) (2.8.0)\n",
            "Installing collected packages: tensorboard, tensorflow-estimator, tensorflow-gpu\n",
            "  Found existing installation: tensorboard 1.15.0\n",
            "    Uninstalling tensorboard-1.15.0:\n",
            "      Successfully uninstalled tensorboard-1.15.0\n",
            "  Found existing installation: tensorflow-estimator 1.15.1\n",
            "    Uninstalling tensorflow-estimator-1.15.1:\n",
            "      Successfully uninstalled tensorflow-estimator-1.15.1\n",
            "Successfully installed tensorboard-2.0.0 tensorflow-estimator-2.0.0 tensorflow-gpu-2.0.0\n"
          ],
          "name": "stdout"
        }
      ]
    },
    {
      "cell_type": "markdown",
      "metadata": {
        "id": "BN2E5VTMU3Lg",
        "colab_type": "text"
      },
      "source": [
        "# **Importing Libraries and setting Global Variables**"
      ]
    },
    {
      "cell_type": "code",
      "metadata": {
        "id": "0tjcFKtF40SL",
        "colab_type": "code",
        "colab": {}
      },
      "source": [
        "import tensorflow as tf\n",
        "from tensorflow.keras.preprocessing.sequence import pad_sequences\n",
        "from tensorflow.keras.layers import Embedding, LSTM, Dense, Dropout, Bidirectional\n",
        "from tensorflow.keras.preprocessing.text import Tokenizer\n",
        "from tensorflow.keras.models import Sequential\n",
        "from tensorflow.keras.optimizers import Adam\n",
        "from tensorflow.keras import regularizers\n",
        "import tensorflow.keras.utils as ku \n",
        "import numpy as np \n",
        "import zipfile"
      ],
      "execution_count": 0,
      "outputs": []
    },
    {
      "cell_type": "code",
      "metadata": {
        "id": "DNePVL6TaBo1",
        "colab_type": "code",
        "colab": {}
      },
      "source": [
        "artistName = \"Bruce Springsteen\""
      ],
      "execution_count": 0,
      "outputs": []
    },
    {
      "cell_type": "markdown",
      "metadata": {
        "id": "41RPdbbbQ4MB",
        "colab_type": "text"
      },
      "source": [
        "# **Dataset**\n",
        "\n",
        "The dataset is sourced from https://www.kaggle.com/mousehead/songlyrics . Its a compilation of 57650 songs by various artists. As part of the experiment, we are going to pick an artist by name \"Bruce Springsteen\" (https://en.wikipedia.org/wiki/Bruce_Springsteen), crawl his songs, build a RNN model and generate new lyrics using a seed text if he were to sing a new song. I recently happened to watch the movie  \"Blended by the Light\" (https://en.wikipedia.org/wiki/Blinded_by_the_Light_(2019_film)) on netflix which has Bruce Springsteen play the insipration role. On a personal note I loved his rendering of \"Born In the USA\" so decided to pick the BOSS as the artist for analysis."
      ]
    },
    {
      "cell_type": "code",
      "metadata": {
        "id": "aZWYlca0laeR",
        "colab_type": "code",
        "outputId": "3c060256-a3bd-4b61-e6c4-89651cb7c366",
        "colab": {
          "base_uri": "https://localhost:8080/",
          "height": 309
        }
      },
      "source": [
        "# Downloading the data from github\n",
        "!wget --no-check-certificate \"https://github.com/datasigntist/datasetsForTraining/raw/master/songlyrics.zip\" -O \"/tmp/songlyrics.zip\"\n",
        "  \n",
        "local_zip = '/tmp/songlyrics.zip'\n",
        "zip_ref   = zipfile.ZipFile(local_zip, 'r')\n",
        "zip_ref.extractall('/tmp')\n",
        "zip_ref.close()"
      ],
      "execution_count": 0,
      "outputs": [
        {
          "output_type": "stream",
          "text": [
            "--2019-10-10 06:43:17--  https://github.com/datasigntist/datasetsForTraining/raw/master/songlyrics.zip\n",
            "Resolving github.com (github.com)... 140.82.113.4\n",
            "Connecting to github.com (github.com)|140.82.113.4|:443... connected.\n",
            "HTTP request sent, awaiting response... 302 Found\n",
            "Location: https://raw.githubusercontent.com/datasigntist/datasetsForTraining/master/songlyrics.zip [following]\n",
            "--2019-10-10 06:43:17--  https://raw.githubusercontent.com/datasigntist/datasetsForTraining/master/songlyrics.zip\n",
            "Resolving raw.githubusercontent.com (raw.githubusercontent.com)... 151.101.0.133, 151.101.64.133, 151.101.128.133, ...\n",
            "Connecting to raw.githubusercontent.com (raw.githubusercontent.com)|151.101.0.133|:443... connected.\n",
            "HTTP request sent, awaiting response... 200 OK\n",
            "Length: 21988108 (21M) [application/zip]\n",
            "Saving to: ‘/tmp/songlyrics.zip’\n",
            "\n",
            "/tmp/songlyrics.zip 100%[===================>]  20.97M   102MB/s    in 0.2s    \n",
            "\n",
            "2019-10-10 06:43:18 (102 MB/s) - ‘/tmp/songlyrics.zip’ saved [21988108/21988108]\n",
            "\n"
          ],
          "name": "stdout"
        }
      ]
    },
    {
      "cell_type": "code",
      "metadata": {
        "id": "G8Qnse81zV26",
        "colab_type": "code",
        "colab": {}
      },
      "source": [
        "import pandas as pd\n",
        "\n",
        "# Read the data file\n",
        "songdata = pd.read_csv('/tmp/songdata.csv')"
      ],
      "execution_count": 0,
      "outputs": []
    },
    {
      "cell_type": "code",
      "metadata": {
        "id": "IC_7WWXz1JB3",
        "colab_type": "code",
        "outputId": "a5973dc2-918f-4733-885b-177481c9ec34",
        "colab": {
          "base_uri": "https://localhost:8080/",
          "height": 204
        }
      },
      "source": [
        "# Browse the data\n",
        "\n",
        "songdata.head()"
      ],
      "execution_count": 0,
      "outputs": [
        {
          "output_type": "execute_result",
          "data": {
            "text/html": [
              "<div>\n",
              "<style scoped>\n",
              "    .dataframe tbody tr th:only-of-type {\n",
              "        vertical-align: middle;\n",
              "    }\n",
              "\n",
              "    .dataframe tbody tr th {\n",
              "        vertical-align: top;\n",
              "    }\n",
              "\n",
              "    .dataframe thead th {\n",
              "        text-align: right;\n",
              "    }\n",
              "</style>\n",
              "<table border=\"1\" class=\"dataframe\">\n",
              "  <thead>\n",
              "    <tr style=\"text-align: right;\">\n",
              "      <th></th>\n",
              "      <th>artist</th>\n",
              "      <th>song</th>\n",
              "      <th>link</th>\n",
              "      <th>text</th>\n",
              "    </tr>\n",
              "  </thead>\n",
              "  <tbody>\n",
              "    <tr>\n",
              "      <th>0</th>\n",
              "      <td>ABBA</td>\n",
              "      <td>Ahe's My Kind Of Girl</td>\n",
              "      <td>/a/abba/ahes+my+kind+of+girl_20598417.html</td>\n",
              "      <td>Look at her face, it's a wonderful face  \\nAnd...</td>\n",
              "    </tr>\n",
              "    <tr>\n",
              "      <th>1</th>\n",
              "      <td>ABBA</td>\n",
              "      <td>Andante, Andante</td>\n",
              "      <td>/a/abba/andante+andante_20002708.html</td>\n",
              "      <td>Take it easy with me, please  \\nTouch me gentl...</td>\n",
              "    </tr>\n",
              "    <tr>\n",
              "      <th>2</th>\n",
              "      <td>ABBA</td>\n",
              "      <td>As Good As New</td>\n",
              "      <td>/a/abba/as+good+as+new_20003033.html</td>\n",
              "      <td>I'll never know why I had to go  \\nWhy I had t...</td>\n",
              "    </tr>\n",
              "    <tr>\n",
              "      <th>3</th>\n",
              "      <td>ABBA</td>\n",
              "      <td>Bang</td>\n",
              "      <td>/a/abba/bang_20598415.html</td>\n",
              "      <td>Making somebody happy is a question of give an...</td>\n",
              "    </tr>\n",
              "    <tr>\n",
              "      <th>4</th>\n",
              "      <td>ABBA</td>\n",
              "      <td>Bang-A-Boomerang</td>\n",
              "      <td>/a/abba/bang+a+boomerang_20002668.html</td>\n",
              "      <td>Making somebody happy is a question of give an...</td>\n",
              "    </tr>\n",
              "  </tbody>\n",
              "</table>\n",
              "</div>"
            ],
            "text/plain": [
              "  artist  ...                                               text\n",
              "0   ABBA  ...  Look at her face, it's a wonderful face  \\nAnd...\n",
              "1   ABBA  ...  Take it easy with me, please  \\nTouch me gentl...\n",
              "2   ABBA  ...  I'll never know why I had to go  \\nWhy I had t...\n",
              "3   ABBA  ...  Making somebody happy is a question of give an...\n",
              "4   ABBA  ...  Making somebody happy is a question of give an...\n",
              "\n",
              "[5 rows x 4 columns]"
            ]
          },
          "metadata": {
            "tags": []
          },
          "execution_count": 8
        }
      ]
    },
    {
      "cell_type": "code",
      "metadata": {
        "id": "fE3heSfY1SOC",
        "colab_type": "code",
        "colab": {}
      },
      "source": [
        "# Filter the dataset by all songs by Artist\n",
        "\n",
        "songsByArtist = songdata[songdata[\"artist\"]==artistName]"
      ],
      "execution_count": 0,
      "outputs": []
    },
    {
      "cell_type": "code",
      "metadata": {
        "id": "zkK-V6uW3PRc",
        "colab_type": "code",
        "outputId": "9a201709-4647-4a4e-e6e3-be90a4856c3b",
        "colab": {
          "base_uri": "https://localhost:8080/",
          "height": 289
        }
      },
      "source": [
        "# Browse the songs by Artist\n",
        "\n",
        "songsByArtist.head()"
      ],
      "execution_count": 0,
      "outputs": [
        {
          "output_type": "execute_result",
          "data": {
            "text/html": [
              "<div>\n",
              "<style scoped>\n",
              "    .dataframe tbody tr th:only-of-type {\n",
              "        vertical-align: middle;\n",
              "    }\n",
              "\n",
              "    .dataframe tbody tr th {\n",
              "        vertical-align: top;\n",
              "    }\n",
              "\n",
              "    .dataframe thead th {\n",
              "        text-align: right;\n",
              "    }\n",
              "</style>\n",
              "<table border=\"1\" class=\"dataframe\">\n",
              "  <thead>\n",
              "    <tr style=\"text-align: right;\">\n",
              "      <th></th>\n",
              "      <th>artist</th>\n",
              "      <th>song</th>\n",
              "      <th>link</th>\n",
              "      <th>text</th>\n",
              "    </tr>\n",
              "  </thead>\n",
              "  <tbody>\n",
              "    <tr>\n",
              "      <th>2002</th>\n",
              "      <td>Bruce Springsteen</td>\n",
              "      <td>30 Days Out</td>\n",
              "      <td>/b/bruce+springsteen/30+days+out_20025285.html</td>\n",
              "      <td>We fell in love and I made you the world  \\nI ...</td>\n",
              "    </tr>\n",
              "    <tr>\n",
              "      <th>2003</th>\n",
              "      <td>Bruce Springsteen</td>\n",
              "      <td>Action In The Streets</td>\n",
              "      <td>/b/bruce+springsteen/action+in+the+streets_200...</td>\n",
              "      <td>Well don't move  \\nWhy don't you listen to wha...</td>\n",
              "    </tr>\n",
              "    <tr>\n",
              "      <th>2004</th>\n",
              "      <td>Bruce Springsteen</td>\n",
              "      <td>All I'm Thinkin' About</td>\n",
              "      <td>/b/bruce+springsteen/all+im+thinkin+about_1005...</td>\n",
              "      <td>Blind man wavin' by the side of the road  \\nI'...</td>\n",
              "    </tr>\n",
              "    <tr>\n",
              "      <th>2005</th>\n",
              "      <td>Bruce Springsteen</td>\n",
              "      <td>All Night Long</td>\n",
              "      <td>/b/bruce+springsteen/all+night+long_10052078.html</td>\n",
              "      <td>I was born saved in heaven  \\nIt was nothing l...</td>\n",
              "    </tr>\n",
              "    <tr>\n",
              "      <th>2006</th>\n",
              "      <td>Bruce Springsteen</td>\n",
              "      <td>All That Heaven Will Allow</td>\n",
              "      <td>/b/bruce+springsteen/all+that+heaven+will+allo...</td>\n",
              "      <td>I got a dollar in my pocket  \\nThere ain't a c...</td>\n",
              "    </tr>\n",
              "  </tbody>\n",
              "</table>\n",
              "</div>"
            ],
            "text/plain": [
              "                 artist  ...                                               text\n",
              "2002  Bruce Springsteen  ...  We fell in love and I made you the world  \\nI ...\n",
              "2003  Bruce Springsteen  ...  Well don't move  \\nWhy don't you listen to wha...\n",
              "2004  Bruce Springsteen  ...  Blind man wavin' by the side of the road  \\nI'...\n",
              "2005  Bruce Springsteen  ...  I was born saved in heaven  \\nIt was nothing l...\n",
              "2006  Bruce Springsteen  ...  I got a dollar in my pocket  \\nThere ain't a c...\n",
              "\n",
              "[5 rows x 4 columns]"
            ]
          },
          "metadata": {
            "tags": []
          },
          "execution_count": 10
        }
      ]
    },
    {
      "cell_type": "code",
      "metadata": {
        "id": "b4JEZT943UKT",
        "colab_type": "code",
        "outputId": "63148488-4108-4664-ff09-5ea15c200966",
        "colab": {
          "base_uri": "https://localhost:8080/",
          "height": 34
        }
      },
      "source": [
        "# Browse the songs by Artist \n",
        "\n",
        "print(\"Total number of songs by \", artistName, \":\",songsByArtist.shape[0])"
      ],
      "execution_count": 0,
      "outputs": [
        {
          "output_type": "stream",
          "text": [
            "Total number of songs by  Bruce Springsteen : 175\n"
          ],
          "name": "stdout"
        }
      ]
    },
    {
      "cell_type": "markdown",
      "metadata": {
        "id": "sPvFzKa7V99i",
        "colab_type": "text"
      },
      "source": [
        "## **Compile all the songs of Bruce Springsteen into 1 single list**\n",
        "\n",
        "Compile all the songs of Bruce Springsteen into 1 single list. In the process\n",
        "\n",
        "*   Get rid of words like [chorus:] that do not mean anything\n",
        "*   Strip the empty sapces, remove any empty lines and get rid of specical characters like \"(\" , \")\" , \"\\\", \"/\" , \".\", \",\",\":\"\n",
        "\n",
        "\n",
        "\n",
        "\n"
      ]
    },
    {
      "cell_type": "code",
      "metadata": {
        "id": "UqebLr7RdPr2",
        "colab_type": "code",
        "colab": {}
      },
      "source": [
        "stopWords = [\"(\",\")\",\"/\",\"\\\\\",\".\",\",\",\":\",'\"']\n",
        "wordsTobeRemoved = [\"[chorus:]\"]"
      ],
      "execution_count": 0,
      "outputs": []
    },
    {
      "cell_type": "code",
      "metadata": {
        "id": "MMDhxEEs3iSJ",
        "colab_type": "code",
        "colab": {}
      },
      "source": [
        "# Prepare the dataset\n",
        "\n",
        "databyArtist = \"\\n\".join(songsByArtist[\"text\"])"
      ],
      "execution_count": 0,
      "outputs": []
    },
    {
      "cell_type": "code",
      "metadata": {
        "id": "_rs0Qvee4-Yi",
        "colab_type": "code",
        "colab": {}
      },
      "source": [
        "corpus = databyArtist.lower().split(\"\\n\")"
      ],
      "execution_count": 0,
      "outputs": []
    },
    {
      "cell_type": "code",
      "metadata": {
        "id": "lRygz1bHCyry",
        "colab_type": "code",
        "outputId": "657798d3-6abc-4f6e-d37c-8e1276714699",
        "colab": {
          "base_uri": "https://localhost:8080/",
          "height": 187
        }
      },
      "source": [
        "corpus[0:10]"
      ],
      "execution_count": 0,
      "outputs": [
        {
          "output_type": "execute_result",
          "data": {
            "text/plain": [
              "['we fell in love and i made you the world  ',\n",
              " \"i spent all my time tryin' to satisfy you, girl  \",\n",
              " \"just one thing that i can't figure out  \",\n",
              " 'closer i get, farther baby i am out  ',\n",
              " '  ',\n",
              " '30 days, 30 days out  ',\n",
              " \"well i'm six days runnin' but i'm 30 days out  \",\n",
              " '30 days, 30 days out  ',\n",
              " 'with every kiss you leave a little shadow of doubt  ',\n",
              " '  ']"
            ]
          },
          "metadata": {
            "tags": []
          },
          "execution_count": 15
        }
      ]
    },
    {
      "cell_type": "code",
      "metadata": {
        "id": "njcRZ5USehQp",
        "colab_type": "code",
        "colab": {}
      },
      "source": [
        "for loop in range(len(wordsTobeRemoved)):\n",
        "  corpus = [line.replace(wordsTobeRemoved[loop],\"\") for line in corpus]"
      ],
      "execution_count": 0,
      "outputs": []
    },
    {
      "cell_type": "code",
      "metadata": {
        "id": "KUOhEZhce9cA",
        "colab_type": "code",
        "outputId": "a3df0932-f93e-42f4-f678-ce9a99c25dca",
        "colab": {
          "base_uri": "https://localhost:8080/",
          "height": 153
        }
      },
      "source": [
        "for loop in range(len(stopWords)):\n",
        "  print(stopWords[loop])\n",
        "  corpus = [line.replace(stopWords[loop],\"\") for line in corpus]"
      ],
      "execution_count": 0,
      "outputs": [
        {
          "output_type": "stream",
          "text": [
            "(\n",
            ")\n",
            "/\n",
            "\\\n",
            ".\n",
            ",\n",
            ":\n",
            "\"\n"
          ],
          "name": "stdout"
        }
      ]
    },
    {
      "cell_type": "code",
      "metadata": {
        "id": "aFhf9ZLWap-7",
        "colab_type": "code",
        "colab": {}
      },
      "source": [
        "corpus = [elem.strip() for elem in corpus if elem.strip()!=\"\"]"
      ],
      "execution_count": 0,
      "outputs": []
    },
    {
      "cell_type": "code",
      "metadata": {
        "id": "76H_nzqT7jjE",
        "colab_type": "code",
        "outputId": "e65fcb9a-6bb9-4dbb-8942-4d81765fc48d",
        "colab": {
          "base_uri": "https://localhost:8080/",
          "height": 34
        }
      },
      "source": [
        "print(\"Total number of lines : \",len(corpus))"
      ],
      "execution_count": 0,
      "outputs": [
        {
          "output_type": "stream",
          "text": [
            "Total number of lines :  5788\n"
          ],
          "name": "stdout"
        }
      ]
    },
    {
      "cell_type": "markdown",
      "metadata": {
        "id": "_unqwhVKXHIW",
        "colab_type": "text"
      },
      "source": [
        "# Processing the data using tensorflow"
      ]
    },
    {
      "cell_type": "markdown",
      "metadata": {
        "id": "dIuGzP6klLXn",
        "colab_type": "text"
      },
      "source": [
        "## **Applying Tokenizer**"
      ]
    },
    {
      "cell_type": "markdown",
      "metadata": {
        "id": "rAlQlZ3EYjIU",
        "colab_type": "text"
      },
      "source": [
        "The fit_on_text function takes the corpus as the input, breaks the corpus into invidual words and assigns an unique number to each of the words. OOV or Out of Vocabulary is assigned for missing words. For each line in the corpus tokenizer generate a sequence of numbers through texts_to_sequences. The number for a specific word reflects what was generated in the previous step through fit_on_texts. \n",
        "\n",
        "For example if the sentence was \"Shyam is a good boy\", the texts_to_sequences generates an equivalent sequence like \"1234 45 48 90 1220\".\n",
        "\n",
        "Here \n",
        "*   1234 is a representation for \"Shyam\"\n",
        "*   45 is a representation for \"is\"\n",
        "*   48 is a representation for \"a\"\n",
        "*   90 is a representation for \"good\"\n",
        "*   1220 is a representation for \"boy\"\n",
        "\n",
        "Each line in the corpus is processed to generate a sequence of numbers as explained above."
      ]
    },
    {
      "cell_type": "code",
      "metadata": {
        "id": "Jd8ATfbH5tMM",
        "colab_type": "code",
        "colab": {}
      },
      "source": [
        "tokenizer = Tokenizer(oov_token=\"OOV\")\n",
        "tokenizer.fit_on_texts(corpus)\n",
        "total_words = len(tokenizer.word_index) + 1"
      ],
      "execution_count": 0,
      "outputs": []
    },
    {
      "cell_type": "code",
      "metadata": {
        "id": "LgbpMQtz5vCz",
        "colab_type": "code",
        "outputId": "4d551b4e-cc09-4480-a7f4-936e2de3cf1f",
        "colab": {
          "base_uri": "https://localhost:8080/",
          "height": 34
        }
      },
      "source": [
        "print(\"Total number of words\", total_words)"
      ],
      "execution_count": 0,
      "outputs": [
        {
          "output_type": "stream",
          "text": [
            "Total number of words 4221\n"
          ],
          "name": "stdout"
        }
      ]
    },
    {
      "cell_type": "code",
      "metadata": {
        "id": "3skHVqnr6IVC",
        "colab_type": "code",
        "colab": {}
      },
      "source": [
        "# Reverse the word index\n",
        "reverseWordIndex = {v: k for k, v in tokenizer.word_index.items()}"
      ],
      "execution_count": 0,
      "outputs": []
    },
    {
      "cell_type": "markdown",
      "metadata": {
        "id": "bMOYD-WRlC5m",
        "colab_type": "text"
      },
      "source": [
        "## **Generating n-gram sequence**"
      ]
    },
    {
      "cell_type": "markdown",
      "metadata": {
        "id": "Sjd3PCiNYKGp",
        "colab_type": "text"
      },
      "source": [
        "In addition to the above step for each sequence, a ngram sequence is generated using the numbers, for instance\n",
        "\n",
        "*   Shyam is\n",
        "*   Shyam is a \n",
        "*   Shyam is a good \n",
        "*   Shyam is a good boy\n",
        "\n",
        "Here words are being used here for illustration purposes. Ideally the words are represented by numbers.\n"
      ]
    },
    {
      "cell_type": "code",
      "metadata": {
        "id": "H5hnuu7177BE",
        "colab_type": "code",
        "colab": {}
      },
      "source": [
        "input_sequences = []\n",
        "for line in corpus:\n",
        "  token_list = tokenizer.texts_to_sequences([line])[0]\n",
        "  for i in range(1,len(token_list)):\n",
        "    n_gram_sequence = token_list[:i+1]\n",
        "    input_sequences.append(n_gram_sequence)"
      ],
      "execution_count": 0,
      "outputs": []
    },
    {
      "cell_type": "code",
      "metadata": {
        "id": "Rs5MWDzn-Dxb",
        "colab_type": "code",
        "outputId": "4cfc8008-6930-4fc1-8a0c-616371ff70a7",
        "colab": {
          "base_uri": "https://localhost:8080/",
          "height": 34
        }
      },
      "source": [
        "print(\"Total number of generated sequences \",len(input_sequences))"
      ],
      "execution_count": 0,
      "outputs": [
        {
          "output_type": "stream",
          "text": [
            "Total number of generated sequences  37630\n"
          ],
          "name": "stdout"
        }
      ]
    },
    {
      "cell_type": "code",
      "metadata": {
        "id": "wMoja6ff-JAq",
        "colab_type": "code",
        "outputId": "ce61159d-5565-4fcf-90af-c54130352f24",
        "colab": {
          "base_uri": "https://localhost:8080/",
          "height": 34
        }
      },
      "source": [
        "input_sequences[0:4]"
      ],
      "execution_count": 0,
      "outputs": [
        {
          "output_type": "execute_result",
          "data": {
            "text/plain": [
              "[[27, 309], [27, 309, 8], [27, 309, 8, 37], [27, 309, 8, 37, 4]]"
            ]
          },
          "metadata": {
            "tags": []
          },
          "execution_count": 18
        }
      ]
    },
    {
      "cell_type": "code",
      "metadata": {
        "id": "l0OFigOj-WMU",
        "colab_type": "code",
        "outputId": "b88d41e9-38ef-4570-9fd4-c461bbe6930b",
        "colab": {
          "base_uri": "https://localhost:8080/",
          "height": 34
        }
      },
      "source": [
        "print(reverseWordIndex[27],' ',reverseWordIndex[309],' ',reverseWordIndex[8],' ',reverseWordIndex[37])"
      ],
      "execution_count": 0,
      "outputs": [
        {
          "output_type": "stream",
          "text": [
            "we   fell   in   love\n"
          ],
          "name": "stdout"
        }
      ]
    },
    {
      "cell_type": "markdown",
      "metadata": {
        "id": "JUkx1F3rlU8s",
        "colab_type": "text"
      },
      "source": [
        "## **Padding the Sequence to maximum length**"
      ]
    },
    {
      "cell_type": "code",
      "metadata": {
        "id": "cwpmY2cg-eE7",
        "colab_type": "code",
        "colab": {}
      },
      "source": [
        "max_len_sequence = max([len(x) for x in input_sequences])"
      ],
      "execution_count": 0,
      "outputs": []
    },
    {
      "cell_type": "code",
      "metadata": {
        "id": "YVSgEuNH-jxO",
        "colab_type": "code",
        "outputId": "715553b2-a86c-432e-d842-91a33a6968ba",
        "colab": {
          "base_uri": "https://localhost:8080/",
          "height": 34
        }
      },
      "source": [
        "print(\"Maximum length of sequence is \", max_len_sequence)"
      ],
      "execution_count": 0,
      "outputs": [
        {
          "output_type": "stream",
          "text": [
            "Maximum length of sequence is  18\n"
          ],
          "name": "stdout"
        }
      ]
    },
    {
      "cell_type": "markdown",
      "metadata": {
        "id": "LqvxYXT6c3xO",
        "colab_type": "text"
      },
      "source": [
        "The ngram sequence generated in the previous step is of differing lengths. In order to compile them as single matrix, its essential to pad them with 0s. The shape of the matrix is equated to the length of the maximum sequence. Lets take the previous example \n",
        "\n",
        "*   Shyam is\n",
        "*   Shyam is a \n",
        "*   Shyam is a good \n",
        "*   Shyam is a good boy\n",
        "\n",
        "Assuming thats the only line the max length is 5 words hence each entry is padded with 0 to fill in the remaining pieces\n",
        "\n",
        "*   **0 0 0** Shyam is\n",
        "*   **0 0** Shyam is a \n",
        "*   **0** Shyam is a good \n",
        "*   Shyam is a good boy\n",
        "\n",
        "As you can see all the sequences are padded to the same length. The words being used here is for illustration purposes. Ideally the words are represented by numbers as shown in the below step.\n"
      ]
    },
    {
      "cell_type": "code",
      "metadata": {
        "id": "cbqFpzA9_EN0",
        "colab_type": "code",
        "colab": {}
      },
      "source": [
        "input_sequences = np.array(pad_sequences(input_sequences,maxlen=max_len_sequence,padding=\"pre\"))"
      ],
      "execution_count": 0,
      "outputs": []
    },
    {
      "cell_type": "code",
      "metadata": {
        "id": "TUYiUurI_bpK",
        "colab_type": "code",
        "outputId": "bda43950-9b58-45ba-dd6e-c9543e1beff3",
        "colab": {
          "base_uri": "https://localhost:8080/",
          "height": 136
        }
      },
      "source": [
        "# Get a glimpse of padded sequences\n",
        "print(input_sequences)"
      ],
      "execution_count": 0,
      "outputs": [
        {
          "output_type": "stream",
          "text": [
            "[[  0   0   0 ...   0  27 309]\n",
            " [  0   0   0 ...  27 309   8]\n",
            " [  0   0   0 ... 309   8  37]\n",
            " ...\n",
            " [  0   0   0 ... 515  30   3]\n",
            " [  0   0   0 ...  30   3  36]\n",
            " [  0   0   0 ...   3  36 728]]\n"
          ],
          "name": "stdout"
        }
      ]
    },
    {
      "cell_type": "markdown",
      "metadata": {
        "id": "HFRcxYTjldpC",
        "colab_type": "text"
      },
      "source": [
        "## **Defining the input and the labels**"
      ]
    },
    {
      "cell_type": "markdown",
      "metadata": {
        "id": "PMIJ4FJ7fCgu",
        "colab_type": "text"
      },
      "source": [
        "Now that the sequences have been made uniform in length, its time to split the data into X and labels. Here the label is the last datapoint in the sequence and everything else is X.  "
      ]
    },
    {
      "cell_type": "code",
      "metadata": {
        "id": "I6iQT9BT_dSv",
        "colab_type": "code",
        "colab": {}
      },
      "source": [
        "xs = input_sequences[:,:-1]\n",
        "labels = input_sequences[:,-1]"
      ],
      "execution_count": 0,
      "outputs": []
    },
    {
      "cell_type": "code",
      "metadata": {
        "id": "ODNyP9Kw_xhC",
        "colab_type": "code",
        "outputId": "fce1b16b-3dc1-4ea9-8ca5-10c86e26face",
        "colab": {
          "base_uri": "https://localhost:8080/",
          "height": 153
        }
      },
      "source": [
        "# View the X\n",
        "print(xs)\n",
        "# View the labels\n",
        "print(labels)"
      ],
      "execution_count": 0,
      "outputs": [
        {
          "output_type": "stream",
          "text": [
            "[[  0   0   0 ...   0   0  27]\n",
            " [  0   0   0 ...   0  27 309]\n",
            " [  0   0   0 ...  27 309   8]\n",
            " ...\n",
            " [  0   0   0 ...   3 515  30]\n",
            " [  0   0   0 ... 515  30   3]\n",
            " [  0   0   0 ...  30   3  36]]\n",
            "[309   8  37 ...   3  36 728]\n"
          ],
          "name": "stdout"
        }
      ]
    },
    {
      "cell_type": "markdown",
      "metadata": {
        "id": "81cj7dxzlqOq",
        "colab_type": "text"
      },
      "source": [
        "## **Converting the labels to one hot encoding**"
      ]
    },
    {
      "cell_type": "markdown",
      "metadata": {
        "id": "SG2qCkSEh_U2",
        "colab_type": "text"
      },
      "source": [
        "The labels identified in the last step is converted to a one hot encoding through the function to_categorical. The length of the one hot encoding is equivalent to the total number of words."
      ]
    },
    {
      "cell_type": "code",
      "metadata": {
        "id": "U2r_ZClG_3Sd",
        "colab_type": "code",
        "colab": {}
      },
      "source": [
        "ys = tf.keras.utils.to_categorical(labels,num_classes=total_words)"
      ],
      "execution_count": 0,
      "outputs": []
    },
    {
      "cell_type": "code",
      "metadata": {
        "id": "lyr7MT35HxaU",
        "colab_type": "code",
        "outputId": "ac2e830d-3a9e-431c-f99d-b01b263de3d4",
        "colab": {
          "base_uri": "https://localhost:8080/",
          "height": 136
        }
      },
      "source": [
        "# Print the one hot encoding\n",
        "print(ys)"
      ],
      "execution_count": 0,
      "outputs": [
        {
          "output_type": "stream",
          "text": [
            "[[0. 0. 0. ... 0. 0. 0.]\n",
            " [0. 0. 0. ... 0. 0. 0.]\n",
            " [0. 0. 0. ... 0. 0. 0.]\n",
            " ...\n",
            " [0. 0. 0. ... 0. 0. 0.]\n",
            " [0. 0. 0. ... 0. 0. 0.]\n",
            " [0. 0. 0. ... 0. 0. 0.]]\n"
          ],
          "name": "stdout"
        }
      ]
    },
    {
      "cell_type": "code",
      "metadata": {
        "id": "5yj--I85AcEx",
        "colab_type": "code",
        "outputId": "a2fad3e6-fba6-4a43-e28d-926f9094c7c1",
        "colab": {
          "base_uri": "https://localhost:8080/",
          "height": 34
        }
      },
      "source": [
        "np.argmax(ys[0])\n",
        "print(ys[0][309])"
      ],
      "execution_count": 0,
      "outputs": [
        {
          "output_type": "stream",
          "text": [
            "1.0\n"
          ],
          "name": "stdout"
        }
      ]
    },
    {
      "cell_type": "markdown",
      "metadata": {
        "id": "8QoX-nZtmIoK",
        "colab_type": "text"
      },
      "source": [
        "## **Building the model**"
      ]
    },
    {
      "cell_type": "code",
      "metadata": {
        "id": "Oo99ovgkmSGk",
        "colab_type": "code",
        "colab": {}
      },
      "source": [
        "embeddingSize = 500\n",
        "nodeCount = 150"
      ],
      "execution_count": 0,
      "outputs": []
    },
    {
      "cell_type": "code",
      "metadata": {
        "id": "2vyyOiCvH_oM",
        "colab_type": "code",
        "outputId": "ef532e41-5942-4bc6-9fb5-bfc69ea2a983",
        "colab": {
          "base_uri": "https://localhost:8080/",
          "height": 374
        }
      },
      "source": [
        "model = Sequential()\n",
        "model.add(Embedding(total_words, embeddingSize, input_length=max_len_sequence-1))\n",
        "model.add(Bidirectional(LSTM(nodeCount, return_sequences = True)))\n",
        "model.add(Bidirectional(LSTM(nodeCount, return_sequences = True)))\n",
        "model.add(LSTM(nodeCount))\n",
        "model.add(Dense(total_words, activation='relu'))\n",
        "model.add(Dense(total_words, activation='softmax'))\n",
        "model.compile(loss='categorical_crossentropy', optimizer='adam', metrics=['accuracy'])\n",
        "print(model.summary())"
      ],
      "execution_count": 0,
      "outputs": [
        {
          "output_type": "stream",
          "text": [
            "Model: \"sequential\"\n",
            "_________________________________________________________________\n",
            "Layer (type)                 Output Shape              Param #   \n",
            "=================================================================\n",
            "embedding (Embedding)        (None, 17, 500)           2110500   \n",
            "_________________________________________________________________\n",
            "bidirectional (Bidirectional (None, 17, 300)           781200    \n",
            "_________________________________________________________________\n",
            "bidirectional_1 (Bidirection (None, 17, 300)           541200    \n",
            "_________________________________________________________________\n",
            "lstm_2 (LSTM)                (None, 150)               270600    \n",
            "_________________________________________________________________\n",
            "dense (Dense)                (None, 4221)              637371    \n",
            "_________________________________________________________________\n",
            "dense_1 (Dense)              (None, 4221)              17821062  \n",
            "=================================================================\n",
            "Total params: 22,161,933\n",
            "Trainable params: 22,161,933\n",
            "Non-trainable params: 0\n",
            "_________________________________________________________________\n",
            "None\n"
          ],
          "name": "stdout"
        }
      ]
    },
    {
      "cell_type": "markdown",
      "metadata": {
        "id": "sZTn63hjtWU4",
        "colab_type": "text"
      },
      "source": [
        "## **Embedding Analysis**"
      ]
    },
    {
      "cell_type": "code",
      "metadata": {
        "id": "jFlboCuEtcFq",
        "colab_type": "code",
        "outputId": "5706d707-1f4d-4183-e12a-2e9715e00258",
        "colab": {
          "base_uri": "https://localhost:8080/",
          "height": 34
        }
      },
      "source": [
        "e = model.layers[0]\n",
        "weights = e.get_weights()[0]\n",
        "print(weights.shape) # shape: (vocab_size, embedding_dim)\n",
        "word_index = tokenizer.word_index"
      ],
      "execution_count": 0,
      "outputs": [
        {
          "output_type": "stream",
          "text": [
            "(4221, 500)\n"
          ],
          "name": "stdout"
        }
      ]
    },
    {
      "cell_type": "code",
      "metadata": {
        "id": "qRiw5YV4te3C",
        "colab_type": "code",
        "outputId": "ce761fb6-89c0-4dea-bcf3-f7d9f8e061e1",
        "colab": {
          "base_uri": "https://localhost:8080/",
          "height": 68
        }
      },
      "source": [
        "happy_key = word_index[\"happy\"]\n",
        "happy_word = reverseWordIndex[happy_key]\n",
        "print(\"Key for Happy is :\", happy_key)\n",
        "happy_embeddings = weights[happy_key]\n",
        "print('Embeddings for Happy is :-->\\n', happy_embeddings.shape)"
      ],
      "execution_count": 0,
      "outputs": [
        {
          "output_type": "stream",
          "text": [
            "Key for Happy is : 287\n",
            "Embeddings for Happy is :-->\n",
            " (500,)\n"
          ],
          "name": "stdout"
        }
      ]
    },
    {
      "cell_type": "code",
      "metadata": {
        "id": "g4uy2qXFuGGd",
        "colab_type": "code",
        "outputId": "d25d5daf-3321-44be-f55c-b909558ea3d8",
        "colab": {
          "base_uri": "https://localhost:8080/",
          "height": 68
        }
      },
      "source": [
        "glad_key = word_index[\"glad\"]\n",
        "glad_word = reverseWordIndex[glad_key]\n",
        "print(\"Key for Glad is :\", glad_key)\n",
        "glad_embeddings = weights[glad_key]\n",
        "print('Embeddings for Glad is :-->\\n', glad_embeddings.shape)"
      ],
      "execution_count": 0,
      "outputs": [
        {
          "output_type": "stream",
          "text": [
            "Key for Glad is : 1569\n",
            "Embeddings for Glad is :-->\n",
            " (500,)\n"
          ],
          "name": "stdout"
        }
      ]
    },
    {
      "cell_type": "code",
      "metadata": {
        "id": "Uhze-C5IuOYL",
        "colab_type": "code",
        "outputId": "2a1ea738-d0dc-4130-fde5-1e4a5a67fb5d",
        "colab": {
          "base_uri": "https://localhost:8080/",
          "height": 68
        }
      },
      "source": [
        "sad_key = word_index[\"sad\"]\n",
        "sad_word = reverseWordIndex[sad_key]\n",
        "print(\"Key for sad is :\", sad_key)\n",
        "sad_embeddings = weights[sad_key]\n",
        "print('Embeddings for sad is :-->\\n', sad_embeddings.shape)"
      ],
      "execution_count": 0,
      "outputs": [
        {
          "output_type": "stream",
          "text": [
            "Key for sad is : 487\n",
            "Embeddings for sad is :-->\n",
            " (500,)\n"
          ],
          "name": "stdout"
        }
      ]
    },
    {
      "cell_type": "markdown",
      "metadata": {
        "id": "P6kfudVcGtwd",
        "colab_type": "text"
      },
      "source": [
        "## **Training, Accuracy and Loss**"
      ]
    },
    {
      "cell_type": "code",
      "metadata": {
        "id": "Rb_tPYljJD8c",
        "colab_type": "code",
        "outputId": "6e685268-7ac0-4d71-b768-712569333933",
        "colab": {
          "base_uri": "https://localhost:8080/",
          "height": 884
        }
      },
      "source": [
        " history = model.fit(xs, ys, epochs=100, verbose=1)"
      ],
      "execution_count": 0,
      "outputs": [
        {
          "output_type": "stream",
          "text": [
            "Train on 37630 samples\n",
            "Epoch 1/25\n",
            "37630/37630 [==============================] - 97s 3ms/sample - loss: 0.6116 - accuracy: 0.8216\n",
            "Epoch 2/25\n",
            "37630/37630 [==============================] - 98s 3ms/sample - loss: 0.6263 - accuracy: 0.8188\n",
            "Epoch 3/25\n",
            "37630/37630 [==============================] - 98s 3ms/sample - loss: 0.6006 - accuracy: 0.8251\n",
            "Epoch 4/25\n",
            "37630/37630 [==============================] - 98s 3ms/sample - loss: 0.6012 - accuracy: 0.8254\n",
            "Epoch 5/25\n",
            "37630/37630 [==============================] - 98s 3ms/sample - loss: 0.6071 - accuracy: 0.8228\n",
            "Epoch 6/25\n",
            "37630/37630 [==============================] - 98s 3ms/sample - loss: 0.6116 - accuracy: 0.8232\n",
            "Epoch 7/25\n",
            "37630/37630 [==============================] - 98s 3ms/sample - loss: 0.6060 - accuracy: 0.8235\n",
            "Epoch 8/25\n",
            "37630/37630 [==============================] - 99s 3ms/sample - loss: 0.6028 - accuracy: 0.8242\n",
            "Epoch 9/25\n",
            "37630/37630 [==============================] - 98s 3ms/sample - loss: 0.6079 - accuracy: 0.8226\n",
            "Epoch 10/25\n",
            "37630/37630 [==============================] - 98s 3ms/sample - loss: 0.5942 - accuracy: 0.8265\n",
            "Epoch 11/25\n",
            "37630/37630 [==============================] - 98s 3ms/sample - loss: 0.6052 - accuracy: 0.8235\n",
            "Epoch 12/25\n",
            "37630/37630 [==============================] - 98s 3ms/sample - loss: 0.6108 - accuracy: 0.8222\n",
            "Epoch 13/25\n",
            "37630/37630 [==============================] - 98s 3ms/sample - loss: 0.5964 - accuracy: 0.8250\n",
            "Epoch 14/25\n",
            "37630/37630 [==============================] - 98s 3ms/sample - loss: 0.5898 - accuracy: 0.8271\n",
            "Epoch 15/25\n",
            "37630/37630 [==============================] - 99s 3ms/sample - loss: 0.6082 - accuracy: 0.8228\n",
            "Epoch 16/25\n",
            "37630/37630 [==============================] - 98s 3ms/sample - loss: 0.6054 - accuracy: 0.8232\n",
            "Epoch 17/25\n",
            "37630/37630 [==============================] - 98s 3ms/sample - loss: 0.5840 - accuracy: 0.8278\n",
            "Epoch 18/25\n",
            "37630/37630 [==============================] - 98s 3ms/sample - loss: 0.6000 - accuracy: 0.8242\n",
            "Epoch 19/25\n",
            "37630/37630 [==============================] - 98s 3ms/sample - loss: 0.5963 - accuracy: 0.8242\n",
            "Epoch 20/25\n",
            "37630/37630 [==============================] - 98s 3ms/sample - loss: 0.5902 - accuracy: 0.8258\n",
            "Epoch 21/25\n",
            "37630/37630 [==============================] - 98s 3ms/sample - loss: 0.5912 - accuracy: 0.8258\n",
            "Epoch 22/25\n",
            "37630/37630 [==============================] - 98s 3ms/sample - loss: 0.6009 - accuracy: 0.8235\n",
            "Epoch 23/25\n",
            "37630/37630 [==============================] - 98s 3ms/sample - loss: 0.5920 - accuracy: 0.8257\n",
            "Epoch 24/25\n",
            "37630/37630 [==============================] - 98s 3ms/sample - loss: 0.5967 - accuracy: 0.8257\n",
            "Epoch 25/25\n",
            "37630/37630 [==============================] - 98s 3ms/sample - loss: 0.5902 - accuracy: 0.8251\n"
          ],
          "name": "stdout"
        }
      ]
    },
    {
      "cell_type": "code",
      "metadata": {
        "colab_type": "code",
        "id": "mmoYgAZ0YL6V",
        "colab": {}
      },
      "source": [
        "import matplotlib.pyplot as plt\n",
        "\n",
        "def plot_graphs(history,string):\n",
        "  plt.plot(history.history[string])\n",
        "  plt.xlabel(\"Epochs\")\n",
        "  plt.ylabel(string)\n",
        "  plt.show()"
      ],
      "execution_count": 0,
      "outputs": []
    },
    {
      "cell_type": "code",
      "metadata": {
        "id": "cOxPQgmyyr6E",
        "colab_type": "code",
        "outputId": "d214d913-f1e2-477b-c63c-1ac98d8ca90e",
        "colab": {
          "base_uri": "https://localhost:8080/",
          "height": 283
        }
      },
      "source": [
        "plot_graphs(history,'accuracy')"
      ],
      "execution_count": 0,
      "outputs": [
        {
          "output_type": "display_data",
          "data": {
            "image/png": "[encoded data removed]",
            "text/plain": [
              "<Figure size 432x288 with 1 Axes>"
            ]
          },
          "metadata": {
            "tags": []
          }
        }
      ]
    },
    {
      "cell_type": "markdown",
      "metadata": {
        "id": "_dRpO8xpG1vs",
        "colab_type": "text"
      },
      "source": [
        "## **Predict using the trained model**"
      ]
    },
    {
      "cell_type": "markdown",
      "metadata": {
        "id": "J7UpCAhBsLbT",
        "colab_type": "text"
      },
      "source": [
        "Its time to predict the next sequence of words. Here lets assume that the seed text to be \"We loved\". Lets see what our model predicts the next 200 words to be. \n",
        "\n",
        "The seed text is preprocessed, padded and used as the input to predict the next word. Once predicted its concatenated to the original seed text and the next prediction is made. This sequence is repeated for 200 times."
      ]
    },
    {
      "cell_type": "code",
      "metadata": {
        "id": "MFA1XFW_gXJw",
        "colab_type": "code",
        "colab": {}
      },
      "source": [
        "songsByArtist = songsByArtist.reset_index()"
      ],
      "execution_count": 0,
      "outputs": []
    },
    {
      "cell_type": "code",
      "metadata": {
        "id": "kIaIHjj6YQxc",
        "colab_type": "code",
        "outputId": "fa954251-8041-4a59-db6b-faca3972e878",
        "colab": {
          "base_uri": "https://localhost:8080/",
          "height": 34
        }
      },
      "source": [
        "minLengthOfASong = int(np.min([len(songsByArtist[\"text\"][key].split(\"\\n\")) for key in range(songsByArtist.shape[0])]))\n",
        "print(\"Min Length of a Song :\",minLengthOfASong,' lines')"
      ],
      "execution_count": 0,
      "outputs": [
        {
          "output_type": "stream",
          "text": [
            "Min Length of a Song : 17  lines\n"
          ],
          "name": "stdout"
        }
      ]
    },
    {
      "cell_type": "code",
      "metadata": {
        "id": "efk3QGJWZ3Bq",
        "colab_type": "code",
        "colab": {}
      },
      "source": [
        "allSongDataByArtist = [songsByArtist[\"text\"][key].split(\"\\n\") for key in range(songsByArtist.shape[0])]"
      ],
      "execution_count": 0,
      "outputs": []
    },
    {
      "cell_type": "code",
      "metadata": {
        "id": "d5-YbNk5g8JT",
        "colab_type": "code",
        "outputId": "f2851e90-c44b-4a1d-daa3-d10d360cf47c",
        "colab": {
          "base_uri": "https://localhost:8080/",
          "height": 34
        }
      },
      "source": [
        "wordsByLines = []\n",
        "for loop1 in range(len(allSongDataByArtist)):\n",
        "  for loop2 in range(minLengthOfASong):\n",
        "    if (loop1 == 0):\n",
        "      wordsByLines.append(len([elem.strip() for elem in allSongDataByArtist[loop1][loop2].split(\" \") if elem.strip()!=\"\"]))\n",
        "    else:\n",
        "      wordsByLines[loop2] = (wordsByLines[loop2]+len([elem.strip() for elem in allSongDataByArtist[loop1][loop2].split(\" \") if elem.strip()!=\"\"]))/2\n",
        "wordsInTotal = int(sum(wordsByLines))\n",
        "print(\"Average number of words per song :\",wordsInTotal)"
      ],
      "execution_count": 0,
      "outputs": [
        {
          "output_type": "stream",
          "text": [
            "Average number of words per song : 105\n"
          ],
          "name": "stdout"
        }
      ]
    },
    {
      "cell_type": "code",
      "metadata": {
        "id": "LmDNlSZnrCWF",
        "colab_type": "code",
        "outputId": "80b87ece-7ccf-4af0-a4c7-862ab76312ad",
        "colab": {
          "base_uri": "https://localhost:8080/",
          "height": 54
        }
      },
      "source": [
        "seed_text = \"We loved\"\n",
        "next_words = wordsInTotal\n",
        "  \n",
        "for _ in range(next_words):\n",
        "\ttoken_list = tokenizer.texts_to_sequences([seed_text])[0]\n",
        "\ttoken_list = pad_sequences([token_list], maxlen=max_len_sequence-1, padding='pre')\n",
        "\tpredicted = model.predict_classes(token_list, verbose=0)\n",
        "\toutput_word = \"\"\n",
        "\tfor word, index in tokenizer.word_index.items():\n",
        "\t\tif index == predicted:\n",
        "\t\t\toutput_word = word\n",
        "\t\t\tbreak\n",
        "\tseed_text += \" \" + output_word\n",
        "print(seed_text)"
      ],
      "execution_count": 0,
      "outputs": [
        {
          "output_type": "stream",
          "text": [
            "We loved what she can just make it to the morning to end up for gold from the great beyond the other side of your leash light where the dry shells down' i threw away and politely down' i threw over the tall cornfields clouds a few lights stranger to see mouse's door flows to stone her and rapes her working in the chapel after darlin' we won't look hard opens me to this time and hard and bad at night and dry brush'll whole world down apart to fight put me off the seat and slept he awoke off the tribes of the road light dinah\n"
          ],
          "name": "stdout"
        }
      ]
    },
    {
      "cell_type": "code",
      "metadata": {
        "id": "AXLK6STHKkki",
        "colab_type": "code",
        "colab": {}
      },
      "source": [
        "newSong = [elem for elem in seed_text.split(\" \")]"
      ],
      "execution_count": 0,
      "outputs": []
    },
    {
      "cell_type": "code",
      "metadata": {
        "id": "9vSr-JSjlNj9",
        "colab_type": "code",
        "colab": {}
      },
      "source": [
        "wordsByLines = [int(elem) for elem in wordsByLines]"
      ],
      "execution_count": 0,
      "outputs": []
    },
    {
      "cell_type": "code",
      "metadata": {
        "id": "sYSNjKNXlsAQ",
        "colab_type": "code",
        "outputId": "10cf67d9-f21b-4c2a-df53-9d90dd9e4512",
        "colab": {
          "base_uri": "https://localhost:8080/",
          "height": 306
        }
      },
      "source": [
        "startPos = 0\n",
        "endPos = 0\n",
        "for loop in range(len(wordsByLines)):\n",
        "  endPos = endPos + wordsByLines[loop]\n",
        "  print(' '.join(elem for elem in newSong[startPos:endPos]))\n",
        "  startPos = endPos"
      ],
      "execution_count": 0,
      "outputs": [
        {
          "output_type": "stream",
          "text": [
            "We loved what she can just make it\n",
            "to the morning to end up for gold\n",
            "from the great beyond the other side of\n",
            "your leash light where the dry shells\n",
            "down' i\n",
            "threw away and politely\n",
            "down' i threw\n",
            "over the tall cornfields clouds a few\n",
            "lights stranger to see mouse's\n",
            "door flows to stone her and rapes\n",
            "her working in the chapel after darlin'\n",
            "we won't look hard opens me\n",
            "to this time and\n",
            "hard and bad\n",
            "at night and dry brush'll whole world\n",
            "down apart to fight\n",
            "put me off the seat\n"
          ],
          "name": "stdout"
        }
      ]
    }
  ]
}